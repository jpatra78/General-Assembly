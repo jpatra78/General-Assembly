{
 "cells": [
  {
   "cell_type": "markdown",
   "metadata": {},
   "source": [
    "<img src=\"http://imgur.com/1ZcRyrc.png\" style=\"float: left; margin: 15px; height: 80px\">\n",
    "\n",
    "# Project 3\n",
    "\n",
    "### Regression and Classification with the Ames Housing Data\n",
    "\n",
    "---\n",
    "\n",
    "You have just joined a new \"full stack\" real estate company in Ames, Iowa. The strategy of the firm is two-fold:\n",
    "- Own the entire process from the purchase of the land all the way to sale of the house, and anything in between.\n",
    "- Use statistical analysis to optimize investment and maximize return.\n",
    "\n",
    "The company is still small, and though investment is substantial the short-term goals of the company are more oriented towards purchasing existing houses and flipping them as opposed to constructing entirely new houses. That being said, the company has access to a large construction workforce operating at rock-bottom prices.\n",
    "\n",
    "This project uses the [Ames housing data recently made available on kaggle](https://www.kaggle.com/c/house-prices-advanced-regression-techniques)."
   ]
  },
  {
   "cell_type": "code",
   "execution_count": 1,
   "metadata": {
    "collapsed": true
   },
   "outputs": [],
   "source": [
    "import numpy as np\n",
    "import scipy.stats as stats\n",
    "import seaborn as sns\n",
    "import matplotlib.pyplot as plt\n",
    "import pandas as pd\n",
    "\n",
    "sns.set_style('whitegrid')\n",
    "\n",
    "#%config InlineBackend.figure_format = 'retina'\n",
    "#%matplotlib inline"
   ]
  },
  {
   "cell_type": "markdown",
   "metadata": {},
   "source": [
    "<img src=\"http://imgur.com/l5NasQj.png\" style=\"float: left; margin: 25px 15px 0px 0px; height: 25px\">\n",
    "\n",
    "## 1. Estimating the value of homes from fixed characteristics.\n",
    "\n",
    "---\n",
    "\n",
    "Your superiors have outlined this year's strategy for the company:\n",
    "1. Develop an algorithm to reliably estimate the value of residential houses based on *fixed* characteristics.\n",
    "2. Identify characteristics of houses that the company can cost-effectively change/renovate with their construction team.\n",
    "3. Evaluate the mean dollar value of different renovations.\n",
    "\n",
    "Then we can use that to buy houses that are likely to sell for more than the cost of the purchase plus renovations.\n",
    "\n",
    "Your first job is to tackle #1. You have a dataset of housing sale data with a huge amount of features identifying different aspects of the house. The full description of the data features can be found in a separate file:\n",
    "\n",
    "    housing.csv\n",
    "    data_description.txt\n",
    "    \n",
    "You need to build a reliable estimator for the price of the house given characteristics of the house that cannot be renovated. Some examples include:\n",
    "- The neighborhood\n",
    "- Square feet\n",
    "- Bedrooms, bathrooms\n",
    "- Basement and garage space\n",
    "\n",
    "and many more. \n",
    "\n",
    "Some examples of things that **ARE renovate-able:**\n",
    "- Roof and exterior features\n",
    "- \"Quality\" metrics, such as kitchen quality\n",
    "- \"Condition\" metrics, such as condition of garage\n",
    "- Heating and electrical components\n",
    "\n",
    "and generally anything you deem can be modified without having to undergo major construction on the house.\n",
    "\n",
    "---\n",
    "\n",
    "**Your goals:**\n",
    "1. Perform any cleaning, feature engineering, and EDA you deem necessary.\n",
    "- Be sure to remove any houses that are not residential from the dataset.\n",
    "- Identify **fixed** features that can predict price.\n",
    "- Train a model on pre-2010 data and evaluate its performance on the 2010 houses.\n",
    "- Characterize your model. How well does it perform? What are the best estimates of price?\n",
    "\n",
    "> **Note:** The EDA and feature engineering component to this project is not trivial! Be sure to always think critically and creatively. Justify your actions! Use the data description file!"
   ]
  },
  {
   "cell_type": "code",
   "execution_count": 3,
   "metadata": {
    "collapsed": false
   },
   "outputs": [],
   "source": [
    "# Load the data\n",
    "house = pd.read_csv('/Users/gopetro/documents/dsi/materials/project3/housing.csv')\n",
    "\n",
    "\n",
    "#Jeff is running python 2.7"
   ]
  },
  {
   "cell_type": "markdown",
   "metadata": {},
   "source": [
    "1. View, clean and conduct EDA"
   ]
  },
  {
   "cell_type": "code",
   "execution_count": 4,
   "metadata": {
    "collapsed": false
   },
   "outputs": [
    {
     "data": {
      "text/html": [
       "<div>\n",
       "<table border=\"1\" class=\"dataframe\">\n",
       "  <thead>\n",
       "    <tr style=\"text-align: right;\">\n",
       "      <th></th>\n",
       "      <th>Id</th>\n",
       "      <th>MSSubClass</th>\n",
       "      <th>MSZoning</th>\n",
       "      <th>LotFrontage</th>\n",
       "      <th>LotArea</th>\n",
       "      <th>Street</th>\n",
       "      <th>Alley</th>\n",
       "      <th>LotShape</th>\n",
       "      <th>LandContour</th>\n",
       "      <th>Utilities</th>\n",
       "      <th>...</th>\n",
       "      <th>PoolArea</th>\n",
       "      <th>PoolQC</th>\n",
       "      <th>Fence</th>\n",
       "      <th>MiscFeature</th>\n",
       "      <th>MiscVal</th>\n",
       "      <th>MoSold</th>\n",
       "      <th>YrSold</th>\n",
       "      <th>SaleType</th>\n",
       "      <th>SaleCondition</th>\n",
       "      <th>SalePrice</th>\n",
       "    </tr>\n",
       "  </thead>\n",
       "  <tbody>\n",
       "    <tr>\n",
       "      <th>0</th>\n",
       "      <td>1</td>\n",
       "      <td>60</td>\n",
       "      <td>RL</td>\n",
       "      <td>65.0</td>\n",
       "      <td>8450</td>\n",
       "      <td>Pave</td>\n",
       "      <td>NaN</td>\n",
       "      <td>Reg</td>\n",
       "      <td>Lvl</td>\n",
       "      <td>AllPub</td>\n",
       "      <td>...</td>\n",
       "      <td>0</td>\n",
       "      <td>NaN</td>\n",
       "      <td>NaN</td>\n",
       "      <td>NaN</td>\n",
       "      <td>0</td>\n",
       "      <td>2</td>\n",
       "      <td>2008</td>\n",
       "      <td>WD</td>\n",
       "      <td>Normal</td>\n",
       "      <td>208500</td>\n",
       "    </tr>\n",
       "    <tr>\n",
       "      <th>1</th>\n",
       "      <td>2</td>\n",
       "      <td>20</td>\n",
       "      <td>RL</td>\n",
       "      <td>80.0</td>\n",
       "      <td>9600</td>\n",
       "      <td>Pave</td>\n",
       "      <td>NaN</td>\n",
       "      <td>Reg</td>\n",
       "      <td>Lvl</td>\n",
       "      <td>AllPub</td>\n",
       "      <td>...</td>\n",
       "      <td>0</td>\n",
       "      <td>NaN</td>\n",
       "      <td>NaN</td>\n",
       "      <td>NaN</td>\n",
       "      <td>0</td>\n",
       "      <td>5</td>\n",
       "      <td>2007</td>\n",
       "      <td>WD</td>\n",
       "      <td>Normal</td>\n",
       "      <td>181500</td>\n",
       "    </tr>\n",
       "    <tr>\n",
       "      <th>2</th>\n",
       "      <td>3</td>\n",
       "      <td>60</td>\n",
       "      <td>RL</td>\n",
       "      <td>68.0</td>\n",
       "      <td>11250</td>\n",
       "      <td>Pave</td>\n",
       "      <td>NaN</td>\n",
       "      <td>IR1</td>\n",
       "      <td>Lvl</td>\n",
       "      <td>AllPub</td>\n",
       "      <td>...</td>\n",
       "      <td>0</td>\n",
       "      <td>NaN</td>\n",
       "      <td>NaN</td>\n",
       "      <td>NaN</td>\n",
       "      <td>0</td>\n",
       "      <td>9</td>\n",
       "      <td>2008</td>\n",
       "      <td>WD</td>\n",
       "      <td>Normal</td>\n",
       "      <td>223500</td>\n",
       "    </tr>\n",
       "    <tr>\n",
       "      <th>3</th>\n",
       "      <td>4</td>\n",
       "      <td>70</td>\n",
       "      <td>RL</td>\n",
       "      <td>60.0</td>\n",
       "      <td>9550</td>\n",
       "      <td>Pave</td>\n",
       "      <td>NaN</td>\n",
       "      <td>IR1</td>\n",
       "      <td>Lvl</td>\n",
       "      <td>AllPub</td>\n",
       "      <td>...</td>\n",
       "      <td>0</td>\n",
       "      <td>NaN</td>\n",
       "      <td>NaN</td>\n",
       "      <td>NaN</td>\n",
       "      <td>0</td>\n",
       "      <td>2</td>\n",
       "      <td>2006</td>\n",
       "      <td>WD</td>\n",
       "      <td>Abnorml</td>\n",
       "      <td>140000</td>\n",
       "    </tr>\n",
       "    <tr>\n",
       "      <th>4</th>\n",
       "      <td>5</td>\n",
       "      <td>60</td>\n",
       "      <td>RL</td>\n",
       "      <td>84.0</td>\n",
       "      <td>14260</td>\n",
       "      <td>Pave</td>\n",
       "      <td>NaN</td>\n",
       "      <td>IR1</td>\n",
       "      <td>Lvl</td>\n",
       "      <td>AllPub</td>\n",
       "      <td>...</td>\n",
       "      <td>0</td>\n",
       "      <td>NaN</td>\n",
       "      <td>NaN</td>\n",
       "      <td>NaN</td>\n",
       "      <td>0</td>\n",
       "      <td>12</td>\n",
       "      <td>2008</td>\n",
       "      <td>WD</td>\n",
       "      <td>Normal</td>\n",
       "      <td>250000</td>\n",
       "    </tr>\n",
       "  </tbody>\n",
       "</table>\n",
       "<p>5 rows × 81 columns</p>\n",
       "</div>"
      ],
      "text/plain": [
       "   Id  MSSubClass MSZoning  LotFrontage  LotArea Street Alley LotShape  \\\n",
       "0   1          60       RL         65.0     8450   Pave   NaN      Reg   \n",
       "1   2          20       RL         80.0     9600   Pave   NaN      Reg   \n",
       "2   3          60       RL         68.0    11250   Pave   NaN      IR1   \n",
       "3   4          70       RL         60.0     9550   Pave   NaN      IR1   \n",
       "4   5          60       RL         84.0    14260   Pave   NaN      IR1   \n",
       "\n",
       "  LandContour Utilities    ...     PoolArea PoolQC Fence MiscFeature MiscVal  \\\n",
       "0         Lvl    AllPub    ...            0    NaN   NaN         NaN       0   \n",
       "1         Lvl    AllPub    ...            0    NaN   NaN         NaN       0   \n",
       "2         Lvl    AllPub    ...            0    NaN   NaN         NaN       0   \n",
       "3         Lvl    AllPub    ...            0    NaN   NaN         NaN       0   \n",
       "4         Lvl    AllPub    ...            0    NaN   NaN         NaN       0   \n",
       "\n",
       "  MoSold YrSold  SaleType  SaleCondition  SalePrice  \n",
       "0      2   2008        WD         Normal     208500  \n",
       "1      5   2007        WD         Normal     181500  \n",
       "2      9   2008        WD         Normal     223500  \n",
       "3      2   2006        WD        Abnorml     140000  \n",
       "4     12   2008        WD         Normal     250000  \n",
       "\n",
       "[5 rows x 81 columns]"
      ]
     },
     "execution_count": 4,
     "metadata": {},
     "output_type": "execute_result"
    }
   ],
   "source": [
    "#Let's have quick look at header.\n",
    "house.head()\n",
    "#Noticed the following:\n",
    "#NaN values, repeating columns, Id column"
   ]
  },
  {
   "cell_type": "code",
   "execution_count": 5,
   "metadata": {
    "collapsed": false
   },
   "outputs": [],
   "source": [
    "#Drop Id column\n",
    "house = house.drop('Id', axis=1)"
   ]
  },
  {
   "cell_type": "code",
   "execution_count": 6,
   "metadata": {
    "collapsed": false
   },
   "outputs": [
    {
     "data": {
      "text/plain": [
       "(1460, 80)"
      ]
     },
     "execution_count": 6,
     "metadata": {},
     "output_type": "execute_result"
    }
   ],
   "source": [
    "#Check number of rows and columns\n",
    "house.shape "
   ]
  },
  {
   "cell_type": "code",
   "execution_count": 7,
   "metadata": {
    "collapsed": false
   },
   "outputs": [
    {
     "data": {
      "text/plain": [
       "array(['RL', 'RM', 'C (all)', 'FV', 'RH'], dtype=object)"
      ]
     },
     "execution_count": 7,
     "metadata": {},
     "output_type": "execute_result"
    }
   ],
   "source": [
    "#Check unique values in MSZoning and remove rows that are not residential\n",
    "house.MSZoning.unique()"
   ]
  },
  {
   "cell_type": "code",
   "execution_count": 8,
   "metadata": {
    "collapsed": false
   },
   "outputs": [],
   "source": [
    "#This steps answers Question #2. \n",
    "#Removing non residential houses\n",
    "\n",
    "#Only include residential houses\n",
    "#Use 'MSZoning' as filter\n",
    "house = house[(house.MSZoning != 'C (all)')] #Removes rows classified as Commercial"
   ]
  },
  {
   "cell_type": "code",
   "execution_count": 9,
   "metadata": {
    "collapsed": false
   },
   "outputs": [
    {
     "data": {
      "text/plain": [
       "(1450, 80)"
      ]
     },
     "execution_count": 9,
     "metadata": {},
     "output_type": "execute_result"
    }
   ],
   "source": [
    "#Check shape to confirm rows removed\n",
    "house.shape #This removed 10 rows"
   ]
  },
  {
   "cell_type": "code",
   "execution_count": 10,
   "metadata": {
    "collapsed": false
   },
   "outputs": [],
   "source": [
    "#Check the number of different values in a column. If a column has less than 5 unique values then drop column due to lack of variance\n",
    "house.Street.nunique() # 2 unique values in entire column\n",
    "house.LandContour.nunique() # 4 unique values in entire column\n",
    "house.Utilities.nunique() # 2 unique values in entire column\n",
    "house.LandSlope.nunique() # 3 unique values in entire column\n",
    "house.PoolQC.nunique() # 3 unique values in entire column\n",
    "house.BsmtCond.nunique() # 4 unique values in entire column\n",
    "\n",
    "house = house.drop(['Street','LandContour', 'Utilities', 'LandSlope','PoolQC','BsmtCond']\n",
    "                   , axis=1)\n",
    "\n",
    "#The following columns were checked but not dropped\n",
    "#house.PoolArea.nunique() # 8 unique values in entire column\n",
    "#house.RoofMatl.nunique() # 8 unique values in entire column\n",
    "#house.ExterCond.nunique() # 5 unique values in entire column\n",
    "#house.Heating.nunique() # 6 unique values in entire column\n",
    "#house.PoolArea.nunique()  # 8 unique values in entire column"
   ]
  },
  {
   "cell_type": "code",
   "execution_count": 11,
   "metadata": {
    "collapsed": false
   },
   "outputs": [
    {
     "data": {
      "text/plain": [
       "['MSSubClass',\n",
       " 'MSZoning',\n",
       " 'LotFrontage',\n",
       " 'LotArea',\n",
       " 'Alley',\n",
       " 'LotShape',\n",
       " 'LotConfig',\n",
       " 'Neighborhood',\n",
       " 'Condition1',\n",
       " 'Condition2',\n",
       " 'BldgType',\n",
       " 'HouseStyle',\n",
       " 'OverallQual',\n",
       " 'OverallCond',\n",
       " 'YearBuilt',\n",
       " 'YearRemodAdd',\n",
       " 'RoofStyle',\n",
       " 'RoofMatl',\n",
       " 'Exterior1st',\n",
       " 'Exterior2nd',\n",
       " 'MasVnrType',\n",
       " 'MasVnrArea',\n",
       " 'ExterQual',\n",
       " 'ExterCond',\n",
       " 'Foundation',\n",
       " 'BsmtQual',\n",
       " 'BsmtExposure',\n",
       " 'BsmtFinType1',\n",
       " 'BsmtFinSF1',\n",
       " 'BsmtFinType2',\n",
       " 'BsmtFinSF2',\n",
       " 'BsmtUnfSF',\n",
       " 'TotalBsmtSF',\n",
       " 'Heating',\n",
       " 'HeatingQC',\n",
       " 'CentralAir',\n",
       " 'Electrical',\n",
       " '1stFlrSF',\n",
       " '2ndFlrSF',\n",
       " 'LowQualFinSF',\n",
       " 'GrLivArea',\n",
       " 'BsmtFullBath',\n",
       " 'BsmtHalfBath',\n",
       " 'FullBath',\n",
       " 'HalfBath',\n",
       " 'BedroomAbvGr',\n",
       " 'KitchenAbvGr',\n",
       " 'KitchenQual',\n",
       " 'TotRmsAbvGrd',\n",
       " 'Functional',\n",
       " 'Fireplaces',\n",
       " 'FireplaceQu',\n",
       " 'GarageType',\n",
       " 'GarageYrBlt',\n",
       " 'GarageFinish',\n",
       " 'GarageCars',\n",
       " 'GarageArea',\n",
       " 'GarageQual',\n",
       " 'GarageCond',\n",
       " 'PavedDrive',\n",
       " 'WoodDeckSF',\n",
       " 'OpenPorchSF',\n",
       " 'EnclosedPorch',\n",
       " '3SsnPorch',\n",
       " 'ScreenPorch',\n",
       " 'PoolArea',\n",
       " 'Fence',\n",
       " 'MiscFeature',\n",
       " 'MiscVal',\n",
       " 'MoSold',\n",
       " 'YrSold',\n",
       " 'SaleType',\n",
       " 'SaleCondition',\n",
       " 'SalePrice']"
      ]
     },
     "execution_count": 11,
     "metadata": {},
     "output_type": "execute_result"
    }
   ],
   "source": [
    "#View header information to see if any unusual charcters\n",
    "list(house)"
   ]
  },
  {
   "cell_type": "code",
   "execution_count": 12,
   "metadata": {
    "collapsed": false
   },
   "outputs": [
    {
     "name": "stdout",
     "output_type": "stream",
     "text": [
      "MSSubClass         int64\n",
      "MSZoning          object\n",
      "LotFrontage      float64\n",
      "LotArea            int64\n",
      "Alley             object\n",
      "LotShape          object\n",
      "LotConfig         object\n",
      "Neighborhood      object\n",
      "Condition1        object\n",
      "Condition2        object\n",
      "BldgType          object\n",
      "HouseStyle        object\n",
      "OverallQual        int64\n",
      "OverallCond        int64\n",
      "YearBuilt          int64\n",
      "YearRemodAdd       int64\n",
      "RoofStyle         object\n",
      "RoofMatl          object\n",
      "Exterior1st       object\n",
      "Exterior2nd       object\n",
      "MasVnrType        object\n",
      "MasVnrArea       float64\n",
      "ExterQual         object\n",
      "ExterCond         object\n",
      "Foundation        object\n",
      "BsmtQual          object\n",
      "BsmtExposure      object\n",
      "BsmtFinType1      object\n",
      "BsmtFinSF1         int64\n",
      "BsmtFinType2      object\n",
      "                  ...   \n",
      "HalfBath           int64\n",
      "BedroomAbvGr       int64\n",
      "KitchenAbvGr       int64\n",
      "KitchenQual       object\n",
      "TotRmsAbvGrd       int64\n",
      "Functional        object\n",
      "Fireplaces         int64\n",
      "FireplaceQu       object\n",
      "GarageType        object\n",
      "GarageYrBlt      float64\n",
      "GarageFinish      object\n",
      "GarageCars         int64\n",
      "GarageArea         int64\n",
      "GarageQual        object\n",
      "GarageCond        object\n",
      "PavedDrive        object\n",
      "WoodDeckSF         int64\n",
      "OpenPorchSF        int64\n",
      "EnclosedPorch      int64\n",
      "3SsnPorch          int64\n",
      "ScreenPorch        int64\n",
      "PoolArea           int64\n",
      "Fence             object\n",
      "MiscFeature       object\n",
      "MiscVal            int64\n",
      "MoSold             int64\n",
      "YrSold             int64\n",
      "SaleType          object\n",
      "SaleCondition     object\n",
      "SalePrice          int64\n",
      "dtype: object\n",
      "(1450, 74)\n"
     ]
    }
   ],
   "source": [
    "#View object types\n",
    "print house.dtypes\n",
    "#View shape\n",
    "print house.shape"
   ]
  },
  {
   "cell_type": "code",
   "execution_count": 13,
   "metadata": {
    "collapsed": false
   },
   "outputs": [
    {
     "data": {
      "text/plain": [
       "MSSubClass          0\n",
       "MSZoning            0\n",
       "LotFrontage       259\n",
       "LotArea             0\n",
       "Alley            1361\n",
       "LotShape            0\n",
       "LotConfig           0\n",
       "Neighborhood        0\n",
       "Condition1          0\n",
       "Condition2          0\n",
       "BldgType            0\n",
       "HouseStyle          0\n",
       "OverallQual         0\n",
       "OverallCond         0\n",
       "YearBuilt           0\n",
       "YearRemodAdd        0\n",
       "RoofStyle           0\n",
       "RoofMatl            0\n",
       "Exterior1st         0\n",
       "Exterior2nd         0\n",
       "MasVnrType          8\n",
       "MasVnrArea          8\n",
       "ExterQual           0\n",
       "ExterCond           0\n",
       "Foundation          0\n",
       "BsmtQual           37\n",
       "BsmtExposure       38\n",
       "BsmtFinType1       37\n",
       "BsmtFinSF1          0\n",
       "BsmtFinType2       38\n",
       "                 ... \n",
       "HalfBath            0\n",
       "BedroomAbvGr        0\n",
       "KitchenAbvGr        0\n",
       "KitchenQual         0\n",
       "TotRmsAbvGrd        0\n",
       "Functional          0\n",
       "Fireplaces          0\n",
       "FireplaceQu       681\n",
       "GarageType         79\n",
       "GarageYrBlt        79\n",
       "GarageFinish       79\n",
       "GarageCars          0\n",
       "GarageArea          0\n",
       "GarageQual         79\n",
       "GarageCond         79\n",
       "PavedDrive          0\n",
       "WoodDeckSF          0\n",
       "OpenPorchSF         0\n",
       "EnclosedPorch       0\n",
       "3SsnPorch           0\n",
       "ScreenPorch         0\n",
       "PoolArea            0\n",
       "Fence            1172\n",
       "MiscFeature      1398\n",
       "MiscVal             0\n",
       "MoSold              0\n",
       "YrSold              0\n",
       "SaleType            0\n",
       "SaleCondition       0\n",
       "SalePrice           0\n",
       "dtype: int64"
      ]
     },
     "execution_count": 13,
     "metadata": {},
     "output_type": "execute_result"
    }
   ],
   "source": [
    "house.isnull().sum()"
   ]
  },
  {
   "cell_type": "code",
   "execution_count": 14,
   "metadata": {
    "collapsed": false
   },
   "outputs": [],
   "source": [
    "#After comparing the null values to the data_descriptions.txt file it appears that the term 'NAn' is not null.\n",
    "#The term NAn refers to something else. See below:\n",
    "\n",
    "#Alley: NA = No alley access\n",
    "#BsmtQual: NA = No Basement\n",
    "#BsmtCond: NA = No Basement\n",
    "#BsmtFinType1: NA = No Basement\n",
    "#BsmtFinType2: NA = No Basement\n",
    "#GarageType: NA = No Garage\n",
    "#GarageFinish: NA = No Garage\n",
    "#GarageQual: NA = No Garage\n",
    "#GarageCond: NA = No Garage\n",
    "#PoolQC: NA = No Pool\n",
    "#Fence: NA = No Fence\n",
    "#MiscFeature = NA = None\n",
    "\n",
    "#Convert null to appropriate description\n",
    "#Credit Joseph Nelson\n",
    "\n",
    "house.Alley = house.Alley.fillna(value='none', inplace=False)\n",
    "house.BsmtQual = house.BsmtQual.fillna(value='none', inplace=False)\n",
    "house.BsmtFinType1 = house.BsmtFinType1.fillna(value='none', inplace=False)\n",
    "house.BsmtFinType2 = house.BsmtFinType2.fillna(value='none', inplace=False)\n",
    "house.GarageType = house.GarageType.fillna(value='none', inplace=False)\n",
    "house.GarageFinish = house.GarageFinish.fillna(value='none', inplace=False)\n",
    "house.GarageQual = house.GarageQual.fillna(value='none', inplace=False)\n",
    "house.GarageCond = house.GarageCond.fillna(value='none', inplace=False)\n",
    "house.Fence = house.Fence.fillna(value='none', inplace=False)\n",
    "house.MiscFeature = house.MiscFeature.fillna(value='none', inplace=False)"
   ]
  },
  {
   "cell_type": "code",
   "execution_count": 15,
   "metadata": {
    "collapsed": false
   },
   "outputs": [
    {
     "data": {
      "text/plain": [
       "MSSubClass         0\n",
       "MSZoning           0\n",
       "LotFrontage      259\n",
       "LotArea            0\n",
       "Alley              0\n",
       "LotShape           0\n",
       "LotConfig          0\n",
       "Neighborhood       0\n",
       "Condition1         0\n",
       "Condition2         0\n",
       "BldgType           0\n",
       "HouseStyle         0\n",
       "OverallQual        0\n",
       "OverallCond        0\n",
       "YearBuilt          0\n",
       "YearRemodAdd       0\n",
       "RoofStyle          0\n",
       "RoofMatl           0\n",
       "Exterior1st        0\n",
       "Exterior2nd        0\n",
       "MasVnrType         8\n",
       "MasVnrArea         8\n",
       "ExterQual          0\n",
       "ExterCond          0\n",
       "Foundation         0\n",
       "BsmtQual           0\n",
       "BsmtExposure      38\n",
       "BsmtFinType1       0\n",
       "BsmtFinSF1         0\n",
       "BsmtFinType2       0\n",
       "                ... \n",
       "HalfBath           0\n",
       "BedroomAbvGr       0\n",
       "KitchenAbvGr       0\n",
       "KitchenQual        0\n",
       "TotRmsAbvGrd       0\n",
       "Functional         0\n",
       "Fireplaces         0\n",
       "FireplaceQu      681\n",
       "GarageType         0\n",
       "GarageYrBlt       79\n",
       "GarageFinish       0\n",
       "GarageCars         0\n",
       "GarageArea         0\n",
       "GarageQual         0\n",
       "GarageCond         0\n",
       "PavedDrive         0\n",
       "WoodDeckSF         0\n",
       "OpenPorchSF        0\n",
       "EnclosedPorch      0\n",
       "3SsnPorch          0\n",
       "ScreenPorch        0\n",
       "PoolArea           0\n",
       "Fence              0\n",
       "MiscFeature        0\n",
       "MiscVal            0\n",
       "MoSold             0\n",
       "YrSold             0\n",
       "SaleType           0\n",
       "SaleCondition      0\n",
       "SalePrice          0\n",
       "dtype: int64"
      ]
     },
     "execution_count": 15,
     "metadata": {},
     "output_type": "execute_result"
    }
   ],
   "source": [
    "house.isnull().sum()\n",
    "\n",
    "#Recheck the null values.  Still some null values.  Probably don't need to do anything about these values right now."
   ]
  },
  {
   "cell_type": "code",
   "execution_count": 16,
   "metadata": {
    "collapsed": false
   },
   "outputs": [
    {
     "data": {
      "text/plain": [
       "array(['CollgCr', 'Veenker', 'Crawfor', 'NoRidge', 'Mitchel', 'Somerst',\n",
       "       'NWAmes', 'OldTown', 'BrkSide', 'Sawyer', 'NridgHt', 'NAmes',\n",
       "       'SawyerW', 'IDOTRR', 'MeadowV', 'Edwards', 'Timber', 'Gilbert',\n",
       "       'StoneBr', 'ClearCr', 'NPkVill', 'Blmngtn', 'BrDale', 'SWISU',\n",
       "       'Blueste'], dtype=object)"
      ]
     },
     "execution_count": 16,
     "metadata": {},
     "output_type": "execute_result"
    }
   ],
   "source": [
    "house.Neighborhood.unique()"
   ]
  },
  {
   "cell_type": "code",
   "execution_count": 17,
   "metadata": {
    "collapsed": false
   },
   "outputs": [
    {
     "data": {
      "text/html": [
       "<div>\n",
       "<table border=\"1\" class=\"dataframe\">\n",
       "  <thead>\n",
       "    <tr style=\"text-align: right;\">\n",
       "      <th></th>\n",
       "      <th>MSSubClass</th>\n",
       "      <th>LotFrontage</th>\n",
       "      <th>LotArea</th>\n",
       "      <th>OverallQual</th>\n",
       "      <th>OverallCond</th>\n",
       "      <th>YearBuilt</th>\n",
       "      <th>YearRemodAdd</th>\n",
       "      <th>MasVnrArea</th>\n",
       "      <th>BsmtFinSF1</th>\n",
       "      <th>BsmtFinSF2</th>\n",
       "      <th>...</th>\n",
       "      <th>WoodDeckSF</th>\n",
       "      <th>OpenPorchSF</th>\n",
       "      <th>EnclosedPorch</th>\n",
       "      <th>3SsnPorch</th>\n",
       "      <th>ScreenPorch</th>\n",
       "      <th>PoolArea</th>\n",
       "      <th>MiscVal</th>\n",
       "      <th>MoSold</th>\n",
       "      <th>YrSold</th>\n",
       "      <th>SalePrice</th>\n",
       "    </tr>\n",
       "  </thead>\n",
       "  <tbody>\n",
       "    <tr>\n",
       "      <th>count</th>\n",
       "      <td>1450.000000</td>\n",
       "      <td>1191.000000</td>\n",
       "      <td>1450.000000</td>\n",
       "      <td>1450.000000</td>\n",
       "      <td>1450.000000</td>\n",
       "      <td>1450.000000</td>\n",
       "      <td>1450.000000</td>\n",
       "      <td>1442.000000</td>\n",
       "      <td>1450.000000</td>\n",
       "      <td>1450.000000</td>\n",
       "      <td>...</td>\n",
       "      <td>1450.000000</td>\n",
       "      <td>1450.000000</td>\n",
       "      <td>1450.000000</td>\n",
       "      <td>1450.000000</td>\n",
       "      <td>1450.000000</td>\n",
       "      <td>1450.000000</td>\n",
       "      <td>1450.000000</td>\n",
       "      <td>1450.000000</td>\n",
       "      <td>1450.000000</td>\n",
       "      <td>1450.000000</td>\n",
       "    </tr>\n",
       "    <tr>\n",
       "      <th>mean</th>\n",
       "      <td>56.903448</td>\n",
       "      <td>70.052897</td>\n",
       "      <td>10523.831724</td>\n",
       "      <td>6.114483</td>\n",
       "      <td>5.582069</td>\n",
       "      <td>1971.593103</td>\n",
       "      <td>1985.049655</td>\n",
       "      <td>104.404300</td>\n",
       "      <td>445.162759</td>\n",
       "      <td>46.870345</td>\n",
       "      <td>...</td>\n",
       "      <td>94.826897</td>\n",
       "      <td>46.537931</td>\n",
       "      <td>21.536552</td>\n",
       "      <td>3.433103</td>\n",
       "      <td>15.096552</td>\n",
       "      <td>2.777931</td>\n",
       "      <td>43.365517</td>\n",
       "      <td>6.312414</td>\n",
       "      <td>2007.812414</td>\n",
       "      <td>181654.942069</td>\n",
       "    </tr>\n",
       "    <tr>\n",
       "      <th>std</th>\n",
       "      <td>42.265033</td>\n",
       "      <td>24.301013</td>\n",
       "      <td>10012.185355</td>\n",
       "      <td>1.372860</td>\n",
       "      <td>1.107330</td>\n",
       "      <td>30.022696</td>\n",
       "      <td>20.552319</td>\n",
       "      <td>181.486539</td>\n",
       "      <td>456.353871</td>\n",
       "      <td>161.828458</td>\n",
       "      <td>...</td>\n",
       "      <td>125.560863</td>\n",
       "      <td>65.222761</td>\n",
       "      <td>60.838826</td>\n",
       "      <td>29.416948</td>\n",
       "      <td>55.893399</td>\n",
       "      <td>40.315051</td>\n",
       "      <td>497.636495</td>\n",
       "      <td>2.698244</td>\n",
       "      <td>1.326321</td>\n",
       "      <td>79176.485241</td>\n",
       "    </tr>\n",
       "    <tr>\n",
       "      <th>min</th>\n",
       "      <td>20.000000</td>\n",
       "      <td>21.000000</td>\n",
       "      <td>1300.000000</td>\n",
       "      <td>1.000000</td>\n",
       "      <td>1.000000</td>\n",
       "      <td>1872.000000</td>\n",
       "      <td>1950.000000</td>\n",
       "      <td>0.000000</td>\n",
       "      <td>0.000000</td>\n",
       "      <td>0.000000</td>\n",
       "      <td>...</td>\n",
       "      <td>0.000000</td>\n",
       "      <td>0.000000</td>\n",
       "      <td>0.000000</td>\n",
       "      <td>0.000000</td>\n",
       "      <td>0.000000</td>\n",
       "      <td>0.000000</td>\n",
       "      <td>0.000000</td>\n",
       "      <td>1.000000</td>\n",
       "      <td>2006.000000</td>\n",
       "      <td>37900.000000</td>\n",
       "    </tr>\n",
       "    <tr>\n",
       "      <th>25%</th>\n",
       "      <td>20.000000</td>\n",
       "      <td>59.000000</td>\n",
       "      <td>7544.500000</td>\n",
       "      <td>5.000000</td>\n",
       "      <td>5.000000</td>\n",
       "      <td>1954.000000</td>\n",
       "      <td>1967.000000</td>\n",
       "      <td>0.000000</td>\n",
       "      <td>0.000000</td>\n",
       "      <td>0.000000</td>\n",
       "      <td>...</td>\n",
       "      <td>0.000000</td>\n",
       "      <td>0.000000</td>\n",
       "      <td>0.000000</td>\n",
       "      <td>0.000000</td>\n",
       "      <td>0.000000</td>\n",
       "      <td>0.000000</td>\n",
       "      <td>0.000000</td>\n",
       "      <td>5.000000</td>\n",
       "      <td>2007.000000</td>\n",
       "      <td>130000.000000</td>\n",
       "    </tr>\n",
       "    <tr>\n",
       "      <th>50%</th>\n",
       "      <td>50.000000</td>\n",
       "      <td>70.000000</td>\n",
       "      <td>9496.000000</td>\n",
       "      <td>6.000000</td>\n",
       "      <td>5.000000</td>\n",
       "      <td>1973.000000</td>\n",
       "      <td>1994.000000</td>\n",
       "      <td>0.000000</td>\n",
       "      <td>384.000000</td>\n",
       "      <td>0.000000</td>\n",
       "      <td>...</td>\n",
       "      <td>0.000000</td>\n",
       "      <td>25.000000</td>\n",
       "      <td>0.000000</td>\n",
       "      <td>0.000000</td>\n",
       "      <td>0.000000</td>\n",
       "      <td>0.000000</td>\n",
       "      <td>0.000000</td>\n",
       "      <td>6.000000</td>\n",
       "      <td>2008.000000</td>\n",
       "      <td>163945.000000</td>\n",
       "    </tr>\n",
       "    <tr>\n",
       "      <th>75%</th>\n",
       "      <td>70.000000</td>\n",
       "      <td>80.000000</td>\n",
       "      <td>11613.500000</td>\n",
       "      <td>7.000000</td>\n",
       "      <td>6.000000</td>\n",
       "      <td>2001.000000</td>\n",
       "      <td>2004.000000</td>\n",
       "      <td>166.750000</td>\n",
       "      <td>713.750000</td>\n",
       "      <td>0.000000</td>\n",
       "      <td>...</td>\n",
       "      <td>168.000000</td>\n",
       "      <td>68.000000</td>\n",
       "      <td>0.000000</td>\n",
       "      <td>0.000000</td>\n",
       "      <td>0.000000</td>\n",
       "      <td>0.000000</td>\n",
       "      <td>0.000000</td>\n",
       "      <td>8.000000</td>\n",
       "      <td>2009.000000</td>\n",
       "      <td>214000.000000</td>\n",
       "    </tr>\n",
       "    <tr>\n",
       "      <th>max</th>\n",
       "      <td>190.000000</td>\n",
       "      <td>313.000000</td>\n",
       "      <td>215245.000000</td>\n",
       "      <td>10.000000</td>\n",
       "      <td>9.000000</td>\n",
       "      <td>2010.000000</td>\n",
       "      <td>2010.000000</td>\n",
       "      <td>1600.000000</td>\n",
       "      <td>5644.000000</td>\n",
       "      <td>1474.000000</td>\n",
       "      <td>...</td>\n",
       "      <td>857.000000</td>\n",
       "      <td>547.000000</td>\n",
       "      <td>552.000000</td>\n",
       "      <td>508.000000</td>\n",
       "      <td>480.000000</td>\n",
       "      <td>738.000000</td>\n",
       "      <td>15500.000000</td>\n",
       "      <td>12.000000</td>\n",
       "      <td>2010.000000</td>\n",
       "      <td>755000.000000</td>\n",
       "    </tr>\n",
       "  </tbody>\n",
       "</table>\n",
       "<p>8 rows × 37 columns</p>\n",
       "</div>"
      ],
      "text/plain": [
       "        MSSubClass  LotFrontage        LotArea  OverallQual  OverallCond  \\\n",
       "count  1450.000000  1191.000000    1450.000000  1450.000000  1450.000000   \n",
       "mean     56.903448    70.052897   10523.831724     6.114483     5.582069   \n",
       "std      42.265033    24.301013   10012.185355     1.372860     1.107330   \n",
       "min      20.000000    21.000000    1300.000000     1.000000     1.000000   \n",
       "25%      20.000000    59.000000    7544.500000     5.000000     5.000000   \n",
       "50%      50.000000    70.000000    9496.000000     6.000000     5.000000   \n",
       "75%      70.000000    80.000000   11613.500000     7.000000     6.000000   \n",
       "max     190.000000   313.000000  215245.000000    10.000000     9.000000   \n",
       "\n",
       "         YearBuilt  YearRemodAdd   MasVnrArea   BsmtFinSF1   BsmtFinSF2  \\\n",
       "count  1450.000000   1450.000000  1442.000000  1450.000000  1450.000000   \n",
       "mean   1971.593103   1985.049655   104.404300   445.162759    46.870345   \n",
       "std      30.022696     20.552319   181.486539   456.353871   161.828458   \n",
       "min    1872.000000   1950.000000     0.000000     0.000000     0.000000   \n",
       "25%    1954.000000   1967.000000     0.000000     0.000000     0.000000   \n",
       "50%    1973.000000   1994.000000     0.000000   384.000000     0.000000   \n",
       "75%    2001.000000   2004.000000   166.750000   713.750000     0.000000   \n",
       "max    2010.000000   2010.000000  1600.000000  5644.000000  1474.000000   \n",
       "\n",
       "           ...         WoodDeckSF  OpenPorchSF  EnclosedPorch    3SsnPorch  \\\n",
       "count      ...        1450.000000  1450.000000    1450.000000  1450.000000   \n",
       "mean       ...          94.826897    46.537931      21.536552     3.433103   \n",
       "std        ...         125.560863    65.222761      60.838826    29.416948   \n",
       "min        ...           0.000000     0.000000       0.000000     0.000000   \n",
       "25%        ...           0.000000     0.000000       0.000000     0.000000   \n",
       "50%        ...           0.000000    25.000000       0.000000     0.000000   \n",
       "75%        ...         168.000000    68.000000       0.000000     0.000000   \n",
       "max        ...         857.000000   547.000000     552.000000   508.000000   \n",
       "\n",
       "       ScreenPorch     PoolArea       MiscVal       MoSold       YrSold  \\\n",
       "count  1450.000000  1450.000000   1450.000000  1450.000000  1450.000000   \n",
       "mean     15.096552     2.777931     43.365517     6.312414  2007.812414   \n",
       "std      55.893399    40.315051    497.636495     2.698244     1.326321   \n",
       "min       0.000000     0.000000      0.000000     1.000000  2006.000000   \n",
       "25%       0.000000     0.000000      0.000000     5.000000  2007.000000   \n",
       "50%       0.000000     0.000000      0.000000     6.000000  2008.000000   \n",
       "75%       0.000000     0.000000      0.000000     8.000000  2009.000000   \n",
       "max     480.000000   738.000000  15500.000000    12.000000  2010.000000   \n",
       "\n",
       "           SalePrice  \n",
       "count    1450.000000  \n",
       "mean   181654.942069  \n",
       "std     79176.485241  \n",
       "min     37900.000000  \n",
       "25%    130000.000000  \n",
       "50%    163945.000000  \n",
       "75%    214000.000000  \n",
       "max    755000.000000  \n",
       "\n",
       "[8 rows x 37 columns]"
      ]
     },
     "execution_count": 17,
     "metadata": {},
     "output_type": "execute_result"
    }
   ],
   "source": [
    "#View summary stats\n",
    "house.describe()"
   ]
  },
  {
   "cell_type": "code",
   "execution_count": 18,
   "metadata": {
    "collapsed": false
   },
   "outputs": [
    {
     "data": {
      "image/png": "[encoded data removed]",
      "text/plain": [
       "<matplotlib.figure.Figure at 0x119a33c50>"
      ]
     },
     "metadata": {},
     "output_type": "display_data"
    }
   ],
   "source": [
    "#Create heat map of correlation matrix to see if we can see anything useful\n",
    "mean_corr = house.corr()\n",
    "\n",
    "# Set the default matplotlib figure size:\n",
    "fig, ax = plt.subplots(figsize=(9,7))\n",
    "\n",
    "# Generate a mask for the upper triangle (taken from seaborn example gallery)\n",
    "mask = np.zeros_like(mean_corr, dtype=np.bool)\n",
    "mask[np.triu_indices_from(mask)] = True\n",
    "\n",
    "# Plot the heatmap with seaborn.\n",
    "# Assign the matplotlib axis the function returns. This will let us resize the labels.\n",
    "ax = sns.heatmap(mean_corr, mask=mask, ax=ax)\n",
    "\n",
    "# Resize the labels.\n",
    "ax.set_xticklabels(ax.xaxis.get_ticklabels(), fontsize=14)\n",
    "ax.set_yticklabels(ax.yaxis.get_ticklabels(), fontsize=14)\n",
    "\n",
    "plt.show()"
   ]
  },
  {
   "cell_type": "markdown",
   "metadata": {},
   "source": [
    "The above doesn't really tell us anything"
   ]
  },
  {
   "cell_type": "code",
   "execution_count": 19,
   "metadata": {
    "collapsed": false
   },
   "outputs": [
    {
     "data": {
      "text/plain": [
       "259"
      ]
     },
     "execution_count": 19,
     "metadata": {},
     "output_type": "execute_result"
    }
   ],
   "source": [
    "house.LotFrontage.isnull().sum()"
   ]
  },
  {
   "cell_type": "code",
   "execution_count": 20,
   "metadata": {
    "collapsed": true
   },
   "outputs": [],
   "source": [
    "house.LotFrontage = house.LotFrontage.replace(np.NaN, 0)"
   ]
  },
  {
   "cell_type": "code",
   "execution_count": 21,
   "metadata": {
    "collapsed": false,
    "scrolled": true
   },
   "outputs": [
    {
     "data": {
      "image/png": "[encoded data removed]",
      "text/plain": [
       "<matplotlib.figure.Figure at 0x11a877290>"
      ]
     },
     "metadata": {},
     "output_type": "display_data"
    }
   ],
   "source": [
    "#To predict house prices let's build a pairplot to see if we can see any visual trends\n",
    "\n",
    "#Create subset of variables we want to use\n",
    "subset = house.loc[:,['SalePrice','LotArea', 'LotFrontage','GrLivArea', 'BsmtUnfSF','Condition1','YearBuilt','YearRemodAdd','TotalBsmtSF','BsmtCond','BsmtQual','GarageQual','GarageCond','GarageArea','PoolArea','OpenPorchSF','YrSold','BedroomAbvGr','KitchenQual','SaleCondition','Neighborhood','TotRmsAbvGrd','FullBath','OverallQual','OverallCond','BldgType','SaleType']]\n",
    "\n",
    "\n",
    "sns.pairplot(data=subset,\n",
    "                  y_vars=['SalePrice'],x_vars=['LotArea','GrLivArea','BsmtUnfSF','YearBuilt','YearRemodAdd'],hue='BldgType')\n",
    "plt.show()\n",
    "\n",
    "#Looks like LotArea, GrLivArea and YearRemodAdd have some outliers"
   ]
  },
  {
   "cell_type": "code",
   "execution_count": 22,
   "metadata": {
    "collapsed": false
   },
   "outputs": [
    {
     "data": {
      "image/png": "[encoded data removed]",
      "text/plain": [
       "<matplotlib.figure.Figure at 0x119b11e90>"
      ]
     },
     "metadata": {},
     "output_type": "display_data"
    }
   ],
   "source": [
    "# Remove outliers\n",
    "\n",
    "#subset = subset[subset.LotArea <= 20000]\n",
    "#subset = subset[subset.GrLivArea <= 4000]\n",
    "#subset = subset[subset.YearRemodAdd >= 1955]\n",
    "\n",
    "#I was tempted to remove outliers above however I realized I was taking away nearly 250 rows which is rquivalent to ~17% of the data.\n",
    "\n",
    "sns.pairplot(data=subset,\n",
    "                  y_vars=['SalePrice'],x_vars=['LotArea','GrLivArea','BsmtUnfSF','YearBuilt','YearRemodAdd'],hue='BldgType')\n",
    "plt.show()"
   ]
  },
  {
   "cell_type": "code",
   "execution_count": 23,
   "metadata": {
    "collapsed": false
   },
   "outputs": [
    {
     "data": {
      "image/png": "[encoded data removed]",
      "text/plain": [
       "<matplotlib.figure.Figure at 0x119b11150>"
      ]
     },
     "metadata": {},
     "output_type": "display_data"
    }
   ],
   "source": [
    "sns.distplot(subset.GrLivArea,hist=True)\n",
    "plt.title('Histogram of Sqft above ground (sqft)')\n",
    "plt.xlabel('SqFt')\n",
    "plt.show()"
   ]
  },
  {
   "cell_type": "code",
   "execution_count": 24,
   "metadata": {
    "collapsed": false
   },
   "outputs": [
    {
     "data": {
      "image/png": "[encoded data removed]",
      "text/plain": [
       "<matplotlib.figure.Figure at 0x119b11690>"
      ]
     },
     "metadata": {},
     "output_type": "display_data"
    }
   ],
   "source": [
    "sns.distplot(subset.YearBuilt, hist=True)\n",
    "plt.title('Histogram of Year House Built')\n",
    "plt.xlabel('Year Built')\n",
    "plt.show()\n",
    "#Lack of additions below 1955 and between 1980-1990.  May need to bootstrap.\n"
   ]
  },
  {
   "cell_type": "code",
   "execution_count": 25,
   "metadata": {
    "collapsed": false
   },
   "outputs": [
    {
     "data": {
      "image/png": "[encoded data removed]",
      "text/plain": [
       "<matplotlib.figure.Figure at 0x11b411f50>"
      ]
     },
     "metadata": {},
     "output_type": "display_data"
    }
   ],
   "source": [
    "sns.distplot(subset.LotArea, hist=True)\n",
    "plt.title('Histogram of Lot Area')\n",
    "plt.xlabel('Lot Area (sqft)')\n",
    "plt.show()"
   ]
  },
  {
   "cell_type": "code",
   "execution_count": 26,
   "metadata": {
    "collapsed": true
   },
   "outputs": [],
   "source": [
    "#Create train/test split of subset.  \n",
    "#Training data set are houses sold prior to 2010 \n",
    "#Test data set are houses sold in the year 2010\n",
    "\n",
    "#Create train subset\n",
    "train = subset[subset.YrSold < 2010]\n",
    "\n",
    "#Create x_train and y_train set\n",
    "#X_train = train[[\"GrLivArea\",\"YearRemodAdd\",\"YearBuilt\", \"GarageArea\",\"TotalBsmtSF\" ]].values\n",
    "X_train = train[[\"GrLivArea\",\"YearBuilt\",\"GarageArea\",\"TotalBsmtSF\" ]].values\n",
    "y_train = train[[\"SalePrice\"]].values\n",
    "\n",
    "#Create train subset\n",
    "test = subset[subset.YrSold == 2010]\n",
    "\n",
    "#Create x_test and y_test set.\n",
    "#X_test = test[[\"GrLivArea\",\"YearRemodAdd\",\"YearBuilt\", \"GarageArea\",\"TotalBsmtSF\" ]].values\n",
    "X_test = test[[\"GrLivArea\",\"YearRemodAdd\",\"GarageArea\",\"TotalBsmtSF\" ]].values\n",
    "y_test = test[[\"SalePrice\"]].values"
   ]
  },
  {
   "cell_type": "code",
   "execution_count": 27,
   "metadata": {
    "collapsed": false
   },
   "outputs": [
    {
     "name": "stdout",
     "output_type": "stream",
     "text": [
      "Average Prediction error on test data: $2152.22226828\n",
      "\n",
      "                            OLS Regression Results                            \n",
      "==============================================================================\n",
      "Dep. Variable:                      y   R-squared:                       0.945\n",
      "Model:                            OLS   Adj. R-squared:                  0.945\n",
      "Method:                 Least Squares   F-statistic:                     5483.\n",
      "Date:                Tue, 13 Jun 2017   Prob (F-statistic):               0.00\n",
      "Time:                        18:59:19   Log-Likelihood:                -15548.\n",
      "No. Observations:                1278   AIC:                         3.110e+04\n",
      "Df Residuals:                    1274   BIC:                         3.112e+04\n",
      "Df Model:                           4                                         \n",
      "Covariance Type:            nonrobust                                         \n",
      "==============================================================================\n",
      "                 coef    std err          t      P>|t|      [95.0% Conf. Int.]\n",
      "------------------------------------------------------------------------------\n",
      "x1            67.0286      2.929     22.881      0.000        61.282    72.776\n",
      "x2            -8.7274      2.234     -3.906      0.000       -13.111    -4.344\n",
      "x3           105.6005      7.386     14.297      0.000        91.110   120.091\n",
      "x4            44.4788      3.555     12.512      0.000        37.505    51.453\n",
      "==============================================================================\n",
      "Omnibus:                      631.781   Durbin-Watson:                   1.996\n",
      "Prob(Omnibus):                  0.000   Jarque-Bera (JB):            50886.022\n",
      "Skew:                          -1.394   Prob(JB):                         0.00\n",
      "Kurtosis:                      33.787   Cond. No.                         16.2\n",
      "==============================================================================\n",
      "\n",
      "Warnings:\n",
      "[1] Standard Errors assume that the covariance matrix of the errors is correctly specified.\n"
     ]
    }
   ],
   "source": [
    "#Although you could do this in scikit-learn I prefered to do this using statsmodel because of the statistical outputs.\n",
    "import statsmodels.api as sm\n",
    "\n",
    "#Create model using multi-linear regression on training data set\n",
    "model = sm.OLS(y_train, X_train)\n",
    "results = model.fit()\n",
    "\n",
    "#Predict model on test data\n",
    "x_pred = results.predict(X_train)\n",
    "predictions = results.predict(X_test)\n",
    "\n",
    "#View results of training model\n",
    "prediction_error = y_test - predictions\n",
    "print 'Average Prediction error on test data: $%s' % np.mean(prediction_error)\n",
    "print''\n",
    "#View Summary statistics\n",
    "print results.summary()"
   ]
  },
  {
   "cell_type": "markdown",
   "metadata": {},
   "source": [
    "## Comment \n",
    "Based on fixed inputs the training dataset is doing quite well with the prediction. If I had more time I would probably try elastic net to see if there is any improvement on the prediction.  Overall I am pretty happy with my prediction for the following reasons:\n",
    "    1. R-squared > 0.90\n",
    "    2. P values < 0.05\n",
    "    3. Standard error for each element is pretty low\n",
    "    4. My prediction error indicates I am over predicting house price by $2152.\n",
    " \n",
    "Below I have plotted the training and test data sets versus predicted\n",
    "First plot: Training vs Actual \n",
    "Second plot: Test vs Actual\n",
    " "
   ]
  },
  {
   "cell_type": "code",
   "execution_count": 28,
   "metadata": {
    "collapsed": false
   },
   "outputs": [
    {
     "data": {
      "image/png": "[encoded data removed]",
      "text/plain": [
       "<matplotlib.figure.Figure at 0x11abe5250>"
      ]
     },
     "metadata": {},
     "output_type": "display_data"
    },
    {
     "data": {
      "image/png": "[encoded data removed]",
      "text/plain": [
       "<matplotlib.figure.Figure at 0x11a8c4710>"
      ]
     },
     "metadata": {},
     "output_type": "display_data"
    }
   ],
   "source": [
    "# Plot the training model\n",
    "plt.figure(figsize=(8,6))\n",
    "plt.scatter(x_pred, y_train, s=30, marker='o', zorder=10)\n",
    "#plt.plot(predictions, y_test, 'r-', label=\"OLS\")\n",
    "plt.xlabel(\"Predicted Values\")\n",
    "plt.ylabel(\"Actual Values\")\n",
    "\n",
    "plt.xlim([0,500000])\n",
    "plt.ylim([0,500000])\n",
    "#plt.xlabel(\"Predicted Values - $\\hat{y_test}$\")\n",
    "#plt.ylabel(\"Actual Values - $y_test$\")\n",
    "plt.title(\"Price Estimation on Homes Sold Before 2010 (Train Data)\")\n",
    "plt.show()\n",
    "\n",
    "# Plot the test model\n",
    "plt.figure(figsize=(8,6))\n",
    "plt.scatter(predictions, y_test, s=30, marker='o', zorder=10)\n",
    "#plt.plot(predictions, y_test, 'r-', label=\"OLS\")\n",
    "plt.xlabel(\"Predicted Values\")\n",
    "plt.ylabel(\"Actual Values\")\n",
    "\n",
    "plt.xlim([0,400000])\n",
    "plt.ylim([0,400000])\n",
    "#plt.xlabel(\"Predicted Values - $\\hat{y_test}$\")\n",
    "#plt.ylabel(\"Actual Values - $y_test$\")\n",
    "plt.title(\"Price Estimation on Homes Sold in 2010 (Test Data)\")\n",
    "plt.show()"
   ]
  },
  {
   "cell_type": "markdown",
   "metadata": {},
   "source": [
    "#Comment\n",
    "Answers to question 1\n",
    "\n",
    "1.Perform any cleaning, feature engineering, and EDA you deem necessary.\n",
    "    \n",
    "2.Be sure to remove any houses that are not residential from the dataset.\n",
    "\n",
    "3.Identify fixed features that can predict price. In my example I used GrLivArea, YearRemodAdd and TotalBsmtSF\n",
    "\n",
    "4.Train a model on pre-2010 data and evaluate its performance on the 2010 houses.\n",
    "\n",
    "5.Characterize your model. How well does it perform? What are the best estimates of price?"
   ]
  },
  {
   "cell_type": "code",
   "execution_count": 29,
   "metadata": {
    "collapsed": false
   },
   "outputs": [
    {
     "ename": "NameError",
     "evalue": "name 'sfam' is not defined",
     "output_type": "error",
     "traceback": [
      "\u001b[0;31m---------------------------------------------------------------------------\u001b[0m",
      "\u001b[0;31mNameError\u001b[0m                                 Traceback (most recent call last)",
      "\u001b[0;32m<ipython-input-29-f5ba376d0555>\u001b[0m in \u001b[0;36m<module>\u001b[0;34m()\u001b[0m\n\u001b[1;32m      9\u001b[0m \u001b[0;31m#Set predictor variables\u001b[0m\u001b[0;34m\u001b[0m\u001b[0;34m\u001b[0m\u001b[0m\n\u001b[1;32m     10\u001b[0m \u001b[0;31m#X = sfam[[\"GrLivArea\",\"YearRemodAdd\",\"LotArea\",\"OpenPorchSF\", \"YearBuilt\", \"GarageArea\",\"PoolArea\",\"TotalBsmtSF\" ]].values\u001b[0m\u001b[0;34m\u001b[0m\u001b[0;34m\u001b[0m\u001b[0m\n\u001b[0;32m---> 11\u001b[0;31m \u001b[0mX\u001b[0m \u001b[0;34m=\u001b[0m \u001b[0msfam\u001b[0m\u001b[0;34m[\u001b[0m\u001b[0;34m[\u001b[0m\u001b[0;34m\"GrLivArea\"\u001b[0m\u001b[0;34m,\u001b[0m\u001b[0;34m\"YearRemodAdd\"\u001b[0m\u001b[0;34m,\u001b[0m\u001b[0;34m\"LotArea\"\u001b[0m\u001b[0;34m,\u001b[0m\u001b[0;34m\"YearBuilt\"\u001b[0m\u001b[0;34m,\u001b[0m \u001b[0;34m\"GarageArea\"\u001b[0m\u001b[0;34m,\u001b[0m\u001b[0;34m\"TotalBsmtSF\"\u001b[0m \u001b[0;34m]\u001b[0m\u001b[0;34m]\u001b[0m\u001b[0;34m.\u001b[0m\u001b[0mvalues\u001b[0m\u001b[0;34m\u001b[0m\u001b[0m\n\u001b[0m\u001b[1;32m     12\u001b[0m \u001b[0mX\u001b[0m \u001b[0;34m=\u001b[0m \u001b[0mnp\u001b[0m\u001b[0;34m.\u001b[0m\u001b[0mconcatenate\u001b[0m\u001b[0;34m(\u001b[0m\u001b[0;34m[\u001b[0m\u001b[0mX\u001b[0m\u001b[0;34m,\u001b[0m \u001b[0mnp\u001b[0m\u001b[0;34m.\u001b[0m\u001b[0mones\u001b[0m\u001b[0;34m(\u001b[0m\u001b[0;34m(\u001b[0m\u001b[0mX\u001b[0m\u001b[0;34m.\u001b[0m\u001b[0mshape\u001b[0m\u001b[0;34m[\u001b[0m\u001b[0;36m0\u001b[0m\u001b[0;34m]\u001b[0m\u001b[0;34m,\u001b[0m \u001b[0;36m1\u001b[0m\u001b[0;34m)\u001b[0m\u001b[0;34m)\u001b[0m\u001b[0;34m]\u001b[0m\u001b[0;34m,\u001b[0m \u001b[0maxis\u001b[0m\u001b[0;34m=\u001b[0m\u001b[0;36m1\u001b[0m\u001b[0;34m)\u001b[0m\u001b[0;34m\u001b[0m\u001b[0m\n\u001b[1;32m     13\u001b[0m \u001b[0;34m\u001b[0m\u001b[0m\n",
      "\u001b[0;31mNameError\u001b[0m: name 'sfam' is not defined"
     ]
    }
   ],
   "source": [
    "#Multi-linear regresssion using statsmodel\n",
    "\n",
    "#Do this twice.  Once for single family homes and again for dual family homes\n",
    "\n",
    "#Single family homes\n",
    "import statsmodels.api as sm\n",
    "from statsmodels.sandbox.regression.predstd import wls_prediction_std\n",
    "\n",
    "#Set predictor variables\n",
    "#X = sfam[[\"GrLivArea\",\"YearRemodAdd\",\"LotArea\",\"OpenPorchSF\", \"YearBuilt\", \"GarageArea\",\"PoolArea\",\"TotalBsmtSF\" ]].values\n",
    "X = sfam[[\"GrLivArea\",\"YearRemodAdd\",\"LotArea\",\"YearBuilt\", \"GarageArea\",\"TotalBsmtSF\" ]].values\n",
    "X = np.concatenate([X, np.ones((X.shape[0], 1))], axis=1)\n",
    "\n",
    "#Standardize variables\n",
    "from sklearn.preprocessing import StandardScaler\n",
    "ss = StandardScaler()\n",
    "Xs = ss.fit_transform(X)\n",
    "\n",
    "#Set target variable y\n",
    "y = sfam['SalePrice']\n",
    "\n",
    "# Note the difference in argument order\n",
    "# optionally, you can chain \"fit()\" to the model object\n",
    "#model = sm.OLS.fit_regularized(y, X)\n",
    "#model = model.fit_regularized(method='elastic_net')\n",
    "model = sm.OLS(y, X)\n",
    "model = model.fit()\n",
    "predictions = model.predict(X)\n",
    "\n",
    "# Plot the model\n",
    "plt.figure(figsize=(8,6))\n",
    "plt.scatter(predictions, y, s=30, marker='o', zorder=10)\n",
    "#plt.plot(predictions, y, 'r-', label=\"OLS\")\n",
    "plt.xlabel(\"Predicted Values - $\\hat{y}$\")\n",
    "plt.ylabel(\"Actual Values - $y$\")\n",
    "plt.title(\"Price Estimation on Single Family Homes\")\n",
    "plt.show()\n",
    "\n",
    "from sklearn.metrics import mean_squared_error\n",
    "\n",
    "#print np.sqrt(mean_squared_error(y, predictions))\n",
    "print model.summary()"
   ]
  },
  {
   "cell_type": "code",
   "execution_count": null,
   "metadata": {
    "collapsed": false
   },
   "outputs": [],
   "source": [
    "#Now apply to test set post 2010\n",
    "print('Parameters: ', model.params)\n",
    "print('R2: ', model.rsquared)\n",
    "\n",
    "#y_pred = model.predict(x_test[subset])"
   ]
  },
  {
   "cell_type": "markdown",
   "metadata": {},
   "source": [
    "In terms of predicting single family homes we can get a pretty good match where r2 is 0.81.  However one concern is the amount of inputs required.\n",
    "\n",
    "When predicting dual family homes this becomes much more complicated.  There is much more spread at the high end of the price spectrum.  \n",
    "\n",
    "If I had more time I might try and incorporate a logitic regression function with bathrooms or home condition.\n"
   ]
  },
  {
   "cell_type": "code",
   "execution_count": 30,
   "metadata": {
    "collapsed": false
   },
   "outputs": [
    {
     "ename": "NameError",
     "evalue": "name 'dfam' is not defined",
     "output_type": "error",
     "traceback": [
      "\u001b[0;31m---------------------------------------------------------------------------\u001b[0m",
      "\u001b[0;31mNameError\u001b[0m                                 Traceback (most recent call last)",
      "\u001b[0;32m<ipython-input-30-4af7720580a6>\u001b[0m in \u001b[0;36m<module>\u001b[0;34m()\u001b[0m\n\u001b[1;32m      5\u001b[0m \u001b[0;31m#Set predictor variables\u001b[0m\u001b[0;34m\u001b[0m\u001b[0;34m\u001b[0m\u001b[0m\n\u001b[1;32m      6\u001b[0m \u001b[0;31m#X = dfam[[\"GrLivArea\",\"YearRemodAdd\",\"LotArea\",\"OpenPorchSF\", \"YearBuilt\", \"GarageArea\",\"PoolArea\",\"TotalBsmtSF\" ]].values\u001b[0m\u001b[0;34m\u001b[0m\u001b[0;34m\u001b[0m\u001b[0m\n\u001b[0;32m----> 7\u001b[0;31m \u001b[0mX\u001b[0m \u001b[0;34m=\u001b[0m \u001b[0mdfam\u001b[0m\u001b[0;34m[\u001b[0m\u001b[0;34m[\u001b[0m\u001b[0;34m\"GrLivArea\"\u001b[0m\u001b[0;34m,\u001b[0m\u001b[0;34m\"YearRemodAdd\"\u001b[0m\u001b[0;34m,\u001b[0m\u001b[0;34m\"LotArea\"\u001b[0m\u001b[0;34m,\u001b[0m \u001b[0;34m\"YearBuilt\"\u001b[0m\u001b[0;34m,\u001b[0m \u001b[0;34m\"GarageArea\"\u001b[0m\u001b[0;34m,\u001b[0m\u001b[0;34m\"TotalBsmtSF\"\u001b[0m \u001b[0;34m]\u001b[0m\u001b[0;34m]\u001b[0m\u001b[0;34m.\u001b[0m\u001b[0mvalues\u001b[0m\u001b[0;34m\u001b[0m\u001b[0m\n\u001b[0m\u001b[1;32m      8\u001b[0m \u001b[0mX\u001b[0m \u001b[0;34m=\u001b[0m \u001b[0mnp\u001b[0m\u001b[0;34m.\u001b[0m\u001b[0mconcatenate\u001b[0m\u001b[0;34m(\u001b[0m\u001b[0;34m[\u001b[0m\u001b[0mX\u001b[0m\u001b[0;34m,\u001b[0m \u001b[0mnp\u001b[0m\u001b[0;34m.\u001b[0m\u001b[0mones\u001b[0m\u001b[0;34m(\u001b[0m\u001b[0;34m(\u001b[0m\u001b[0mX\u001b[0m\u001b[0;34m.\u001b[0m\u001b[0mshape\u001b[0m\u001b[0;34m[\u001b[0m\u001b[0;36m0\u001b[0m\u001b[0;34m]\u001b[0m\u001b[0;34m,\u001b[0m \u001b[0;36m1\u001b[0m\u001b[0;34m)\u001b[0m\u001b[0;34m)\u001b[0m\u001b[0;34m]\u001b[0m\u001b[0;34m,\u001b[0m \u001b[0maxis\u001b[0m\u001b[0;34m=\u001b[0m\u001b[0;36m1\u001b[0m\u001b[0;34m)\u001b[0m\u001b[0;34m\u001b[0m\u001b[0m\n\u001b[1;32m      9\u001b[0m \u001b[0;34m\u001b[0m\u001b[0m\n",
      "\u001b[0;31mNameError\u001b[0m: name 'dfam' is not defined"
     ]
    }
   ],
   "source": [
    "#Same as above except for dual family homes\n",
    "\n",
    "import statsmodels.api as sm\n",
    "\n",
    "#Set predictor variables\n",
    "#X = dfam[[\"GrLivArea\",\"YearRemodAdd\",\"LotArea\",\"OpenPorchSF\", \"YearBuilt\", \"GarageArea\",\"PoolArea\",\"TotalBsmtSF\" ]].values\n",
    "X = dfam[[\"GrLivArea\",\"YearRemodAdd\",\"LotArea\", \"YearBuilt\", \"GarageArea\",\"TotalBsmtSF\" ]].values\n",
    "X = np.concatenate([X, np.ones((X.shape[0], 1))], axis=1)\n",
    "\n",
    "#Standardize variables\n",
    "from sklearn.preprocessing import StandardScaler\n",
    "ss = StandardScaler()\n",
    "Xs = ss.fit_transform(X)\n",
    "\n",
    "#Set target variable y\n",
    "y = dfam['SalePrice']\n",
    "\n",
    "# Note the difference in argument order\n",
    "# optionally, you can chain \"fit()\" to the model object\n",
    "model = sm.OLS(y, X)\n",
    "model = model.fit()\n",
    "#model = sm.OLS.fit_regularized(y, X)\n",
    "#model = model.fit_regularized(method='elastic_net')\n",
    "predictions = model.predict(X)\n",
    "\n",
    "# Plot the model\n",
    "plt.figure(figsize=(8,6))\n",
    "plt.scatter(predictions, y, s=30, marker='o', zorder=10)\n",
    "plt.xlabel(\"Predicted Values - $\\hat{y}$\")\n",
    "plt.ylabel(\"Actual Values - $y$\")\n",
    "plt.title(\"Price Estimation on Single Family Homes\")\n",
    "plt.show()\n",
    "\n",
    "from sklearn.metrics import mean_squared_error\n",
    "\n",
    "#print np.sqrt(mean_squared_error(y, predictions))\n",
    "print model.summary()"
   ]
  },
  {
   "cell_type": "code",
   "execution_count": null,
   "metadata": {
    "collapsed": false
   },
   "outputs": [],
   "source": []
  },
  {
   "cell_type": "markdown",
   "metadata": {},
   "source": [
    "<img src=\"http://imgur.com/l5NasQj.png\" style=\"float: left; margin: 25px 15px 0px 0px; height: 25px\">\n",
    "\n",
    "## 2. Determine any value of *changeable* property characteristics unexplained by the *fixed* ones.\n",
    "\n",
    "---\n",
    "\n",
    "Now that you have a model that estimates the price of a house based on its static characteristics, we can move forward with part 2 and 3 of the plan: what are the costs/benefits of quality, condition, and renovations?\n",
    "\n",
    "There are two specific requirements for these estimates:\n",
    "1. The estimates of effects must be in terms of dollars added or subtracted from the house value. \n",
    "2. The effects must be on the variance in price remaining from the first model.\n",
    "\n",
    "The residuals from the first model (training and testing) represent the variance in price unexplained by the fixed characteristics. Of that variance in price remaining, how much of it can be explained by the easy-to-change aspects of the property?\n",
    "\n",
    "---\n",
    "\n",
    "**Your goals:**\n",
    "1. Evaluate the effect in dollars of the renovate-able features. \n",
    "- How would your company use this second model and its coefficients to determine whether they should buy a property or not? Explain how the company can use the two models you have built to determine if they can make money. \n",
    "- Investigate how much of the variance in price remaining is explained by these features.\n",
    "- Do you trust your model? Should it be used to evaluate which properties to buy and fix up?"
   ]
  },
  {
   "cell_type": "code",
   "execution_count": 31,
   "metadata": {
    "collapsed": false
   },
   "outputs": [],
   "source": [
    "#To establish renovatable features we need to find a column that can divide the dataset into renovated vs non-renovated\n",
    "\n",
    "#Create subset of houses that have been renovated.  The way we check is if 'YearBuilt' != 'YearRemoAdd'\n",
    "reno = subset[subset.YearBuilt !=subset.YearRemodAdd]\n",
    "\n",
    "#For some reason some houses that have been renovated are also considred new.  We want to exclude them SaleType != 'New'\n",
    "reno = reno[reno.SaleType != 'New']\n",
    "\n",
    "#Create subset of houses that have NOT been renovated ()'YearBuilt' == 'YearRemoAdd')\n",
    "original = subset[subset.YearBuilt == subset.YearRemodAdd]\n",
    "#Now remove houses that have SaleType == New because we do not want to include brand new homes.\n",
    "original = original[original.SaleType != 'New']"
   ]
  },
  {
   "cell_type": "code",
   "execution_count": 32,
   "metadata": {
    "collapsed": false
   },
   "outputs": [
    {
     "data": {
      "text/html": [
       "<div>\n",
       "<table border=\"1\" class=\"dataframe\">\n",
       "  <thead>\n",
       "    <tr style=\"text-align: right;\">\n",
       "      <th></th>\n",
       "      <th>SalePrice</th>\n",
       "      <th>LotArea</th>\n",
       "      <th>LotFrontage</th>\n",
       "      <th>GrLivArea</th>\n",
       "      <th>BsmtUnfSF</th>\n",
       "      <th>Condition1</th>\n",
       "      <th>YearBuilt</th>\n",
       "      <th>YearRemodAdd</th>\n",
       "      <th>TotalBsmtSF</th>\n",
       "      <th>BsmtCond</th>\n",
       "      <th>...</th>\n",
       "      <th>BedroomAbvGr</th>\n",
       "      <th>KitchenQual</th>\n",
       "      <th>SaleCondition</th>\n",
       "      <th>Neighborhood</th>\n",
       "      <th>TotRmsAbvGrd</th>\n",
       "      <th>FullBath</th>\n",
       "      <th>OverallQual</th>\n",
       "      <th>OverallCond</th>\n",
       "      <th>BldgType</th>\n",
       "      <th>SaleType</th>\n",
       "    </tr>\n",
       "  </thead>\n",
       "  <tbody>\n",
       "    <tr>\n",
       "      <th>2</th>\n",
       "      <td>223500</td>\n",
       "      <td>11250</td>\n",
       "      <td>68.0</td>\n",
       "      <td>1786</td>\n",
       "      <td>434</td>\n",
       "      <td>Norm</td>\n",
       "      <td>2001</td>\n",
       "      <td>2002</td>\n",
       "      <td>920</td>\n",
       "      <td>NaN</td>\n",
       "      <td>...</td>\n",
       "      <td>3</td>\n",
       "      <td>Gd</td>\n",
       "      <td>Normal</td>\n",
       "      <td>CollgCr</td>\n",
       "      <td>6</td>\n",
       "      <td>2</td>\n",
       "      <td>7</td>\n",
       "      <td>5</td>\n",
       "      <td>1Fam</td>\n",
       "      <td>WD</td>\n",
       "    </tr>\n",
       "    <tr>\n",
       "      <th>3</th>\n",
       "      <td>140000</td>\n",
       "      <td>9550</td>\n",
       "      <td>60.0</td>\n",
       "      <td>1717</td>\n",
       "      <td>540</td>\n",
       "      <td>Norm</td>\n",
       "      <td>1915</td>\n",
       "      <td>1970</td>\n",
       "      <td>756</td>\n",
       "      <td>NaN</td>\n",
       "      <td>...</td>\n",
       "      <td>3</td>\n",
       "      <td>Gd</td>\n",
       "      <td>Abnorml</td>\n",
       "      <td>Crawfor</td>\n",
       "      <td>7</td>\n",
       "      <td>1</td>\n",
       "      <td>7</td>\n",
       "      <td>5</td>\n",
       "      <td>1Fam</td>\n",
       "      <td>WD</td>\n",
       "    </tr>\n",
       "    <tr>\n",
       "      <th>5</th>\n",
       "      <td>143000</td>\n",
       "      <td>14115</td>\n",
       "      <td>85.0</td>\n",
       "      <td>1362</td>\n",
       "      <td>64</td>\n",
       "      <td>Norm</td>\n",
       "      <td>1993</td>\n",
       "      <td>1995</td>\n",
       "      <td>796</td>\n",
       "      <td>NaN</td>\n",
       "      <td>...</td>\n",
       "      <td>1</td>\n",
       "      <td>TA</td>\n",
       "      <td>Normal</td>\n",
       "      <td>Mitchel</td>\n",
       "      <td>5</td>\n",
       "      <td>1</td>\n",
       "      <td>5</td>\n",
       "      <td>5</td>\n",
       "      <td>1Fam</td>\n",
       "      <td>WD</td>\n",
       "    </tr>\n",
       "    <tr>\n",
       "      <th>6</th>\n",
       "      <td>307000</td>\n",
       "      <td>10084</td>\n",
       "      <td>75.0</td>\n",
       "      <td>1694</td>\n",
       "      <td>317</td>\n",
       "      <td>Norm</td>\n",
       "      <td>2004</td>\n",
       "      <td>2005</td>\n",
       "      <td>1686</td>\n",
       "      <td>NaN</td>\n",
       "      <td>...</td>\n",
       "      <td>3</td>\n",
       "      <td>Gd</td>\n",
       "      <td>Normal</td>\n",
       "      <td>Somerst</td>\n",
       "      <td>7</td>\n",
       "      <td>2</td>\n",
       "      <td>8</td>\n",
       "      <td>5</td>\n",
       "      <td>1Fam</td>\n",
       "      <td>WD</td>\n",
       "    </tr>\n",
       "    <tr>\n",
       "      <th>8</th>\n",
       "      <td>129900</td>\n",
       "      <td>6120</td>\n",
       "      <td>51.0</td>\n",
       "      <td>1774</td>\n",
       "      <td>952</td>\n",
       "      <td>Artery</td>\n",
       "      <td>1931</td>\n",
       "      <td>1950</td>\n",
       "      <td>952</td>\n",
       "      <td>NaN</td>\n",
       "      <td>...</td>\n",
       "      <td>2</td>\n",
       "      <td>TA</td>\n",
       "      <td>Abnorml</td>\n",
       "      <td>OldTown</td>\n",
       "      <td>8</td>\n",
       "      <td>2</td>\n",
       "      <td>7</td>\n",
       "      <td>5</td>\n",
       "      <td>1Fam</td>\n",
       "      <td>WD</td>\n",
       "    </tr>\n",
       "  </tbody>\n",
       "</table>\n",
       "<p>5 rows × 27 columns</p>\n",
       "</div>"
      ],
      "text/plain": [
       "   SalePrice  LotArea  LotFrontage  GrLivArea  BsmtUnfSF Condition1  \\\n",
       "2     223500    11250         68.0       1786        434       Norm   \n",
       "3     140000     9550         60.0       1717        540       Norm   \n",
       "5     143000    14115         85.0       1362         64       Norm   \n",
       "6     307000    10084         75.0       1694        317       Norm   \n",
       "8     129900     6120         51.0       1774        952     Artery   \n",
       "\n",
       "   YearBuilt  YearRemodAdd  TotalBsmtSF  BsmtCond   ...    BedroomAbvGr  \\\n",
       "2       2001          2002          920       NaN   ...               3   \n",
       "3       1915          1970          756       NaN   ...               3   \n",
       "5       1993          1995          796       NaN   ...               1   \n",
       "6       2004          2005         1686       NaN   ...               3   \n",
       "8       1931          1950          952       NaN   ...               2   \n",
       "\n",
       "  KitchenQual SaleCondition  Neighborhood  TotRmsAbvGrd  FullBath  \\\n",
       "2          Gd        Normal       CollgCr             6         2   \n",
       "3          Gd       Abnorml       Crawfor             7         1   \n",
       "5          TA        Normal       Mitchel             5         1   \n",
       "6          Gd        Normal       Somerst             7         2   \n",
       "8          TA       Abnorml       OldTown             8         2   \n",
       "\n",
       "   OverallQual  OverallCond BldgType SaleType  \n",
       "2            7            5     1Fam       WD  \n",
       "3            7            5     1Fam       WD  \n",
       "5            5            5     1Fam       WD  \n",
       "6            8            5     1Fam       WD  \n",
       "8            7            5     1Fam       WD  \n",
       "\n",
       "[5 rows x 27 columns]"
      ]
     },
     "execution_count": 32,
     "metadata": {},
     "output_type": "execute_result"
    }
   ],
   "source": [
    "reno.head()"
   ]
  },
  {
   "cell_type": "markdown",
   "metadata": {},
   "source": [
    "\n",
    "My methodology is to calcualte the dollar per sqft for all renovated and non renovated houses.  Then compare average  between the two subsets to get an idea of the incremental uptick when renovating.\n"
   ]
  },
  {
   "cell_type": "code",
   "execution_count": 33,
   "metadata": {
    "collapsed": false
   },
   "outputs": [
    {
     "name": "stdout",
     "output_type": "stream",
     "text": [
      "Summary stats of $/sqft for Original houses excluding new builds\n",
      "count    694.000000\n",
      "mean     122.531602\n",
      "std       25.709093\n",
      "min       47.021944\n",
      "25%      106.593704\n",
      "50%      122.667984\n",
      "75%      138.256418\n",
      "max      231.057452\n",
      "Name: dpsqft, dtype: float64\n",
      "\n",
      "Summary stats of $/sqft for Renovated houses\n",
      "count    634.000000\n",
      "mean     112.842501\n",
      "std       30.751056\n",
      "min       38.510911\n",
      "25%       91.849959\n",
      "50%      110.522318\n",
      "75%      131.813722\n",
      "max      216.208477\n",
      "Name: dpsqft, dtype: float64\n"
     ]
    }
   ],
   "source": [
    "#Calucalte $/sqft value of renovated and non renovated houses\n",
    "#Create new column to add $/sqft in reno and original subsets\n",
    "reno['dpsqft'] = reno.SalePrice/reno.GrLivArea\n",
    "original['dpsqft'] = original.SalePrice/original.GrLivArea\n",
    "\n",
    "#Calculate summary stats of dollar per sqft in reno and original\n",
    "print 'Summary stats of $/sqft for Original houses excluding new builds'\n",
    "print original.dpsqft.describe()\n",
    "print ''\n",
    "print 'Summary stats of $/sqft for Renovated houses'\n",
    "print reno.dpsqft.describe()"
   ]
  },
  {
   "cell_type": "markdown",
   "metadata": {},
   "source": [
    "We have a problem!\n",
    "\n",
    "The average price of renovated house is lower than non-renovated which does not make sense.  \n",
    "There are either problems in the data or the grouping is too generalized.  This may not be accounting for market forces like time of sale or location or somethingelse I have not thought of.\n",
    "\n",
    "Let's look at the dollar/sqft values when we group by 'OverallCond'"
   ]
  },
  {
   "cell_type": "code",
   "execution_count": 34,
   "metadata": {
    "collapsed": false
   },
   "outputs": [
    {
     "name": "stdout",
     "output_type": "stream",
     "text": [
      "OverallQual\n",
      "1      92.571273\n",
      "2     105.993151\n",
      "3      80.644629\n",
      "4     104.243659\n",
      "5     112.896056\n",
      "6     114.496555\n",
      "7     124.494470\n",
      "8     144.511059\n",
      "9     178.693921\n",
      "10    160.423437\n",
      "Name: dpsqft, dtype: float64\n"
     ]
    },
    {
     "data": {
      "image/png": "[encoded data removed]",
      "text/plain": [
       "<matplotlib.figure.Figure at 0x11a74b850>"
      ]
     },
     "metadata": {},
     "output_type": "display_data"
    }
   ],
   "source": [
    "#Use groupby function to filter dollar/sqft by 'OverallQual' then calcualte the mean\n",
    "subset['dpsqft'] = subset.SalePrice/subset.GrLivArea\n",
    "\n",
    "#print 'Average $/sqft ranked by Condition'\n",
    "print subset.groupby('OverallQual').dpsqft.mean()\n",
    "\n",
    "#Calculate the median to compare and see if there are any major differences.  \n",
    "#Didn't see any signifigant difference to mean so its commented out\n",
    "\n",
    "#print 'Median $/sqft ranked by Condition'\n",
    "#print subset.groupby('OverallQual').dpsqft.median()\n",
    "\n",
    "\n",
    "#Plot Bar chart of House Quality vs Dollar/sqft\n",
    "xbar = np.sort(subset.OverallQual.unique())\n",
    "ybar = subset.groupby('OverallQual').dpsqft.mean().values\n",
    "std_dev = subset.groupby('OverallQual').dpsqft.std().values\n",
    "\n",
    "#plt.bar(xbar,ybar,0.35,color='blue')\n",
    "plt.bar(xbar,ybar,0.35,color='blue',yerr=std_dev, error_kw=dict(elinewidth=2,ecolor='black'))\n",
    "\n",
    "plt.title('Average $/sqft by House Quality')\n",
    "plt.xlabel('House Quality')\n",
    "plt.ylabel('$/sqft')\n",
    "\n",
    "plt.show()"
   ]
  },
  {
   "cell_type": "markdown",
   "metadata": {},
   "source": [
    "The calculation and bar chart above suggests that the house quality representing the best value for home renovation are 3 and 8.  By making changes and improving by just one category one would expect an average improvement of around $27-$34 per squarefoot.\n",
    "\n",
    "Alternatively if your house was ranked in category 4,5,6 or 7 there is very little improvement from one category to another.  So one would have to improve at least two categories to see any real value of a renovation.\n",
    "\n",
    "Something that needs more work with this philospohy is the error bars associated with each category and the amount of effort required to renovate.  It's entirely possible that the effory level required to renovate to improve one category is the same as moving up 3 categories.\n",
    "\n",
    "Using the information above I would target houses in category 3 that have an average dollar/sqft value less than the $80/sqft.  These houses would represent the greatest renovation potential with the lowest risk."
   ]
  },
  {
   "cell_type": "code",
   "execution_count": 35,
   "metadata": {
    "collapsed": false
   },
   "outputs": [
    {
     "data": {
      "text/html": [
       "<div>\n",
       "<table border=\"1\" class=\"dataframe\">\n",
       "  <thead>\n",
       "    <tr style=\"text-align: right;\">\n",
       "      <th></th>\n",
       "      <th>SalePrice</th>\n",
       "      <th>LotArea</th>\n",
       "      <th>LotFrontage</th>\n",
       "      <th>GrLivArea</th>\n",
       "      <th>BsmtUnfSF</th>\n",
       "      <th>Condition1</th>\n",
       "      <th>YearBuilt</th>\n",
       "      <th>YearRemodAdd</th>\n",
       "      <th>TotalBsmtSF</th>\n",
       "      <th>BsmtCond</th>\n",
       "      <th>...</th>\n",
       "      <th>KitchenQual</th>\n",
       "      <th>SaleCondition</th>\n",
       "      <th>Neighborhood</th>\n",
       "      <th>TotRmsAbvGrd</th>\n",
       "      <th>FullBath</th>\n",
       "      <th>OverallQual</th>\n",
       "      <th>OverallCond</th>\n",
       "      <th>BldgType</th>\n",
       "      <th>SaleType</th>\n",
       "      <th>dpsqft</th>\n",
       "    </tr>\n",
       "  </thead>\n",
       "  <tbody>\n",
       "    <tr>\n",
       "      <th>74</th>\n",
       "      <td>107400</td>\n",
       "      <td>5790</td>\n",
       "      <td>60.0</td>\n",
       "      <td>1605</td>\n",
       "      <td>840</td>\n",
       "      <td>Norm</td>\n",
       "      <td>1915</td>\n",
       "      <td>1950</td>\n",
       "      <td>840</td>\n",
       "      <td>NaN</td>\n",
       "      <td>...</td>\n",
       "      <td>TA</td>\n",
       "      <td>Normal</td>\n",
       "      <td>OldTown</td>\n",
       "      <td>8</td>\n",
       "      <td>2</td>\n",
       "      <td>3</td>\n",
       "      <td>6</td>\n",
       "      <td>1Fam</td>\n",
       "      <td>WD</td>\n",
       "      <td>66.915888</td>\n",
       "    </tr>\n",
       "    <tr>\n",
       "      <th>250</th>\n",
       "      <td>76500</td>\n",
       "      <td>5350</td>\n",
       "      <td>55.0</td>\n",
       "      <td>1306</td>\n",
       "      <td>728</td>\n",
       "      <td>Norm</td>\n",
       "      <td>1940</td>\n",
       "      <td>1966</td>\n",
       "      <td>728</td>\n",
       "      <td>NaN</td>\n",
       "      <td>...</td>\n",
       "      <td>Fa</td>\n",
       "      <td>Normal</td>\n",
       "      <td>BrkSide</td>\n",
       "      <td>6</td>\n",
       "      <td>1</td>\n",
       "      <td>3</td>\n",
       "      <td>2</td>\n",
       "      <td>1Fam</td>\n",
       "      <td>WD</td>\n",
       "      <td>58.575804</td>\n",
       "    </tr>\n",
       "    <tr>\n",
       "      <th>620</th>\n",
       "      <td>67000</td>\n",
       "      <td>8248</td>\n",
       "      <td>45.0</td>\n",
       "      <td>864</td>\n",
       "      <td>823</td>\n",
       "      <td>Norm</td>\n",
       "      <td>1914</td>\n",
       "      <td>1950</td>\n",
       "      <td>864</td>\n",
       "      <td>NaN</td>\n",
       "      <td>...</td>\n",
       "      <td>TA</td>\n",
       "      <td>Normal</td>\n",
       "      <td>Edwards</td>\n",
       "      <td>5</td>\n",
       "      <td>1</td>\n",
       "      <td>3</td>\n",
       "      <td>3</td>\n",
       "      <td>1Fam</td>\n",
       "      <td>WD</td>\n",
       "      <td>77.546296</td>\n",
       "    </tr>\n",
       "    <tr>\n",
       "      <th>710</th>\n",
       "      <td>52000</td>\n",
       "      <td>4130</td>\n",
       "      <td>56.0</td>\n",
       "      <td>729</td>\n",
       "      <td>270</td>\n",
       "      <td>Norm</td>\n",
       "      <td>1935</td>\n",
       "      <td>2003</td>\n",
       "      <td>270</td>\n",
       "      <td>NaN</td>\n",
       "      <td>...</td>\n",
       "      <td>TA</td>\n",
       "      <td>Normal</td>\n",
       "      <td>BrkSide</td>\n",
       "      <td>5</td>\n",
       "      <td>1</td>\n",
       "      <td>3</td>\n",
       "      <td>6</td>\n",
       "      <td>1Fam</td>\n",
       "      <td>WD</td>\n",
       "      <td>71.330590</td>\n",
       "    </tr>\n",
       "    <tr>\n",
       "      <th>968</th>\n",
       "      <td>37900</td>\n",
       "      <td>5925</td>\n",
       "      <td>50.0</td>\n",
       "      <td>968</td>\n",
       "      <td>600</td>\n",
       "      <td>Norm</td>\n",
       "      <td>1910</td>\n",
       "      <td>1950</td>\n",
       "      <td>600</td>\n",
       "      <td>NaN</td>\n",
       "      <td>...</td>\n",
       "      <td>TA</td>\n",
       "      <td>Abnorml</td>\n",
       "      <td>OldTown</td>\n",
       "      <td>6</td>\n",
       "      <td>1</td>\n",
       "      <td>3</td>\n",
       "      <td>6</td>\n",
       "      <td>1Fam</td>\n",
       "      <td>WD</td>\n",
       "      <td>39.152893</td>\n",
       "    </tr>\n",
       "    <tr>\n",
       "      <th>1186</th>\n",
       "      <td>95000</td>\n",
       "      <td>10615</td>\n",
       "      <td>107.0</td>\n",
       "      <td>1699</td>\n",
       "      <td>538</td>\n",
       "      <td>Artery</td>\n",
       "      <td>1900</td>\n",
       "      <td>1970</td>\n",
       "      <td>978</td>\n",
       "      <td>NaN</td>\n",
       "      <td>...</td>\n",
       "      <td>TA</td>\n",
       "      <td>Abnorml</td>\n",
       "      <td>OldTown</td>\n",
       "      <td>7</td>\n",
       "      <td>2</td>\n",
       "      <td>3</td>\n",
       "      <td>5</td>\n",
       "      <td>2fmCon</td>\n",
       "      <td>WD</td>\n",
       "      <td>55.915244</td>\n",
       "    </tr>\n",
       "    <tr>\n",
       "      <th>1380</th>\n",
       "      <td>58500</td>\n",
       "      <td>8212</td>\n",
       "      <td>45.0</td>\n",
       "      <td>864</td>\n",
       "      <td>661</td>\n",
       "      <td>Norm</td>\n",
       "      <td>1914</td>\n",
       "      <td>1950</td>\n",
       "      <td>864</td>\n",
       "      <td>NaN</td>\n",
       "      <td>...</td>\n",
       "      <td>TA</td>\n",
       "      <td>Normal</td>\n",
       "      <td>Edwards</td>\n",
       "      <td>5</td>\n",
       "      <td>1</td>\n",
       "      <td>3</td>\n",
       "      <td>3</td>\n",
       "      <td>1Fam</td>\n",
       "      <td>WD</td>\n",
       "      <td>67.708333</td>\n",
       "    </tr>\n",
       "  </tbody>\n",
       "</table>\n",
       "<p>7 rows × 28 columns</p>\n",
       "</div>"
      ],
      "text/plain": [
       "      SalePrice  LotArea  LotFrontage  GrLivArea  BsmtUnfSF Condition1  \\\n",
       "74       107400     5790         60.0       1605        840       Norm   \n",
       "250       76500     5350         55.0       1306        728       Norm   \n",
       "620       67000     8248         45.0        864        823       Norm   \n",
       "710       52000     4130         56.0        729        270       Norm   \n",
       "968       37900     5925         50.0        968        600       Norm   \n",
       "1186      95000    10615        107.0       1699        538     Artery   \n",
       "1380      58500     8212         45.0        864        661       Norm   \n",
       "\n",
       "      YearBuilt  YearRemodAdd  TotalBsmtSF  BsmtCond    ...     KitchenQual  \\\n",
       "74         1915          1950          840       NaN    ...              TA   \n",
       "250        1940          1966          728       NaN    ...              Fa   \n",
       "620        1914          1950          864       NaN    ...              TA   \n",
       "710        1935          2003          270       NaN    ...              TA   \n",
       "968        1910          1950          600       NaN    ...              TA   \n",
       "1186       1900          1970          978       NaN    ...              TA   \n",
       "1380       1914          1950          864       NaN    ...              TA   \n",
       "\n",
       "     SaleCondition Neighborhood  TotRmsAbvGrd  FullBath  OverallQual  \\\n",
       "74          Normal      OldTown             8         2            3   \n",
       "250         Normal      BrkSide             6         1            3   \n",
       "620         Normal      Edwards             5         1            3   \n",
       "710         Normal      BrkSide             5         1            3   \n",
       "968        Abnorml      OldTown             6         1            3   \n",
       "1186       Abnorml      OldTown             7         2            3   \n",
       "1380        Normal      Edwards             5         1            3   \n",
       "\n",
       "      OverallCond  BldgType SaleType     dpsqft  \n",
       "74              6      1Fam       WD  66.915888  \n",
       "250             2      1Fam       WD  58.575804  \n",
       "620             3      1Fam       WD  77.546296  \n",
       "710             6      1Fam       WD  71.330590  \n",
       "968             6      1Fam       WD  39.152893  \n",
       "1186            5    2fmCon       WD  55.915244  \n",
       "1380            3      1Fam       WD  67.708333  \n",
       "\n",
       "[7 rows x 28 columns]"
      ]
     },
     "execution_count": 35,
     "metadata": {},
     "output_type": "execute_result"
    }
   ],
   "source": [
    "#prospects = subset[(subset.OverallQual==3) & (subset.dpsqft <= 80) & (subset.GrLivArea > 1000)]\n",
    "prospects = subset[(subset.OverallQual==3) & (subset.dpsqft <= 80)]\n",
    "\n",
    "prospects"
   ]
  },
  {
   "cell_type": "markdown",
   "metadata": {},
   "source": [
    "The list above represents seven homes that I would target for potential renovation.  If we had more personal knowledge of the Neighborhoods we might be able to refine this list even more. "
   ]
  },
  {
   "cell_type": "code",
   "execution_count": 36,
   "metadata": {
    "collapsed": false
   },
   "outputs": [
    {
     "data": {
      "text/plain": [
       "array(['Gd', 'TA', 'Ex', 'Fa'], dtype=object)"
      ]
     },
     "execution_count": 36,
     "metadata": {},
     "output_type": "execute_result"
    }
   ],
   "source": [
    "subset.KitchenQual.unique()"
   ]
  },
  {
   "cell_type": "code",
   "execution_count": 37,
   "metadata": {
    "collapsed": false
   },
   "outputs": [
    {
     "name": "stdout",
     "output_type": "stream",
     "text": [
      "KitchenQual\n",
      "Ex    160.130585\n",
      "Fa     92.119419\n",
      "Gd    129.936768\n",
      "TA    109.810815\n",
      "Name: dpsqft, dtype: float64\n"
     ]
    },
    {
     "data": {
      "image/png": "[encoded data removed]",
      "text/plain": [
       "<matplotlib.figure.Figure at 0x11b18cd50>"
      ]
     },
     "metadata": {},
     "output_type": "display_data"
    }
   ],
   "source": [
    "#Let's have a look at average $/sqft vs KitchenQuality\n",
    "\n",
    "#Use groupby function to calculate $/sqft for each category in Kitchen Quality\n",
    "print subset.groupby('KitchenQual').dpsqft.mean()\n",
    "N = 4\n",
    "ind = np.arange(N)\n",
    "label = ['Fair','Average','Good','Excellent']\n",
    "ybar = np.sort(subset.groupby('KitchenQual').dpsqft.mean().values)\n",
    "std_dev = subset.groupby('KitchenQual').dpsqft.std().values\n",
    "\n",
    "\n",
    "#plt.bar(xbar,ybar,0.35,color='red')\n",
    "plt.bar(ind,ybar,0.35,color='red',yerr=std_dev, error_kw=dict(elinewidth=2,ecolor='black'))\n",
    "\n",
    "plt.title('Average $/sqft by Kitchen Quality')\n",
    "plt.xlabel('Kitchen Quality')\n",
    "plt.xticks(ind,label)\n",
    "plt.ylabel('$/sqft')\n",
    "\n",
    "plt.show()"
   ]
  },
  {
   "cell_type": "markdown",
   "metadata": {},
   "source": [
    "The bar chart would suggest that the best target for renovations are homes with kitchens ranked in the 'Good' category.  This would have the safest return on investment."
   ]
  },
  {
   "cell_type": "code",
   "execution_count": 38,
   "metadata": {
    "collapsed": false,
    "scrolled": true
   },
   "outputs": [
    {
     "data": {
      "text/plain": [
       "(253, 28)"
      ]
     },
     "execution_count": 38,
     "metadata": {},
     "output_type": "execute_result"
    }
   ],
   "source": [
    "#Using the same methodology as above.\n",
    "\n",
    "k_reno = subset[(subset.KitchenQual=='Gd') & (subset.dpsqft <= 125)]\n",
    "\n",
    "k_reno.shape"
   ]
  },
  {
   "cell_type": "code",
   "execution_count": 39,
   "metadata": {
    "collapsed": false
   },
   "outputs": [],
   "source": [
    "#In this case I have identified 253 kitchens that could benefit from a renovation."
   ]
  },
  {
   "cell_type": "markdown",
   "metadata": {},
   "source": [
    "## Answer to question 3: \n",
    "Investigate how much of the variance in price remaining is explained by these features.\n",
    "Going back to the bar chart of houses grouped by over all qulaity I have displayed the error within each category.  When looking at the error one can observe that there is overlap between categories.  This is why I said to target houses that are below the mean within the category.\n"
   ]
  },
  {
   "cell_type": "markdown",
   "metadata": {},
   "source": [
    "## Answer to question 4: \n",
    "Do you trust your model? \n",
    "As a first pass in identifying potential houses yes.  But further research would be required to assess the properties.  Seeing the properties with your own eyes provides the best evaluaiton.\n",
    "\n",
    "\n",
    "Should it be used to evaluate which properties to buy and fix up?\n",
    "In the first part of question 2 I think the model does a good job of identifying houses that have renovation potential however this does not take into account other factors like neighborhood, amenities, crime, etc.  At the end of the day it identified a list of houses and it would be upto a real estate agent to scope them out to assess.  This model is appropriate as a first step filter."
   ]
  },
  {
   "cell_type": "markdown",
   "metadata": {},
   "source": [
    "<img src=\"http://imgur.com/GCAf1UX.png\" style=\"float: left; margin: 25px 15px 0px 0px; height: 25px\">\n",
    "\n",
    "## 3. What property characteristics predict an \"abnormal\" sale?\n",
    "\n",
    "---\n",
    "\n",
    "The `SaleCondition` feature indicates the circumstances of the house sale. From the data file, we can see that the possibilities are:\n",
    "\n",
    "       Normal\tNormal Sale\n",
    "       Abnorml\tAbnormal Sale -  trade, foreclosure, short sale\n",
    "       AdjLand\tAdjoining Land Purchase\n",
    "       Alloca\tAllocation - two linked properties with separate deeds, typically condo with a garage unit\t\n",
    "       Family\tSale between family members\n",
    "       Partial\tHome was not completed when last assessed (associated with New Homes)\n",
    "       \n",
    "One of the executives at your company has an \"in\" with higher-ups at the major regional bank. His friends at the bank have made him a proposal: if he can reliably indicate what features, if any, predict \"abnormal\" sales (foreclosures, short sales, etc.), then in return the bank will give him first dibs on the pre-auction purchase of those properties (at a dirt-cheap price).\n",
    "\n",
    "He has tasked you with determining (and adequately validating) which features of a property predict this type of sale. \n",
    "\n",
    "---\n",
    "\n",
    "**Your task:**\n",
    "1. Determine which features predict the `Abnorml` category in the `SaleCondition` feature.\n",
    "- Justify your results.\n",
    "\n",
    "This is a challenging task that tests your ability to perform classification analysis in the face of severe class imbalance. You may find that simply running a classifier on the full dataset to predict the category ends up useless: when there is bad class imbalance classifiers often tend to simply guess the majority class.\n",
    "\n",
    "It is up to you to determine how you will tackle this problem. I recommend doing some research to find out how others have dealt with the problem in the past. Make sure to justify your solution. Don't worry about it being \"the best\" solution, but be rigorous.\n",
    "\n",
    "Be sure to indicate which features are predictive (if any) and whether they are positive or negative predictors of abnormal sales."
   ]
  },
  {
   "cell_type": "code",
   "execution_count": 40,
   "metadata": {
    "collapsed": false
   },
   "outputs": [
    {
     "data": {
      "text/plain": [
       "array([[208500,   8450,   1710, ...,      7,      5,   2008],\n",
       "       [181500,   9600,   1262, ...,      6,      8,   2007],\n",
       "       [223500,  11250,   1786, ...,      7,      5,   2008],\n",
       "       ..., \n",
       "       [266500,   9042,   2340, ...,      7,      9,   2010],\n",
       "       [142125,   9717,   1078, ...,      5,      6,   2010],\n",
       "       [147500,   9937,   1256, ...,      5,      6,   2008]])"
      ]
     },
     "execution_count": 40,
     "metadata": {},
     "output_type": "execute_result"
    }
   ],
   "source": [
    "#To predict Abnormal sales let's use logistical regression.\n",
    "\n",
    "#Set all 'Abnorml' values to binary where 1=Abnormal and 0= Not\n",
    "SaleCond_dummies = pd.get_dummies(subset.SaleCondition)\n",
    "\n",
    "#Set target varibale\n",
    "y = SaleCond_dummies.Abnorml.values\n",
    "\n",
    "#Set predictor variables. If I had more time I would try feature selection or gridsearch\n",
    "X = subset[['SalePrice','LotArea','GrLivArea','YearBuilt','YearRemodAdd','PoolArea','OverallQual','OverallCond','YrSold']]\n",
    "\n",
    "X.values"
   ]
  },
  {
   "cell_type": "code",
   "execution_count": 41,
   "metadata": {
    "collapsed": false
   },
   "outputs": [
    {
     "data": {
      "text/plain": [
       "Index([u'SalePrice', u'LotArea', u'GrLivArea', u'YearBuilt', u'YearRemodAdd',\n",
       "       u'PoolArea', u'OverallQual', u'OverallCond', u'YrSold'],\n",
       "      dtype='object')"
      ]
     },
     "execution_count": 41,
     "metadata": {},
     "output_type": "execute_result"
    }
   ],
   "source": [
    "X.columns"
   ]
  },
  {
   "cell_type": "code",
   "execution_count": 42,
   "metadata": {
    "collapsed": false
   },
   "outputs": [
    {
     "data": {
      "text/plain": [
       "SalePrice       int64\n",
       "LotArea         int64\n",
       "GrLivArea       int64\n",
       "YearBuilt       int64\n",
       "YearRemodAdd    int64\n",
       "PoolArea        int64\n",
       "OverallQual     int64\n",
       "OverallCond     int64\n",
       "YrSold          int64\n",
       "dtype: object"
      ]
     },
     "execution_count": 42,
     "metadata": {},
     "output_type": "execute_result"
    }
   ],
   "source": [
    "X.dtypes"
   ]
  },
  {
   "cell_type": "code",
   "execution_count": 43,
   "metadata": {
    "collapsed": false
   },
   "outputs": [
    {
     "name": "stdout",
     "output_type": "stream",
     "text": [
      "96\n"
     ]
    },
    {
     "data": {
      "text/plain": [
       "(1450, 28)"
      ]
     },
     "execution_count": 43,
     "metadata": {},
     "output_type": "execute_result"
    }
   ],
   "source": [
    "abnrml_values = sum([x for x in y if x==1])\n",
    "print abnrml_values\n",
    "subset.shape"
   ]
  },
  {
   "cell_type": "code",
   "execution_count": 44,
   "metadata": {
    "collapsed": false
   },
   "outputs": [
    {
     "name": "stderr",
     "output_type": "stream",
     "text": [
      "/Users/gopetro/anaconda2/lib/python2.7/site-packages/sklearn/cross_validation.py:44: DeprecationWarning: This module was deprecated in version 0.18 in favor of the model_selection module into which all the refactored classes and functions are moved. Also note that the interface of the new CV iterators are different from that of this module. This module will be removed in 0.20.\n",
      "  \"This module will be removed in 0.20.\", DeprecationWarning)\n",
      "/Users/gopetro/anaconda2/lib/python2.7/site-packages/sklearn/grid_search.py:43: DeprecationWarning: This module was deprecated in version 0.18 in favor of the model_selection module into which all the refactored classes and functions are moved. This module will be removed in 0.20.\n",
      "  DeprecationWarning)\n"
     ]
    }
   ],
   "source": [
    "from sklearn.preprocessing import StandardScaler\n",
    "from sklearn.metrics import classification_report, confusion_matrix, accuracy_score\n",
    "from sklearn.model_selection import train_test_split\n",
    "from sklearn.linear_model import LogisticRegression, LogisticRegressionCV\n",
    "from sklearn.grid_search import GridSearchCV\n"
   ]
  },
  {
   "cell_type": "code",
   "execution_count": 45,
   "metadata": {
    "collapsed": false
   },
   "outputs": [
    {
     "name": "stdout",
     "output_type": "stream",
     "text": [
      "0.0662068965517\n"
     ]
    }
   ],
   "source": [
    "# baseline:\n",
    "print np.mean(y)"
   ]
  },
  {
   "cell_type": "code",
   "execution_count": 46,
   "metadata": {
    "collapsed": true
   },
   "outputs": [],
   "source": [
    "#This is really low since most data points are equal to normal where normal=0"
   ]
  },
  {
   "cell_type": "code",
   "execution_count": 47,
   "metadata": {
    "collapsed": false
   },
   "outputs": [],
   "source": [
    "#Standardize variables\n",
    "ss = StandardScaler()\n",
    "Xs = ss.fit_transform(X)"
   ]
  },
  {
   "cell_type": "code",
   "execution_count": 1204,
   "metadata": {
    "collapsed": false
   },
   "outputs": [
    {
     "name": "stdout",
     "output_type": "stream",
     "text": [
      "[ 0.93220339  0.93220339  0.93220339  0.93220339  0.93103448  0.93103448\n",
      "  0.93103448  0.93103448  0.93103448  0.93103448  0.93103448  0.93103448\n",
      "  0.93103448  0.93103448  0.93103448  0.93103448  0.93103448  0.93103448\n",
      "  0.93103448  0.93103448  0.93103448  0.94736842  0.92982456  0.94736842\n",
      "  0.94736842]\n",
      "0.933133183631\n"
     ]
    }
   ],
   "source": [
    "from sklearn.model_selection import cross_val_score\n",
    "\n",
    "lr = LogisticRegression()\n",
    "\n",
    "# using a 25-fold cross-val for fun\n",
    "scores = cross_val_score(lr, Xs, y, cv=25)\n",
    "print scores\n",
    "print np.mean(scores)"
   ]
  },
  {
   "cell_type": "code",
   "execution_count": 1205,
   "metadata": {
    "collapsed": true
   },
   "outputs": [],
   "source": [
    "#The above is higher than baseline accuracy but remember that we have quite high class imbalance."
   ]
  },
  {
   "cell_type": "code",
   "execution_count": 87,
   "metadata": {
    "collapsed": false
   },
   "outputs": [],
   "source": [
    "# Train Test Split our data using a 50/50 split.\n",
    "#X_train, X_test, y_train, y_test = train_test_split(X, y, test_size=0.5, random_state=12)\n",
    "X_train, X_test, y_train, y_test = train_test_split(Xs, y, test_size=0.5)"
   ]
  },
  {
   "cell_type": "code",
   "execution_count": 88,
   "metadata": {
    "collapsed": false
   },
   "outputs": [],
   "source": [
    "#Compute logisitc regression\n",
    "lr = LogisticRegression()\n",
    "lr.fit(X_train, y_train)\n",
    "y_pred = lr.predict(X_test)\n",
    "y_pred_pp = lr.predict_proba(X_test)"
   ]
  },
  {
   "cell_type": "code",
   "execution_count": 89,
   "metadata": {
    "collapsed": false
   },
   "outputs": [
    {
     "data": {
      "text/plain": [
       "array([[ 0.87375686,  0.12624314],\n",
       "       [ 0.90414779,  0.09585221],\n",
       "       [ 0.94821252,  0.05178748],\n",
       "       [ 0.92978497,  0.07021503],\n",
       "       [ 0.91225259,  0.08774741]])"
      ]
     },
     "execution_count": 89,
     "metadata": {},
     "output_type": "execute_result"
    }
   ],
   "source": [
    "y_pred_pp[0:5]"
   ]
  },
  {
   "cell_type": "code",
   "execution_count": 90,
   "metadata": {
    "collapsed": false
   },
   "outputs": [
    {
     "name": "stdout",
     "output_type": "stream",
     "text": [
      "[[680   0]\n",
      " [ 45   0]]\n"
     ]
    }
   ],
   "source": [
    "#from sklearn.metrics import confusion_matrix\n",
    "\n",
    "confusion = np.array(confusion_matrix(y_test, y_pred))\n",
    "\n",
    "print(confusion)"
   ]
  },
  {
   "cell_type": "code",
   "execution_count": 91,
   "metadata": {
    "collapsed": true
   },
   "outputs": [],
   "source": [
    "# calculate true positives, the number of 1s correctly predicted to be 1\n",
    "TP = confusion[0,0]\n",
    "\n",
    "# calculate false positives, the number of 0s incorrectly predicted to be 1\n",
    "FP  = confusion[1,0]\n",
    "\n",
    "# calculate true negatives, the number of 0s correctly predicted to be 0\n",
    "TN = confusion[1,1]\n",
    "\n",
    "# calculate false negatives, the number of 1s incorrectly predicted to be 0\n",
    "FN = confusion[0,1]"
   ]
  },
  {
   "cell_type": "code",
   "execution_count": 92,
   "metadata": {
    "collapsed": false
   },
   "outputs": [
    {
     "data": {
      "text/html": [
       "<div>\n",
       "<table border=\"1\" class=\"dataframe\">\n",
       "  <thead>\n",
       "    <tr style=\"text-align: right;\">\n",
       "      <th></th>\n",
       "      <th>predicted_Abnormal</th>\n",
       "      <th>predicted_Normal</th>\n",
       "    </tr>\n",
       "  </thead>\n",
       "  <tbody>\n",
       "    <tr>\n",
       "      <th>Abnormal</th>\n",
       "      <td>0</td>\n",
       "      <td>45</td>\n",
       "    </tr>\n",
       "    <tr>\n",
       "      <th>Normal</th>\n",
       "      <td>0</td>\n",
       "      <td>680</td>\n",
       "    </tr>\n",
       "  </tbody>\n",
       "</table>\n",
       "</div>"
      ],
      "text/plain": [
       "          predicted_Abnormal  predicted_Normal\n",
       "Abnormal                   0                45\n",
       "Normal                     0               680"
      ]
     },
     "execution_count": 92,
     "metadata": {},
     "output_type": "execute_result"
    }
   ],
   "source": [
    "conmat = np.array(confusion_matrix(y_test, y_pred, labels=[1,0]))\n",
    "\n",
    "confusion = pd.DataFrame(conmat, index=['Abnormal', 'Normal'],\n",
    "                         columns=['predicted_Abnormal','predicted_Normal'])\n",
    "confusion"
   ]
  },
  {
   "cell_type": "markdown",
   "metadata": {},
   "source": [
    "## Comment\n",
    "There are too few abnormal house sales that the prediciton is unable to account for this.  "
   ]
  },
  {
   "cell_type": "code",
   "execution_count": 93,
   "metadata": {
    "collapsed": false
   },
   "outputs": [
    {
     "name": "stdout",
     "output_type": "stream",
     "text": [
      "             precision    recall  f1-score   support\n",
      "\n",
      "          0       0.94      1.00      0.97       680\n",
      "          1       0.00      0.00      0.00        45\n",
      "\n",
      "avg / total       0.88      0.94      0.91       725\n",
      "\n"
     ]
    }
   ],
   "source": [
    "# Classification Report\n",
    "\n",
    "#Printout:\n",
    "print(classification_report(y_test, y_pred))"
   ]
  },
  {
   "cell_type": "raw",
   "metadata": {},
   "source": []
  },
  {
   "cell_type": "markdown",
   "metadata": {
    "collapsed": true
   },
   "source": [
    "## Comment\n",
    "Due to class imbalance I am unable to predict Abnormal sales as there are too many zeroes.  Let's try lowering the threshold\n"
   ]
  },
  {
   "cell_type": "code",
   "execution_count": 94,
   "metadata": {
    "collapsed": false
   },
   "outputs": [
    {
     "data": {
      "text/html": [
       "<div>\n",
       "<table border=\"1\" class=\"dataframe\">\n",
       "  <thead>\n",
       "    <tr style=\"text-align: right;\">\n",
       "      <th></th>\n",
       "      <th>normal</th>\n",
       "      <th>abnormal</th>\n",
       "    </tr>\n",
       "  </thead>\n",
       "  <tbody>\n",
       "    <tr>\n",
       "      <th>0</th>\n",
       "      <td>0.873757</td>\n",
       "      <td>0.126243</td>\n",
       "    </tr>\n",
       "    <tr>\n",
       "      <th>1</th>\n",
       "      <td>0.904148</td>\n",
       "      <td>0.095852</td>\n",
       "    </tr>\n",
       "    <tr>\n",
       "      <th>2</th>\n",
       "      <td>0.948213</td>\n",
       "      <td>0.051787</td>\n",
       "    </tr>\n",
       "    <tr>\n",
       "      <th>3</th>\n",
       "      <td>0.929785</td>\n",
       "      <td>0.070215</td>\n",
       "    </tr>\n",
       "    <tr>\n",
       "      <th>4</th>\n",
       "      <td>0.912253</td>\n",
       "      <td>0.087747</td>\n",
       "    </tr>\n",
       "  </tbody>\n",
       "</table>\n",
       "</div>"
      ],
      "text/plain": [
       "     normal  abnormal\n",
       "0  0.873757  0.126243\n",
       "1  0.904148  0.095852\n",
       "2  0.948213  0.051787\n",
       "3  0.929785  0.070215\n",
       "4  0.912253  0.087747"
      ]
     },
     "execution_count": 94,
     "metadata": {},
     "output_type": "execute_result"
    }
   ],
   "source": [
    "pp = pd.DataFrame(y_pred_pp, columns=['normal','abnormal'])\n",
    "pp.head()"
   ]
  },
  {
   "cell_type": "code",
   "execution_count": 95,
   "metadata": {
    "collapsed": false
   },
   "outputs": [
    {
     "data": {
      "text/html": [
       "<div>\n",
       "<table border=\"1\" class=\"dataframe\">\n",
       "  <thead>\n",
       "    <tr style=\"text-align: right;\">\n",
       "      <th></th>\n",
       "      <th>normal</th>\n",
       "      <th>abnormal</th>\n",
       "      <th>pred_class_thresh10</th>\n",
       "    </tr>\n",
       "  </thead>\n",
       "  <tbody>\n",
       "    <tr>\n",
       "      <th>0</th>\n",
       "      <td>0.873757</td>\n",
       "      <td>0.126243</td>\n",
       "      <td>1</td>\n",
       "    </tr>\n",
       "    <tr>\n",
       "      <th>1</th>\n",
       "      <td>0.904148</td>\n",
       "      <td>0.095852</td>\n",
       "      <td>0</td>\n",
       "    </tr>\n",
       "    <tr>\n",
       "      <th>2</th>\n",
       "      <td>0.948213</td>\n",
       "      <td>0.051787</td>\n",
       "      <td>0</td>\n",
       "    </tr>\n",
       "    <tr>\n",
       "      <th>3</th>\n",
       "      <td>0.929785</td>\n",
       "      <td>0.070215</td>\n",
       "      <td>0</td>\n",
       "    </tr>\n",
       "    <tr>\n",
       "      <th>4</th>\n",
       "      <td>0.912253</td>\n",
       "      <td>0.087747</td>\n",
       "      <td>0</td>\n",
       "    </tr>\n",
       "    <tr>\n",
       "      <th>5</th>\n",
       "      <td>0.940155</td>\n",
       "      <td>0.059845</td>\n",
       "      <td>0</td>\n",
       "    </tr>\n",
       "    <tr>\n",
       "      <th>6</th>\n",
       "      <td>0.891176</td>\n",
       "      <td>0.108824</td>\n",
       "      <td>1</td>\n",
       "    </tr>\n",
       "    <tr>\n",
       "      <th>7</th>\n",
       "      <td>0.948123</td>\n",
       "      <td>0.051877</td>\n",
       "      <td>0</td>\n",
       "    </tr>\n",
       "    <tr>\n",
       "      <th>8</th>\n",
       "      <td>0.909436</td>\n",
       "      <td>0.090564</td>\n",
       "      <td>0</td>\n",
       "    </tr>\n",
       "    <tr>\n",
       "      <th>9</th>\n",
       "      <td>0.944380</td>\n",
       "      <td>0.055620</td>\n",
       "      <td>0</td>\n",
       "    </tr>\n",
       "  </tbody>\n",
       "</table>\n",
       "</div>"
      ],
      "text/plain": [
       "     normal  abnormal  pred_class_thresh10\n",
       "0  0.873757  0.126243                    1\n",
       "1  0.904148  0.095852                    0\n",
       "2  0.948213  0.051787                    0\n",
       "3  0.929785  0.070215                    0\n",
       "4  0.912253  0.087747                    0\n",
       "5  0.940155  0.059845                    0\n",
       "6  0.891176  0.108824                    1\n",
       "7  0.948123  0.051877                    0\n",
       "8  0.909436  0.090564                    0\n",
       "9  0.944380  0.055620                    0"
      ]
     },
     "execution_count": 95,
     "metadata": {},
     "output_type": "execute_result"
    }
   ],
   "source": [
    "# In order to do this, we can lower the threshold for predicting class 1.\n",
    "# This will reduce our false negative rate to 0, but at the expense of a higher false positive rate.\n",
    "\n",
    "pp['pred_class_thresh10'] = [1 if x >= 0.1 else 0 for x in pp.abnormal.values]\n",
    "pp.head(10)"
   ]
  },
  {
   "cell_type": "code",
   "execution_count": 96,
   "metadata": {
    "collapsed": false
   },
   "outputs": [
    {
     "name": "stdout",
     "output_type": "stream",
     "text": [
      "(725,)\n",
      "(725, 3)\n"
     ]
    }
   ],
   "source": [
    "print y_test.shape\n",
    "print pp.shape"
   ]
  },
  {
   "cell_type": "code",
   "execution_count": 99,
   "metadata": {
    "collapsed": false
   },
   "outputs": [
    {
     "name": "stdout",
     "output_type": "stream",
     "text": [
      "confusion matrix with lowered threshold\n"
     ]
    },
    {
     "data": {
      "text/html": [
       "<div>\n",
       "<table border=\"1\" class=\"dataframe\">\n",
       "  <thead>\n",
       "    <tr style=\"text-align: right;\">\n",
       "      <th></th>\n",
       "      <th>predicted_Abnormal</th>\n",
       "      <th>predicted_Normal</th>\n",
       "    </tr>\n",
       "  </thead>\n",
       "  <tbody>\n",
       "    <tr>\n",
       "      <th>Abnormal</th>\n",
       "      <td>15</td>\n",
       "      <td>30</td>\n",
       "    </tr>\n",
       "    <tr>\n",
       "      <th>Normal</th>\n",
       "      <td>112</td>\n",
       "      <td>568</td>\n",
       "    </tr>\n",
       "  </tbody>\n",
       "</table>\n",
       "</div>"
      ],
      "text/plain": [
       "          predicted_Abnormal  predicted_Normal\n",
       "Abnormal                  15                30\n",
       "Normal                   112               568"
      ]
     },
     "execution_count": 99,
     "metadata": {},
     "output_type": "execute_result"
    }
   ],
   "source": [
    "conmat_thresh = np.array(confusion_matrix(y_test, pp.pred_class_thresh10.values, labels=[1,0]))\n",
    "\n",
    "confusion_thresh = pd.DataFrame(conmat_thresh, index=['Abnormal', 'Normal'],\n",
    "                         columns=['predicted_Abnormal','predicted_Normal'])\n",
    "print 'confusion matrix with lowered threshold'\n",
    "confusion_thresh"
   ]
  },
  {
   "cell_type": "code",
   "execution_count": 119,
   "metadata": {
    "collapsed": false
   },
   "outputs": [
    {
     "name": "stdout",
     "output_type": "stream",
     "text": [
      "confusion matrix Original\n"
     ]
    },
    {
     "data": {
      "text/html": [
       "<div>\n",
       "<table border=\"1\" class=\"dataframe\">\n",
       "  <thead>\n",
       "    <tr style=\"text-align: right;\">\n",
       "      <th></th>\n",
       "      <th>predicted_Abnormal</th>\n",
       "      <th>predicted_Normal</th>\n",
       "    </tr>\n",
       "  </thead>\n",
       "  <tbody>\n",
       "    <tr>\n",
       "      <th>Abnormal</th>\n",
       "      <td>0</td>\n",
       "      <td>45</td>\n",
       "    </tr>\n",
       "    <tr>\n",
       "      <th>Normal</th>\n",
       "      <td>0</td>\n",
       "      <td>680</td>\n",
       "    </tr>\n",
       "  </tbody>\n",
       "</table>\n",
       "</div>"
      ],
      "text/plain": [
       "          predicted_Abnormal  predicted_Normal\n",
       "Abnormal                   0                45\n",
       "Normal                     0               680"
      ]
     },
     "execution_count": 119,
     "metadata": {},
     "output_type": "execute_result"
    }
   ],
   "source": [
    "#Compare to original before lowering threshold\n",
    "print 'confusion matrix Original'\n",
    "confusion"
   ]
  },
  {
   "cell_type": "code",
   "execution_count": 120,
   "metadata": {
    "collapsed": true
   },
   "outputs": [],
   "source": [
    "#After lowering the threshold we have improved the amount of abnormal predictions.  However this comes at the expense of increases False negatives\n",
    "\n",
    "#The results produced for this question were very much taken from lesson 5.5.1 Evaluating Classifiers: Confusion Matrix and AUD and ROC.\n",
    "#Credit Kiefer Katovich & Joseph Nelson\n"
   ]
  },
  {
   "cell_type": "code",
   "execution_count": 121,
   "metadata": {
    "collapsed": false
   },
   "outputs": [
    {
     "data": {
      "text/html": [
       "<div>\n",
       "<table border=\"1\" class=\"dataframe\">\n",
       "  <thead>\n",
       "    <tr style=\"text-align: right;\">\n",
       "      <th></th>\n",
       "      <th>normal</th>\n",
       "      <th>abnormal</th>\n",
       "      <th>pred_class_thresh10</th>\n",
       "    </tr>\n",
       "  </thead>\n",
       "  <tbody>\n",
       "    <tr>\n",
       "      <th>0</th>\n",
       "      <td>0.873757</td>\n",
       "      <td>0.126243</td>\n",
       "      <td>1</td>\n",
       "    </tr>\n",
       "    <tr>\n",
       "      <th>1</th>\n",
       "      <td>0.904148</td>\n",
       "      <td>0.095852</td>\n",
       "      <td>0</td>\n",
       "    </tr>\n",
       "    <tr>\n",
       "      <th>2</th>\n",
       "      <td>0.948213</td>\n",
       "      <td>0.051787</td>\n",
       "      <td>0</td>\n",
       "    </tr>\n",
       "    <tr>\n",
       "      <th>3</th>\n",
       "      <td>0.929785</td>\n",
       "      <td>0.070215</td>\n",
       "      <td>0</td>\n",
       "    </tr>\n",
       "    <tr>\n",
       "      <th>4</th>\n",
       "      <td>0.912253</td>\n",
       "      <td>0.087747</td>\n",
       "      <td>0</td>\n",
       "    </tr>\n",
       "  </tbody>\n",
       "</table>\n",
       "</div>"
      ],
      "text/plain": [
       "     normal  abnormal  pred_class_thresh10\n",
       "0  0.873757  0.126243                    1\n",
       "1  0.904148  0.095852                    0\n",
       "2  0.948213  0.051787                    0\n",
       "3  0.929785  0.070215                    0\n",
       "4  0.912253  0.087747                    0"
      ]
     },
     "execution_count": 121,
     "metadata": {},
     "output_type": "execute_result"
    }
   ],
   "source": [
    "pp.head()"
   ]
  },
  {
   "cell_type": "code",
   "execution_count": null,
   "metadata": {
    "collapsed": false
   },
   "outputs": [],
   "source": []
  },
  {
   "cell_type": "code",
   "execution_count": 182,
   "metadata": {
    "collapsed": false
   },
   "outputs": [
    {
     "data": {
      "image/png": "[encoded data removed]",
      "text/plain": [
       "<matplotlib.figure.Figure at 0x11c208190>"
      ]
     },
     "metadata": {},
     "output_type": "display_data"
    }
   ],
   "source": [
    "#ROC/AUC plot of the original and threshold\n",
    "from sklearn.metrics import roc_curve, auc\n",
    "\n",
    "#fpr, tpr, _ = roc_curve(y_test, pp.abnormal)\n",
    "fpr, tpr, _ = roc_curve(y_test, y_pred_pp[:,1])\n",
    "roc_auc = auc(fpr, tpr)\n",
    "\n",
    "plt.figure(figsize=[8,8])\n",
    "plt.plot(fpr, tpr, label='ROC curve (area = %0.2f)' % roc_auc, linewidth=4)\n",
    "plt.plot([0, 1], [0, 1], 'k--', linewidth=4)\n",
    "plt.xlim([-0.05, 1.0])\n",
    "plt.ylim([-0.05, 1.05])\n",
    "plt.xlabel('False Positive Rate', fontsize=18)\n",
    "plt.ylabel('True Positive Rate', fontsize=18)\n",
    "plt.title('Receiver operating characteristic: Abnormal House Sales', fontsize=18)\n",
    "plt.legend(loc=\"lower right\")\n",
    "plt.show()"
   ]
  },
  {
   "cell_type": "code",
   "execution_count": 183,
   "metadata": {
    "collapsed": false
   },
   "outputs": [],
   "source": [
    "#Not working\n",
    "\n",
    "# fpr, tpr, _ = roc_curve(y_test, y_pred_pp[:,1])\n",
    "# fpr_t, tpr_t, _ = roc_curve(y_test, pp.pred_class_thresh10)\n",
    "# roc_auc = auc(fpr, tpr)\n",
    "# roc_auc_t = auc(fpr_t, tpr_t)\n",
    "\n",
    "# plt.figure(figsize=[8,8])\n",
    "# plt.plot(fpr, tpr, label='Original (area = %0.2f)' % roc_auc, linewidth=4)\n",
    "# plt.plot(fpr_t, tpr_t, label='Thresh10 (area = %0.2f)' % roc_auc_t, linewidth=4)\n",
    "# plt.plot([0, 1], [0, 1], 'k--', linewidth=4)\n",
    "# plt.xlim([-0.05, 1.0])\n",
    "# plt.ylim([-0.05, 1.05])\n",
    "# plt.xlabel('False Positive Rate', fontsize=18)\n",
    "# plt.ylabel('True Positive Rate', fontsize=18)\n",
    "# plt.title('Receiver operating characteristic: Abnormal Sales', fontsize=18)\n",
    "# plt.legend(loc=\"lower right\")\n",
    "# plt.show()"
   ]
  },
  {
   "cell_type": "code",
   "execution_count": 184,
   "metadata": {
    "collapsed": false
   },
   "outputs": [
    {
     "data": {
      "text/plain": [
       "LogisticRegressionCV(Cs=200, class_weight=None, cv=25, dual=False,\n",
       "           fit_intercept=True, intercept_scaling=1.0, max_iter=100,\n",
       "           multi_class='ovr', n_jobs=1, penalty='l2', random_state=None,\n",
       "           refit=True, scoring=None, solver='lbfgs', tol=0.0001, verbose=0)"
      ]
     },
     "execution_count": 184,
     "metadata": {},
     "output_type": "execute_result"
    }
   ],
   "source": [
    "#Now lets try Lasso using the threshold\n",
    "\n",
    "from sklearn.linear_model import LogisticRegressionCV\n",
    "\n",
    "#lr_lasso = LogisticRegressionCV(penalty='l2', solver='liblinear', Cs=100, cv=10)\n",
    "#lr_lasso.fit(X_train, y_train)\n",
    "\n",
    "lr_ridge = LogisticRegressionCV(penalty='l2', Cs=200, cv=25)\n",
    "lr_ridge.fit(X_train, y_train)"
   ]
  },
  {
   "cell_type": "code",
   "execution_count": 185,
   "metadata": {
    "collapsed": false
   },
   "outputs": [
    {
     "data": {
      "text/html": [
       "<div>\n",
       "<table border=\"1\" class=\"dataframe\">\n",
       "  <thead>\n",
       "    <tr style=\"text-align: right;\">\n",
       "      <th></th>\n",
       "      <th>predicted_Abnormal</th>\n",
       "      <th>predicted_Normal</th>\n",
       "    </tr>\n",
       "  </thead>\n",
       "  <tbody>\n",
       "    <tr>\n",
       "      <th>Abnormal</th>\n",
       "      <td>0</td>\n",
       "      <td>45</td>\n",
       "    </tr>\n",
       "    <tr>\n",
       "      <th>Normal</th>\n",
       "      <td>0</td>\n",
       "      <td>680</td>\n",
       "    </tr>\n",
       "  </tbody>\n",
       "</table>\n",
       "</div>"
      ],
      "text/plain": [
       "          predicted_Abnormal  predicted_Normal\n",
       "Abnormal                   0                45\n",
       "Normal                     0               680"
      ]
     },
     "execution_count": 185,
     "metadata": {},
     "output_type": "execute_result"
    }
   ],
   "source": [
    "yhat_ridge = lr_ridge.predict(X_test)\n",
    "yhat_ridge_pp = lr_ridge.predict_proba(X_test)\n",
    "\n",
    "conmat = np.array(confusion_matrix(y_test, yhat_ridge, labels=[1,0]))\n",
    "\n",
    "confusion = pd.DataFrame(conmat, index=['Abnormal', 'Normal'],\n",
    "                         columns=['predicted_Abnormal','predicted_Normal'])\n",
    "confusion"
   ]
  },
  {
   "cell_type": "code",
   "execution_count": 186,
   "metadata": {
    "collapsed": false
   },
   "outputs": [
    {
     "name": "stdout",
     "output_type": "stream",
     "text": [
      "             precision    recall  f1-score   support\n",
      "\n",
      "          0       0.94      1.00      0.97       680\n",
      "          1       0.00      0.00      0.00        45\n",
      "\n",
      "avg / total       0.88      0.94      0.91       725\n",
      "\n"
     ]
    }
   ],
   "source": [
    "print(classification_report(y_test, yhat_ridge))"
   ]
  },
  {
   "cell_type": "code",
   "execution_count": 187,
   "metadata": {
    "collapsed": false
   },
   "outputs": [
    {
     "data": {
      "text/plain": [
       "array([[ 0.92920305,  0.07079695],\n",
       "       [ 0.92918118,  0.07081882],\n",
       "       [ 0.92987321,  0.07012679],\n",
       "       [ 0.92963405,  0.07036595],\n",
       "       [ 0.92932723,  0.07067277]])"
      ]
     },
     "execution_count": 187,
     "metadata": {},
     "output_type": "execute_result"
    }
   ],
   "source": [
    "yhat_ridge_pp[0:5]"
   ]
  },
  {
   "cell_type": "code",
   "execution_count": 188,
   "metadata": {
    "collapsed": true
   },
   "outputs": [],
   "source": [
    "#Just like the logisitic regression the abnormal predicted is no good.  Need to try lowering the threshold\n"
   ]
  },
  {
   "cell_type": "code",
   "execution_count": 189,
   "metadata": {
    "collapsed": false
   },
   "outputs": [],
   "source": [
    "yhat_ridge_pp = pd.DataFrame(yhat_ridge_pp, columns=['Normal','Abnormal'])\n",
    "#pp = pd.DataFrame(y_pred_pp, columns=['Normal','Abnormal'])"
   ]
  },
  {
   "cell_type": "code",
   "execution_count": 190,
   "metadata": {
    "collapsed": false
   },
   "outputs": [
    {
     "name": "stdout",
     "output_type": "stream",
     "text": [
      "     Normal  Abnormal  pred_class_thresh10\n",
      "0  0.929203  0.070797                    0\n",
      "1  0.929181  0.070819                    0\n",
      "2  0.929873  0.070127                    0\n",
      "3  0.929634  0.070366                    0\n",
      "4  0.929327  0.070673                    0\n",
      "5  0.929614  0.070386                    0\n",
      "6  0.929228  0.070772                    0\n",
      "7  0.929853  0.070147                    0\n",
      "8  0.929343  0.070657                    0\n",
      "9  0.929506  0.070494                    0\n"
     ]
    }
   ],
   "source": [
    "#Lower threshold\n",
    "yhat_ridge_pp['pred_class_thresh10'] = [1 if x >= 0.1 else 0 for x in yhat_ridge_pp.Abnormal.values]\n",
    "print yhat_ridge_pp.head(10)"
   ]
  },
  {
   "cell_type": "code",
   "execution_count": 191,
   "metadata": {
    "collapsed": false
   },
   "outputs": [
    {
     "data": {
      "text/html": [
       "<div>\n",
       "<table border=\"1\" class=\"dataframe\">\n",
       "  <thead>\n",
       "    <tr style=\"text-align: right;\">\n",
       "      <th></th>\n",
       "      <th>predicted_Abnormal</th>\n",
       "      <th>predicted_Normal</th>\n",
       "    </tr>\n",
       "  </thead>\n",
       "  <tbody>\n",
       "    <tr>\n",
       "      <th>Abnormal</th>\n",
       "      <td>0</td>\n",
       "      <td>45</td>\n",
       "    </tr>\n",
       "    <tr>\n",
       "      <th>Normal</th>\n",
       "      <td>0</td>\n",
       "      <td>680</td>\n",
       "    </tr>\n",
       "  </tbody>\n",
       "</table>\n",
       "</div>"
      ],
      "text/plain": [
       "          predicted_Abnormal  predicted_Normal\n",
       "Abnormal                   0                45\n",
       "Normal                     0               680"
      ]
     },
     "execution_count": 191,
     "metadata": {},
     "output_type": "execute_result"
    }
   ],
   "source": [
    "conmat = np.array(confusion_matrix(y_test, yhat_ridge_pp.pred_class_thresh10.values, labels=[1,0]))\n",
    "\n",
    "confusion = pd.DataFrame(conmat, index=['Abnormal', 'Normal'],\n",
    "                         columns=['predicted_Abnormal','predicted_Normal'])\n",
    "confusion"
   ]
  },
  {
   "cell_type": "code",
   "execution_count": 192,
   "metadata": {
    "collapsed": true
   },
   "outputs": [],
   "source": [
    "#At least now we are predicting abnormal sales but notice we are also introducing additional false positives"
   ]
  },
  {
   "cell_type": "code",
   "execution_count": 193,
   "metadata": {
    "collapsed": false
   },
   "outputs": [],
   "source": [
    "#fpr_lasso, tpr_lasso, _ = roc_curve(y_test, yhat_lasso_pp[:,1])\n",
    "\n",
    "#fpr_lasso, tpr_lasso, _ = roc_curve(y_test, yhat_lasso_pp.pred_class_thresh10)\n",
    "#roc_auc_lasso = auc(fpr_lasso, tpr_lasso)\n",
    "\n",
    "fpr_ridge, tpr_ridge, _ = roc_curve(y_test, yhat_ridge_pp.Abnormal)\n",
    "roc_auc_ridge = auc(fpr_lasso, tpr_lasso)"
   ]
  },
  {
   "cell_type": "code",
   "execution_count": 194,
   "metadata": {
    "collapsed": false
   },
   "outputs": [
    {
     "data": {
      "image/png": "[encoded data removed]",
      "text/plain": [
       "<matplotlib.figure.Figure at 0x11c39b310>"
      ]
     },
     "metadata": {},
     "output_type": "display_data"
    }
   ],
   "source": [
    "#Plot all the ROC/AUC curves we generated\n",
    "\n",
    "plt.figure(figsize=[8,8])\n",
    "\n",
    "plt.plot(fpr, tpr, label='Original (area = %0.2f)' % roc_auc, linewidth=4)\n",
    "plt.plot(fpr_ridge, tpr_ridge, label='Ridge Thresh (area = %0.2f)' % roc_auc_ridge, \n",
    "         linewidth=4, color='darkgoldenrod')\n",
    "#plt.plot(fpr_t, tpr_t, label='Thresh (area = %0.2f)' % roc_auc_t, \n",
    "#         linewidth=4, color='darkred')\n",
    "\n",
    "plt.plot([0, 1], [0, 1], 'k--', linewidth=4)\n",
    "plt.xlim([-0.05, 1.0])\n",
    "plt.ylim([-0.05, 1.05])\n",
    "plt.xlabel('False Positive Rate', fontsize=18)\n",
    "plt.ylabel('True Positive Rate', fontsize=18)\n",
    "plt.title('Receiver operating characteristic: Abnormal Sales', fontsize=18)\n",
    "plt.legend(loc=\"lower right\")\n",
    "plt.show()"
   ]
  },
  {
   "cell_type": "markdown",
   "metadata": {},
   "source": [
    "Due to imbalance using the original logisitic regression does not predict any abnormal houses.  It's not displayed here but the same holds true if we run a straight up Lasso regression as well.  So to get any abnormal predictors we have to lower the threshold.  The problem is that when we lower the threshold we start to increase the amount of flase positives.  From the three regressions I tried the best result appears to be the Lasso regression with a lower threshold.  Although the original looks the best it is not predicting any abnormal values so its kind of useless.\n",
    "\n",
    "If I had moe time I would also try ridge and elastic net to see if there is any better improvment.  Perhaps changing the input predictors might also result in a better prediction.\n"
   ]
  },
  {
   "cell_type": "code",
   "execution_count": null,
   "metadata": {
    "collapsed": true
   },
   "outputs": [],
   "source": []
  },
  {
   "cell_type": "code",
   "execution_count": null,
   "metadata": {
    "collapsed": true
   },
   "outputs": [],
   "source": []
  }
 ],
 "metadata": {
  "kernelspec": {
   "display_name": "Python 2",
   "language": "python",
   "name": "python2"
  },
  "language_info": {
   "codemirror_mode": {
    "name": "ipython",
    "version": 2
   },
   "file_extension": ".py",
   "mimetype": "text/x-python",
   "name": "python",
   "nbconvert_exporter": "python",
   "pygments_lexer": "ipython2",
   "version": "2.7.13"
  }
 },
 "nbformat": 4,
 "nbformat_minor": 2
}
