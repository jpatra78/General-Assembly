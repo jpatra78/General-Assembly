{
 "cells": [
  {
   "cell_type": "markdown",
   "metadata": {},
   "source": [
    "## Project 4 - EDA and Analysis\n",
    "Jeff Patra\n",
    "\n",
    "Following the webscraping my code was quite messy so I decided to start a new notebook for the eda and analysis\n"
   ]
  },
  {
   "cell_type": "markdown",
   "metadata": {},
   "source": [
    "I had quite a few probems web scraping and ultimately ran out of time.  In the end I was able to webscrape however i ran into two major issues:\n",
    "\n",
    "1. I was getting blocked.\n",
    "    I think this was due to using selenium.  I must have been cycling through the pages too frequently and became detected so I ended up getting blocked.  I was able to scrape about 150 jobs at a time before getting kicked out.  Once kicked out I had to wait an hour or so before being let back in.\n",
    "    \n",
    "2. My second attempt I managed to scrape without using selenium.  I was able to grab more entries however some of the urls were expired jobs.  My code was not setup to handle this so it stopped running.  As a result I had to split up my urls into segments and re run.  Eventually I ended up with a bunch of csv files that I stitched together.  Not ideal but I was just out of time.\n",
    "\n",
    "Due to the problems I was having scraping I was unable to gather 1000 entries.  If I had more time to debug my code then I would have gathered more entries.  In the end I ended up with 586 entries.\n",
    "\n",
    "With that said I will now start my analysis with this data set.\n"
   ]
  },
  {
   "cell_type": "code",
   "execution_count": 27,
   "metadata": {
    "collapsed": true
   },
   "outputs": [],
   "source": [
    "#Credit yuanyuanshi\n",
    "#https://github.com/yuanyuanshi/Data_Skills/blob/master/data_skills_2.py\n",
    "\n",
    "#Credit:  Massive props to Byron Stuart for helping me getting this code running\n",
    "\n",
    "import re\n",
    "from nltk.corpus import stopwords #conda install nltk\n",
    "\n",
    "#Import Goose here: https://pypi.python.org/pypi/goose-extractor/\n",
    "#Follow instructions.  It is NOT a straight forward pip install\n",
    "from goose import Goose \n",
    "from bs4 import BeautifulSoup\n",
    "from selenium import webdriver\n",
    "from selenium.common.exceptions import TimeoutException\n",
    "import time\n",
    "from scrapy.selector import Selector\n",
    "import requests\n",
    "import random\n",
    "import pandas as pd\n",
    "import matplotlib.pyplot as plt"
   ]
  },
  {
   "cell_type": "code",
   "execution_count": 28,
   "metadata": {
    "collapsed": false
   },
   "outputs": [
    {
     "data": {
      "text/html": [
       "<div>\n",
       "<table border=\"1\" class=\"dataframe\">\n",
       "  <thead>\n",
       "    <tr style=\"text-align: right;\">\n",
       "      <th></th>\n",
       "      <th>Date_Posted</th>\n",
       "      <th>Industry</th>\n",
       "      <th>Location</th>\n",
       "      <th>Salary</th>\n",
       "      <th>Skills</th>\n",
       "      <th>Title</th>\n",
       "      <th>Type</th>\n",
       "    </tr>\n",
       "  </thead>\n",
       "  <tbody>\n",
       "    <tr>\n",
       "      <th>0</th>\n",
       "      <td>Today, 2:03pm</td>\n",
       "      <td>Information &amp; Communication Technology</td>\n",
       "      <td>Melbourne Bayside &amp; South Eastern Suburbs</td>\n",
       "      <td>NaN</td>\n",
       "      <td>['excel', 'sql']</td>\n",
       "      <td>Data Analyst - 12 months Fixed Term Contract</td>\n",
       "      <td>Contract/Temp</td>\n",
       "    </tr>\n",
       "    <tr>\n",
       "      <th>1</th>\n",
       "      <td>Today, 1:15pm</td>\n",
       "      <td>Information &amp; Communication Technology</td>\n",
       "      <td>Brisbane CBD &amp; Inner Suburbs</td>\n",
       "      <td>$91 - $97 p/h</td>\n",
       "      <td>[]</td>\n",
       "      <td>Data Analyst</td>\n",
       "      <td>Contract/Temp</td>\n",
       "    </tr>\n",
       "    <tr>\n",
       "      <th>2</th>\n",
       "      <td>Today, 2:00pm</td>\n",
       "      <td>Government &amp; Defence</td>\n",
       "      <td>Brisbane Northern Suburbs</td>\n",
       "      <td>NaN</td>\n",
       "      <td>[]</td>\n",
       "      <td>Business Analyst - Data Analyst Chermside</td>\n",
       "      <td>Contract/Temp</td>\n",
       "    </tr>\n",
       "    <tr>\n",
       "      <th>3</th>\n",
       "      <td>Today, 12:41pm</td>\n",
       "      <td>Information &amp; Communication Technology</td>\n",
       "      <td>Brisbane CBD &amp; Inner Suburbs</td>\n",
       "      <td>NaN</td>\n",
       "      <td>['sql']</td>\n",
       "      <td>Data Analyst</td>\n",
       "      <td>Contract/Temp</td>\n",
       "    </tr>\n",
       "    <tr>\n",
       "      <th>4</th>\n",
       "      <td>Today, 10:34am</td>\n",
       "      <td>Government &amp; Defence</td>\n",
       "      <td>Sydney CBD, Inner West &amp; Eastern Suburbs</td>\n",
       "      <td>$80 p/h</td>\n",
       "      <td>['tableau', 'r', 'sas', 'excel', 'spss']</td>\n",
       "      <td>Data Analyst I NSW Government I $80p/h</td>\n",
       "      <td>Contract/Temp</td>\n",
       "    </tr>\n",
       "  </tbody>\n",
       "</table>\n",
       "</div>"
      ],
      "text/plain": [
       "      Date_Posted                                Industry  \\\n",
       "0   Today, 2:03pm  Information & Communication Technology   \n",
       "1   Today, 1:15pm  Information & Communication Technology   \n",
       "2   Today, 2:00pm                    Government & Defence   \n",
       "3  Today, 12:41pm  Information & Communication Technology   \n",
       "4  Today, 10:34am                    Government & Defence   \n",
       "\n",
       "                                     Location         Salary  \\\n",
       "0   Melbourne Bayside & South Eastern Suburbs            NaN   \n",
       "1                Brisbane CBD & Inner Suburbs  $91 - $97 p/h   \n",
       "2                   Brisbane Northern Suburbs            NaN   \n",
       "3                Brisbane CBD & Inner Suburbs            NaN   \n",
       "4    Sydney CBD, Inner West & Eastern Suburbs        $80 p/h   \n",
       "\n",
       "                                     Skills  \\\n",
       "0                          ['excel', 'sql']   \n",
       "1                                        []   \n",
       "2                                        []   \n",
       "3                                   ['sql']   \n",
       "4  ['tableau', 'r', 'sas', 'excel', 'spss']   \n",
       "\n",
       "                                          Title           Type  \n",
       "0  Data Analyst - 12 months Fixed Term Contract  Contract/Temp  \n",
       "1                                  Data Analyst  Contract/Temp  \n",
       "2     Business Analyst - Data Analyst Chermside  Contract/Temp  \n",
       "3                                  Data Analyst  Contract/Temp  \n",
       "4        Data Analyst I NSW Government I $80p/h  Contract/Temp  "
      ]
     },
     "execution_count": 28,
     "metadata": {},
     "output_type": "execute_result"
    }
   ],
   "source": [
    "seek_data = '/Users/gopetro/documents/dsi/materials/project4/job_data_all.csv'\n",
    "\n",
    "seek = pd.read_csv(seek_data)\n",
    "seek.head()"
   ]
  },
  {
   "cell_type": "code",
   "execution_count": 29,
   "metadata": {
    "collapsed": false
   },
   "outputs": [
    {
     "data": {
      "text/plain": [
       "(586, 7)"
      ]
     },
     "execution_count": 29,
     "metadata": {},
     "output_type": "execute_result"
    }
   ],
   "source": [
    "seek.shape"
   ]
  },
  {
   "cell_type": "markdown",
   "metadata": {},
   "source": [
    "The above data set was acquired using a combination of searches on www.seek.com.au.  The classification and location were left blank to maximize the total hits.  The searches used were:\n",
    "    1. Data Scientist (64)\n",
    "    2. Data Analyst (320)\n",
    "    3. Analysics COnsultant (36 jobs)\n",
    "    4. Business Intelligence (704 jobs)\n",
    "\n",
    "The total number of job adds were 1124 jobs.  Due to the issues I was having going to each url I was only able to grab 586 jobs.  \n",
    "To re-iterate, if I had more time I could debig my code to retreive more entires so the scraping process would be more smooth. \n",
    "\n",
    "One thing that worked out really well for me was that I used the natural language processing during the webscrape.  This has had a huge impact\n",
    "on the amount of cleaning now required because I was able to filter out all unecessary words and grab only the key words of interest.  \n",
    "\n",
    "Now we will begin cleaning the data set."
   ]
  },
  {
   "cell_type": "code",
   "execution_count": 30,
   "metadata": {
    "collapsed": false
   },
   "outputs": [
    {
     "data": {
      "text/html": [
       "<div>\n",
       "<table border=\"1\" class=\"dataframe\">\n",
       "  <thead>\n",
       "    <tr style=\"text-align: right;\">\n",
       "      <th></th>\n",
       "      <th>Industry</th>\n",
       "      <th>Location</th>\n",
       "      <th>Salary</th>\n",
       "      <th>Skills</th>\n",
       "      <th>Title</th>\n",
       "      <th>Type</th>\n",
       "    </tr>\n",
       "  </thead>\n",
       "  <tbody>\n",
       "    <tr>\n",
       "      <th>0</th>\n",
       "      <td>Information &amp; Communication Technology</td>\n",
       "      <td>Melbourne Bayside &amp; South Eastern Suburbs</td>\n",
       "      <td>NaN</td>\n",
       "      <td>['excel', 'sql']</td>\n",
       "      <td>Data Analyst - 12 months Fixed Term Contract</td>\n",
       "      <td>Contract/Temp</td>\n",
       "    </tr>\n",
       "    <tr>\n",
       "      <th>1</th>\n",
       "      <td>Information &amp; Communication Technology</td>\n",
       "      <td>Brisbane CBD &amp; Inner Suburbs</td>\n",
       "      <td>$91 - $97 p/h</td>\n",
       "      <td>[]</td>\n",
       "      <td>Data Analyst</td>\n",
       "      <td>Contract/Temp</td>\n",
       "    </tr>\n",
       "    <tr>\n",
       "      <th>2</th>\n",
       "      <td>Government &amp; Defence</td>\n",
       "      <td>Brisbane Northern Suburbs</td>\n",
       "      <td>NaN</td>\n",
       "      <td>[]</td>\n",
       "      <td>Business Analyst - Data Analyst Chermside</td>\n",
       "      <td>Contract/Temp</td>\n",
       "    </tr>\n",
       "    <tr>\n",
       "      <th>3</th>\n",
       "      <td>Information &amp; Communication Technology</td>\n",
       "      <td>Brisbane CBD &amp; Inner Suburbs</td>\n",
       "      <td>NaN</td>\n",
       "      <td>['sql']</td>\n",
       "      <td>Data Analyst</td>\n",
       "      <td>Contract/Temp</td>\n",
       "    </tr>\n",
       "    <tr>\n",
       "      <th>4</th>\n",
       "      <td>Government &amp; Defence</td>\n",
       "      <td>Sydney CBD, Inner West &amp; Eastern Suburbs</td>\n",
       "      <td>$80 p/h</td>\n",
       "      <td>['tableau', 'r', 'sas', 'excel', 'spss']</td>\n",
       "      <td>Data Analyst I NSW Government I $80p/h</td>\n",
       "      <td>Contract/Temp</td>\n",
       "    </tr>\n",
       "  </tbody>\n",
       "</table>\n",
       "</div>"
      ],
      "text/plain": [
       "                                 Industry  \\\n",
       "0  Information & Communication Technology   \n",
       "1  Information & Communication Technology   \n",
       "2                    Government & Defence   \n",
       "3  Information & Communication Technology   \n",
       "4                    Government & Defence   \n",
       "\n",
       "                                     Location         Salary  \\\n",
       "0   Melbourne Bayside & South Eastern Suburbs            NaN   \n",
       "1                Brisbane CBD & Inner Suburbs  $91 - $97 p/h   \n",
       "2                   Brisbane Northern Suburbs            NaN   \n",
       "3                Brisbane CBD & Inner Suburbs            NaN   \n",
       "4    Sydney CBD, Inner West & Eastern Suburbs        $80 p/h   \n",
       "\n",
       "                                     Skills  \\\n",
       "0                          ['excel', 'sql']   \n",
       "1                                        []   \n",
       "2                                        []   \n",
       "3                                   ['sql']   \n",
       "4  ['tableau', 'r', 'sas', 'excel', 'spss']   \n",
       "\n",
       "                                          Title           Type  \n",
       "0  Data Analyst - 12 months Fixed Term Contract  Contract/Temp  \n",
       "1                                  Data Analyst  Contract/Temp  \n",
       "2     Business Analyst - Data Analyst Chermside  Contract/Temp  \n",
       "3                                  Data Analyst  Contract/Temp  \n",
       "4        Data Analyst I NSW Government I $80p/h  Contract/Temp  "
      ]
     },
     "execution_count": 30,
     "metadata": {},
     "output_type": "execute_result"
    }
   ],
   "source": [
    "#Don't really need the date so we'll drop this\n",
    "seek = seek.drop(seek.columns[[0]],axis=1)\n",
    "seek.head()\n",
    "#df.drop(df.columns[[0, 1, 3]], axis=1)"
   ]
  },
  {
   "cell_type": "code",
   "execution_count": 31,
   "metadata": {
    "collapsed": false
   },
   "outputs": [
    {
     "data": {
      "text/plain": [
       "pandas.core.series.Series"
      ]
     },
     "execution_count": 31,
     "metadata": {},
     "output_type": "execute_result"
    }
   ],
   "source": [
    "type(seek.Location)\n",
    "#seek.Location.split()[0]\n",
    "#seek$Location <- strsplit(seek$City, \" \")[[1]][1]\n",
    "\n",
    "#Dataframe1$COL2 <- strsplit(Dataframe1$COL1, \" \")[[1]][1]"
   ]
  },
  {
   "cell_type": "code",
   "execution_count": 32,
   "metadata": {
    "collapsed": false
   },
   "outputs": [
    {
     "data": {
      "text/html": [
       "<div>\n",
       "<table border=\"1\" class=\"dataframe\">\n",
       "  <thead>\n",
       "    <tr style=\"text-align: right;\">\n",
       "      <th></th>\n",
       "      <th>Industry</th>\n",
       "      <th>Location</th>\n",
       "      <th>Salary</th>\n",
       "      <th>Skills</th>\n",
       "      <th>Title</th>\n",
       "      <th>Type</th>\n",
       "      <th>City</th>\n",
       "    </tr>\n",
       "  </thead>\n",
       "  <tbody>\n",
       "    <tr>\n",
       "      <th>0</th>\n",
       "      <td>Information &amp; Communication Technology</td>\n",
       "      <td>Melbourne Bayside &amp; South Eastern Suburbs</td>\n",
       "      <td>NaN</td>\n",
       "      <td>['excel', 'sql']</td>\n",
       "      <td>Data Analyst - 12 months Fixed Term Contract</td>\n",
       "      <td>Contract/Temp</td>\n",
       "      <td>Melbourne</td>\n",
       "    </tr>\n",
       "    <tr>\n",
       "      <th>1</th>\n",
       "      <td>Information &amp; Communication Technology</td>\n",
       "      <td>Brisbane CBD &amp; Inner Suburbs</td>\n",
       "      <td>$91 - $97 p/h</td>\n",
       "      <td>[]</td>\n",
       "      <td>Data Analyst</td>\n",
       "      <td>Contract/Temp</td>\n",
       "      <td>Brisbane</td>\n",
       "    </tr>\n",
       "    <tr>\n",
       "      <th>2</th>\n",
       "      <td>Government &amp; Defence</td>\n",
       "      <td>Brisbane Northern Suburbs</td>\n",
       "      <td>NaN</td>\n",
       "      <td>[]</td>\n",
       "      <td>Business Analyst - Data Analyst Chermside</td>\n",
       "      <td>Contract/Temp</td>\n",
       "      <td>Brisbane</td>\n",
       "    </tr>\n",
       "    <tr>\n",
       "      <th>3</th>\n",
       "      <td>Information &amp; Communication Technology</td>\n",
       "      <td>Brisbane CBD &amp; Inner Suburbs</td>\n",
       "      <td>NaN</td>\n",
       "      <td>['sql']</td>\n",
       "      <td>Data Analyst</td>\n",
       "      <td>Contract/Temp</td>\n",
       "      <td>Brisbane</td>\n",
       "    </tr>\n",
       "    <tr>\n",
       "      <th>4</th>\n",
       "      <td>Government &amp; Defence</td>\n",
       "      <td>Sydney CBD, Inner West &amp; Eastern Suburbs</td>\n",
       "      <td>$80 p/h</td>\n",
       "      <td>['tableau', 'r', 'sas', 'excel', 'spss']</td>\n",
       "      <td>Data Analyst I NSW Government I $80p/h</td>\n",
       "      <td>Contract/Temp</td>\n",
       "      <td>Sydney</td>\n",
       "    </tr>\n",
       "  </tbody>\n",
       "</table>\n",
       "</div>"
      ],
      "text/plain": [
       "                                 Industry  \\\n",
       "0  Information & Communication Technology   \n",
       "1  Information & Communication Technology   \n",
       "2                    Government & Defence   \n",
       "3  Information & Communication Technology   \n",
       "4                    Government & Defence   \n",
       "\n",
       "                                     Location         Salary  \\\n",
       "0   Melbourne Bayside & South Eastern Suburbs            NaN   \n",
       "1                Brisbane CBD & Inner Suburbs  $91 - $97 p/h   \n",
       "2                   Brisbane Northern Suburbs            NaN   \n",
       "3                Brisbane CBD & Inner Suburbs            NaN   \n",
       "4    Sydney CBD, Inner West & Eastern Suburbs        $80 p/h   \n",
       "\n",
       "                                     Skills  \\\n",
       "0                          ['excel', 'sql']   \n",
       "1                                        []   \n",
       "2                                        []   \n",
       "3                                   ['sql']   \n",
       "4  ['tableau', 'r', 'sas', 'excel', 'spss']   \n",
       "\n",
       "                                          Title           Type       City  \n",
       "0  Data Analyst - 12 months Fixed Term Contract  Contract/Temp  Melbourne  \n",
       "1                                  Data Analyst  Contract/Temp   Brisbane  \n",
       "2     Business Analyst - Data Analyst Chermside  Contract/Temp   Brisbane  \n",
       "3                                  Data Analyst  Contract/Temp   Brisbane  \n",
       "4        Data Analyst I NSW Government I $80p/h  Contract/Temp     Sydney  "
      ]
     },
     "execution_count": 32,
     "metadata": {},
     "output_type": "execute_result"
    }
   ],
   "source": [
    "#str(seek.Location[0]).split()[0]\n",
    "City=[]\n",
    "for row in seek.Location:\n",
    "    City.append(str(row).split()[0])\n",
    "\n",
    "seek['City'] = City\n",
    "seek.head()"
   ]
  },
  {
   "cell_type": "code",
   "execution_count": 33,
   "metadata": {
    "collapsed": false
   },
   "outputs": [
    {
     "data": {
      "text/html": [
       "<div>\n",
       "<table border=\"1\" class=\"dataframe\">\n",
       "  <thead>\n",
       "    <tr style=\"text-align: right;\">\n",
       "      <th></th>\n",
       "      <th>Industry</th>\n",
       "      <th>Salary</th>\n",
       "      <th>Skills</th>\n",
       "      <th>Title</th>\n",
       "      <th>Type</th>\n",
       "      <th>City</th>\n",
       "    </tr>\n",
       "  </thead>\n",
       "  <tbody>\n",
       "    <tr>\n",
       "      <th>0</th>\n",
       "      <td>Information &amp; Communication Technology</td>\n",
       "      <td>NaN</td>\n",
       "      <td>['excel', 'sql']</td>\n",
       "      <td>Data Analyst - 12 months Fixed Term Contract</td>\n",
       "      <td>Contract/Temp</td>\n",
       "      <td>Melbourne</td>\n",
       "    </tr>\n",
       "    <tr>\n",
       "      <th>1</th>\n",
       "      <td>Information &amp; Communication Technology</td>\n",
       "      <td>$91 - $97 p/h</td>\n",
       "      <td>[]</td>\n",
       "      <td>Data Analyst</td>\n",
       "      <td>Contract/Temp</td>\n",
       "      <td>Brisbane</td>\n",
       "    </tr>\n",
       "    <tr>\n",
       "      <th>2</th>\n",
       "      <td>Government &amp; Defence</td>\n",
       "      <td>NaN</td>\n",
       "      <td>[]</td>\n",
       "      <td>Business Analyst - Data Analyst Chermside</td>\n",
       "      <td>Contract/Temp</td>\n",
       "      <td>Brisbane</td>\n",
       "    </tr>\n",
       "    <tr>\n",
       "      <th>3</th>\n",
       "      <td>Information &amp; Communication Technology</td>\n",
       "      <td>NaN</td>\n",
       "      <td>['sql']</td>\n",
       "      <td>Data Analyst</td>\n",
       "      <td>Contract/Temp</td>\n",
       "      <td>Brisbane</td>\n",
       "    </tr>\n",
       "    <tr>\n",
       "      <th>4</th>\n",
       "      <td>Government &amp; Defence</td>\n",
       "      <td>$80 p/h</td>\n",
       "      <td>['tableau', 'r', 'sas', 'excel', 'spss']</td>\n",
       "      <td>Data Analyst I NSW Government I $80p/h</td>\n",
       "      <td>Contract/Temp</td>\n",
       "      <td>Sydney</td>\n",
       "    </tr>\n",
       "  </tbody>\n",
       "</table>\n",
       "</div>"
      ],
      "text/plain": [
       "                                 Industry         Salary  \\\n",
       "0  Information & Communication Technology            NaN   \n",
       "1  Information & Communication Technology  $91 - $97 p/h   \n",
       "2                    Government & Defence            NaN   \n",
       "3  Information & Communication Technology            NaN   \n",
       "4                    Government & Defence        $80 p/h   \n",
       "\n",
       "                                     Skills  \\\n",
       "0                          ['excel', 'sql']   \n",
       "1                                        []   \n",
       "2                                        []   \n",
       "3                                   ['sql']   \n",
       "4  ['tableau', 'r', 'sas', 'excel', 'spss']   \n",
       "\n",
       "                                          Title           Type       City  \n",
       "0  Data Analyst - 12 months Fixed Term Contract  Contract/Temp  Melbourne  \n",
       "1                                  Data Analyst  Contract/Temp   Brisbane  \n",
       "2     Business Analyst - Data Analyst Chermside  Contract/Temp   Brisbane  \n",
       "3                                  Data Analyst  Contract/Temp   Brisbane  \n",
       "4        Data Analyst I NSW Government I $80p/h  Contract/Temp     Sydney  "
      ]
     },
     "execution_count": 33,
     "metadata": {},
     "output_type": "execute_result"
    }
   ],
   "source": [
    "#Drop the Location column now that we have City\n",
    "seek = seek.drop(seek.columns[[1]],axis=1)\n",
    "seek.head()"
   ]
  },
  {
   "cell_type": "code",
   "execution_count": 34,
   "metadata": {
    "collapsed": false
   },
   "outputs": [
    {
     "data": {
      "text/plain": [
       "array(['Contract/Temp', 'Full Time', 'Part Time'], dtype=object)"
      ]
     },
     "execution_count": 34,
     "metadata": {},
     "output_type": "execute_result"
    }
   ],
   "source": [
    "#Let's look at the 'Type' column.\n",
    "seek.Type.unique()"
   ]
  },
  {
   "cell_type": "code",
   "execution_count": 35,
   "metadata": {
    "collapsed": false
   },
   "outputs": [
    {
     "data": {
      "text/plain": [
       "array(['Contract', 'Full Time', 'Part Time'], dtype=object)"
      ]
     },
     "execution_count": 35,
     "metadata": {},
     "output_type": "execute_result"
    }
   ],
   "source": [
    "#Change 'Contract/Temp' to 'Contract'\n",
    "seek.Type = seek.Type.str.replace('Contract/Temp','Contract')\n",
    "seek.Type.unique()\n",
    "#ufo.columns = ufo.columns.str.replace('/Temp', '')"
   ]
  },
  {
   "cell_type": "code",
   "execution_count": 36,
   "metadata": {
    "collapsed": false
   },
   "outputs": [
    {
     "data": {
      "text/plain": [
       "array(['Information & Communication Technology', 'Government & Defence',\n",
       "       'Consulting & Strategy', 'Science & Technology', 'Accounting',\n",
       "       'Banking & Financial Services', 'Marketing & Communications',\n",
       "       'Sales', 'Engineering', 'Advertising, Arts & Media',\n",
       "       'Insurance & Superannuation', 'Mining, Resources & Energy',\n",
       "       'Real Estate & Property', 'Healthcare & Medical',\n",
       "       'Manufacturing, Transport & Logistics',\n",
       "       'Administration & Office Support', 'Construction',\n",
       "       'Education & Training', 'Human Resources & Recruitment',\n",
       "       'Community Services & Development',\n",
       "       'Call Centre & Customer Service', 'Retail & Consumer Products',\n",
       "       'Design & Architecture'], dtype=object)"
      ]
     },
     "execution_count": 36,
     "metadata": {},
     "output_type": "execute_result"
    }
   ],
   "source": [
    "#Let's view Industry types\n",
    "seek.Industry.unique()\n",
    "\n",
    "#There are quite a few industry tyoes so may be difficult to categorize.  Will leave this for now"
   ]
  },
  {
   "cell_type": "code",
   "execution_count": 37,
   "metadata": {
    "collapsed": false
   },
   "outputs": [
    {
     "data": {
      "text/plain": [
       "array(['Data Analyst - 12 months Fixed Term Contract', 'Data Analyst',\n",
       "       'Business Analyst - Data Analyst Chermside',\n",
       "       'Data Analyst I NSW Government I $80p/h',\n",
       "       'Business Analyst/ Data Analyst',\n",
       "       'Junior Analyst, Market Data Systems, Banking',\n",
       "       'Business Analyst - Data Analyst',\n",
       "       'Principal Data Analyst | ArcGIS | Power BI | Qlik',\n",
       "       'Business & Data Analyst',\n",
       "       'Data Analyst, Corporate and Asset Finance Group',\n",
       "       'Principal Data Analyst', 'Junior Data Analyst | Merivale',\n",
       "       'Senior Data Analyst', 'Data Analyst - Analytics',\n",
       "       'Data Analyst - Immediate Start', 'Graduate Data Analyst',\n",
       "       'Data Analyst - Data Analytics, Customer Insight, SQL Reporting',\n",
       "       'Data Analyst - Cleanse and Analysis',\n",
       "       'Data Analyst - Javascript or Python Scripting',\n",
       "       'Data Modelling Consultant', 'Data Analyst - temp',\n",
       "       'Business Data Analyst', 'Data Analyst - URGENT',\n",
       "       'Data Analyst - Customer Insights, Loyalty & Campaigns',\n",
       "       'Market Manager - Data Analyst', 'Data Analyst - Urgent',\n",
       "       'Data Analyst - Digital Marketing Insights',\n",
       "       'Senior Data Analyst (ECM)', 'Technical Business/Data Analyst',\n",
       "       'Data Analyst with advanced MS Access Front end and SQL Server backend experience',\n",
       "       'Business Analyst, Data & Customer Insights, Agile, Finance, Sydney PERM',\n",
       "       'Experience Optimisation Data Analyst',\n",
       "       'Data Analyst, SBS On Demand', 'Data Management Analyst',\n",
       "       'Data Analyst | Media Focused Agency | Market Research',\n",
       "       'Data Analyst (Non-IT) APS5-6', 'Data Analyst / Data Scientist',\n",
       "       'Specialist Data Analysis | MCoE | Brisbane', 'Data Analyst - EDW',\n",
       "       'Data analyst', 'Data Migration Engineer',\n",
       "       'Business & Data Analyst (Casual / Part-Time)',\n",
       "       'Senior Marketing / Data Analyst', 'Product Quality Analyst',\n",
       "       'Junior Salesforce Data Analyst', 'Reporting and Insight Analyst',\n",
       "       'Survey Data Analyst', 'Forensic Data Analytics',\n",
       "       'Sales Performance Analyst', 'Oracle Data Specialist',\n",
       "       'Digital Data Analyst - Leading Financial Institution',\n",
       "       'Data Insights Analyst_Consultant', 'Data Analyst - Microsoft',\n",
       "       'Property Data Analyst', 'Meter Data Officer',\n",
       "       'Data Analyst - Forensics', 'Data Analyst/Estimator Job',\n",
       "       'Strategic Planning Analyst - Iconic Financial Services Brand',\n",
       "       'Data Analyst (CRM & Digital)', 'Data Analysts x2',\n",
       "       'Data Analyst/Developer', 'Data Analyst - Consumer Insights',\n",
       "       'DATA ANALYST > OUTSTANDING COMPANY', 'Marketing Data Analyst',\n",
       "       'Senior Analyst with exceptional understanding of the Finance Function',\n",
       "       'Data Migration specialist', 'Senior Analyst',\n",
       "       'Data Analyst - Health Surveillance, Tropical Public Health Service, Cairns',\n",
       "       'SQL Analyst', 'Graduate Data Analyst - Full Time - Brisbane CBD',\n",
       "       'Data Analyst - Media', 'Junior SQL Data Analyst',\n",
       "       'Business/Data Analyst', 'Analyst',\n",
       "       'Project Officer - Data Analysis',\n",
       "       'SAP Master Data Specialist- PM and MM',\n",
       "       'Business Analyst (Sydney)', 'Business Analyst (Gold Coast)',\n",
       "       'APS 6 / EL 1 Data Analyst',\n",
       "       'Supply Chain Information Operations Analyst',\n",
       "       'Junior Data Analyst | WA', 'Digital Data Analyst',\n",
       "       'Customer Insights Analyst',\n",
       "       'Graduate programme 2018 Australia - Data Analyst',\n",
       "       'Data Analyst - Marketing', 'Business Analyst',\n",
       "       'Insights Analyst - BI Data Analyst',\n",
       "       'Junior Business Analyst - Markets Data, Investment Banking',\n",
       "       'Market Data Analyst, Investment Banking', 'Data Analyst - GIS',\n",
       "       'Data Analytics Consultant', 'Pricing/Product Coordinator',\n",
       "       'Data Analyst and Data Modelling Specialist - Orange',\n",
       "       'Senior Data Analyst - Governance and IM', 'Health Data Analyst',\n",
       "       'Data Analyst - SQL-SSIS-SSRS', 'Report & Data Analyst',\n",
       "       'Marketing Analytics Manager', 'SQL Data Analyst',\n",
       "       'Data Analyst Support',\n",
       "       'Data Analyst (Query Scripting and Reporting)',\n",
       "       'Data Analyst/R Modeller, Financial Management Group',\n",
       "       'Data Analyst - APS6', 'Market Research Analyst / Data Scientist',\n",
       "       'Business Intelligence Analyst', 'Client Services Support Analyst',\n",
       "       'Senior Business/Data Analyst', 'Data Officer',\n",
       "       'Data Analyst Manager', 'Data Analyst & Support Officer',\n",
       "       'Data Compliance Analyst', 'Master Data Analyst',\n",
       "       'Data Analyst -SAS SQL Health / Clinical',\n",
       "       'Senior Data Analyst / Steward',\n",
       "       'Business and Data Analyst - Remedy',\n",
       "       'Technical Program Manager (SEATTLE Based)', 'Data Lead',\n",
       "       'Spatial Data Analyst/ Programmer',\n",
       "       'BI Developer / Consultant - Permanent - Sydney',\n",
       "       'Digital Project Manager / Digital Producer',\n",
       "       'Quality Systems Coordiantor', 'PEGA Developer/Configurer',\n",
       "       'Database Developer',\n",
       "       'Junior Data Analyst - Data Enhancement Program!',\n",
       "       'Quantitative Data Analyst', 'Business / Data Analyst',\n",
       "       'Project Manager', 'M204 Developer',\n",
       "       'Javascript/Java web Developer', 'Java Developer',\n",
       "       'SSIS Developer, TSQL Analyst - SSIS ETL Data Warehous System Analyst Programmer',\n",
       "       'Junior Data Analyst - SQL Developer', 'SAP Roles in Adelaide',\n",
       "       'Various SAP Roles', 'DATA ANALYST - HEALTH CARE',\n",
       "       'Data Analyst X2', 'QA / Data Tester - Sydney',\n",
       "       'Mutliple Consultants Required - Variours Skill Sets',\n",
       "       'Junior Data Analyst', 'Senior Data Analyst - SAS',\n",
       "       'SSIS Data Analyst, TSQL Analyst - SSIS ETL Data Warehous Business System Analyst',\n",
       "       'Data Analyst and Developer - Marketing Analytics',\n",
       "       'Senior Consultant, Analytics', 'Data Modeller', 'Data Anaalyst',\n",
       "       'AUDIENCE IQ SPECIALIST', 'Digital Analyst - Social Media',\n",
       "       'Analytics Consultant', 'Multiple Data Specialists Required',\n",
       "       'Data Analyst, Reporting', 'Data Analyst, Support',\n",
       "       '2 X Data Scientist', 'Data Scientist',\n",
       "       'Data Scientist and Lead Data Scientist',\n",
       "       'Data Engineer / Data Scientist', 'Risk Analyst / Data Scientist',\n",
       "       'DATA SCIENTIST - TOP 100 ASX COMPANY',\n",
       "       'Data Engineer/Scientist/Analytics Consultant',\n",
       "       'Data Scientist - Big 4 Consulting',\n",
       "       'Sr. Data Scientist - Perm -Sydney',\n",
       "       'Data Scientist - Software Engineer', 'Senior Data Scientist',\n",
       "       'JAPANESE-SPEAKING DATA SCIENTIST - REMOTE',\n",
       "       'Senior Data Scientist - Machine Learning',\n",
       "       'Senior Data Scientist - Stats & Insights',\n",
       "       'Senior Data Scientist - Statistics, Data Mining & Modelling',\n",
       "       'Data Scientist - Python - R - Top Tier Client - Sydney CBD Location',\n",
       "       'Jnr Data Scientist | Innovative Co Global Organisation |',\n",
       "       'Financial Services - Finance & Risk Data Scientist - Manager',\n",
       "       'Data scientist', 'Data Analysis & Assurance Senior Consultant',\n",
       "       'Data Scientist - CBD-based', 'Data Scientist - Perm - Sydney',\n",
       "       'Senior Data Scientist | Strategic Position | Innovative & Dynamic Organisation',\n",
       "       'Lead Data Scientist', 'Data Scientist (CRM & Digital)',\n",
       "       'Data Scientist - Biomedical Behavioural Focus',\n",
       "       'Senior Data Scientist / Machine Learning (Customer Marketing)',\n",
       "       'Data Scientist / Statistical Modeller',\n",
       "       'Junior Big Data Engineer - Melbourne',\n",
       "       'Advanced Analytics Manager, 12 month Contract/Secondment, Sydney NSW',\n",
       "       'Head of Data Science &amp; Products',\n",
       "       'Data Scientist | Predictive Analytics & Machine Learning',\n",
       "       'Data Engineer, Data Modelling / Analytics, Exciting New Role, CBD, Flexible Hrs',\n",
       "       'Product Data Scientist - Growing Digital Team',\n",
       "       'Data Scientist - Perm role - Sydney',\n",
       "       'Translational Data Scientist',\n",
       "       'Consulting - CFO - Analytics - Senior Con/Manager',\n",
       "       'Senior Modelling Analyst',\n",
       "       'Artificial Intelligence Lead Consultant - Melbourne',\n",
       "       'Candidate Manager | IT Recruitment | Flexible Hours | $140K package',\n",
       "       'Senior Customer Insights Analyst',\n",
       "       'Consulting - CFO - Analytics - Senior Consultant',\n",
       "       'Consulting - Analytics - Senior Con/Manager',\n",
       "       'Assistant Accountant/Inventory', 'Lead/Senior Data Scientist',\n",
       "       'Marketing Analyst', 'Data Scientist - Customer Insights (Retail)',\n",
       "       'Data Scientist-R development',\n",
       "       'Senior Manager - Cybersecurity Analytics Lead',\n",
       "       'Principal Data Scientist', 'DATA SCIENCE EXPERT',\n",
       "       'Senior Manager - Analytics', 'Director, Analytics',\n",
       "       'Senior BI Consultant - Managed Services', 'OBIEE | ODI consulatnt',\n",
       "       'Senior BI Consultant',\n",
       "       'Microsoft Business Intelligence Consultant (PowerBI, SSIS, SSAS, Tableau)',\n",
       "       'Senior Business Intelligence Analyst',\n",
       "       'Business Intelligence Specialist',\n",
       "       'Buisness Intelligence Developer', 'Business & Financial Analysts',\n",
       "       'Business Development Manager | Business Intelligence',\n",
       "       'Management Consultant - Business Intelligence',\n",
       "       'Business Intelligence Report Developer',\n",
       "       'Assistant Business Analyst',\n",
       "       'Business Analyst - Federal Government',\n",
       "       'Business and Financial Analysts',\n",
       "       'Graduate Developer - Business Intelligence',\n",
       "       'Data Business Intelligence Analyst - Sydney CBD - 3m Full Time',\n",
       "       'Business Performance Analyst',\n",
       "       'Systems Analyst | Business Intelligence',\n",
       "       'Mid Level Relationship Manager, Global Business Intelligence Org, Great Culture.',\n",
       "       'Senior Business Analyst - Commercial',\n",
       "       'Business Performance Reporting Analyst',\n",
       "       'Group Financial Controller',\n",
       "       'MS Business Intelligence Consultant - MSBI',\n",
       "       'MS Business Intelligence Consultant (Power BI)',\n",
       "       'Reporting BI Business Analyst', 'Customer Intelligence Analyst',\n",
       "       'BI Support Analyst', 'CEO', 'Data Specialist',\n",
       "       'Business Insights Analyst | Greenfields Role',\n",
       "       'BI Developer - SSAS - SSIS - SSRS - South Sydney',\n",
       "       'Data Analytics Specialist - Customer Insights',\n",
       "       'DATA & IM STRATEGY ADVISOR',\n",
       "       'Account Director | Key Account Manager - Business Information Services',\n",
       "       'Reporting Analyst - SAP BO/Tableau - Melbourne - $95,000 PCK',\n",
       "       'Analytics Specialist - 6 mth contract - Sydney CBD',\n",
       "       'Group Management Accountant', 'Account Manager',\n",
       "       'Product Marketing Specialist', 'Senior Commercial Accountant',\n",
       "       'Agile Business Analyst',\n",
       "       'Business Intelligence Reports Analyst - Wealth Banking',\n",
       "       'BI Developer | New Zealand based',\n",
       "       'Senior Commercial Analyst - Sales and Marketing',\n",
       "       'Designer/ Dev - SQL/BI',\n",
       "       'Senior BI Business Analyst - 12 Month Contract - URGENT',\n",
       "       'Business Analyst - Content Management System',\n",
       "       'Business Analyst | Finance',\n",
       "       'Senior Business Intelligence and Analytics Lead',\n",
       "       'Data Governance Specialist', 'Engagement Manager - BD',\n",
       "       'Graduate Account Development Representative',\n",
       "       'Regional Sales Executive',\n",
       "       'Senior Insights Analyst - Sydney CBD - Permanent',\n",
       "       'Commercial Manager', 'Tech Lead', 'Applications Support Officer',\n",
       "       'Planning and Reporting Specialist',\n",
       "       'Head of Financial Planning & BI Analytics',\n",
       "       'Business Development Manager - Oil and Gas Business Intelligence',\n",
       "       'Finance Analyst | Banking Projects | $85k',\n",
       "       'Junior-Mid level Data Engineer | Java | Exciting big data projects',\n",
       "       'Solutions Architect', 'Head of Category Management',\n",
       "       'Data Modeller/Designer', 'Senior BI Analyst',\n",
       "       'Manager Marketing & Communications',\n",
       "       'Corporate Sales Executive - Marcus Evans',\n",
       "       'Finance Solutions Analyst - Corporate',\n",
       "       'Java Developer/Consultant', 'BI Reporting Analyst',\n",
       "       'Data Solutions Designer - Big Data', 'BI Specialist',\n",
       "       'Metadata & Analytics Analyst', 'Qlikview Developer',\n",
       "       'BI Reports Developer - SSRS, PowerBI, Tableau', 'Cognos Developer',\n",
       "       'Junior Support Analyst', 'BI Developer', 'Power BI Specialist',\n",
       "       'Network Engineer', 'Manager, VGRS', 'Senior Commercial Analyst',\n",
       "       'Datawarehouse / BI Application Architect',\n",
       "       'STA (Data Warehousing/ETL) - Melbourne',\n",
       "       'BI BA Consultant l Microstrategy, Business Objects',\n",
       "       'BUSINESS ANALYST - IT', 'SQL Database Developer + Administrator',\n",
       "       'Business Intelligence Lead Developer',\n",
       "       'Sydney - Open Source Data Consultant - Cloud, Big Data and Analytics.',\n",
       "       'Senior Tableau Developers | Long term contracts | Finance & FMCG',\n",
       "       'Senior Front End Developers required | Banking & Finance applications | Contract',\n",
       "       'Recruitment Consultant - IT&T.', 'BI developer SQL | SSIS',\n",
       "       'Project Support Analyst', 'UAT Test Coordinator',\n",
       "       'Software Engineer - C/C++, Assembly (ARM or x86) & Kernel',\n",
       "       'Senior Tableau Consultant / Architect',\n",
       "       'Master Data Management Solution Architect',\n",
       "       'Business Development Manager',\n",
       "       'Senior Tableau Developer/Consultant | Long term contract | Finance',\n",
       "       'Technical Business Analyst', 'Health Data Analytics Specialist',\n",
       "       'Llamasoft Consultant', 'Senior Project Manager',\n",
       "       'I.T Recruitment Consultant', 'Manager - GIS & Spatial Information',\n",
       "       'Sales Operations Analyst', 'Senior J2EE Software Engineer',\n",
       "       'Tableau Developer', 'Mid Level DevOps - Windows, AWS & PowerShell',\n",
       "       'Salesforce Administrator',\n",
       "       'Continuous Improvement and Innovation Lead', 'Senior Consultant',\n",
       "       'BI Analyst/Developer', 'Project Manager | Health',\n",
       "       'Principal Consultant - Analytics', 'Senior Tableau Developer',\n",
       "       'Account Executive', 'BI Modeller', 'Demand Analysis Manager- Rail',\n",
       "       'Cognos Specialist',\n",
       "       'Technical Help Desk/Service Desk Engineer - Chatswood',\n",
       "       'Senior Functional BI Developer', 'SENIOR DATA CONSULTANT',\n",
       "       'Data Warehouse Specialist', 'HR SPECIALIST, ASIA PACIFIC',\n",
       "       'Senior Microsoft BI Developer',\n",
       "       'Junior Media Role: Sport Inventory & Pricing Co-ordinator',\n",
       "       'Divisional Finance Manager', 'BI Data Designer/ Data Modeller',\n",
       "       'Recruitment Resourcer - IT', 'Full Stack C# Developer',\n",
       "       'BI Lead with Exp in BI/DWH, Datamodelling - Sydney location',\n",
       "       'Senior Talent Acquisition Manager', 'Network Test Manager',\n",
       "       'Senior Case Officer', 'Head of Financial Planning and Analysis',\n",
       "       'Purchasing Assistant', 'Application Support',\n",
       "       'Snr MS Power BI Consultant - upto $125,000',\n",
       "       'Corporate Administration Assistant',\n",
       "       'Service Delivery Analyst - Port Macquarie',\n",
       "       'Senior BI Developer/ Data Warehouse Developer',\n",
       "       'Commercial Reporting Analyst', 'Information and Analytics Manager',\n",
       "       'Service Delivery Analyst -Port Macquarie',\n",
       "       'Information Technology - Platform Development Manager',\n",
       "       'SQL Developer', 'IT Assistant', '.Net developer',\n",
       "       'Channel Marketing Manager | Global Leader in Technology',\n",
       "       'BI Developer - Microsoft BI - SSIS - SSRS',\n",
       "       'Consultant (BI, Data Warehousing, Analytics, Digital, Big Data) - Sydney',\n",
       "       'Senior Demand Planner', 'MS BI Developer',\n",
       "       'Senior TM1 Consultant / Developer - Contract Role - Immediate - CBD',\n",
       "       'Application Support Manager', 'BI Analyst',\n",
       "       'Digital Marketing Executive', 'Teradata Administrator',\n",
       "       'Hadoop Administrator', 'Senior BI & Data Analytics Architect',\n",
       "       'Node.JS Developer', 'ICT Project Manager (GRC - )',\n",
       "       'BI, Data and Analytics Manager',\n",
       "       'Software Developer - Cognos Specialist',\n",
       "       'Generalist Programmer / Web Developer',\n",
       "       'Landscape Architect/Urban Designer visualisation and Unreal Engine 4 Experience',\n",
       "       'Unreal Engine 4 Technical Artist/ Developer',\n",
       "       'Product Specialist - Hospital Hand Hygiene',\n",
       "       'Software Developer - C/C++', 'BI Solutions Designer - Microsoft',\n",
       "       '.Net Developer'], dtype=object)"
      ]
     },
     "execution_count": 37,
     "metadata": {},
     "output_type": "execute_result"
    }
   ],
   "source": [
    "#Lets look at 'Title'\n",
    "seek.Title.unique()"
   ]
  },
  {
   "cell_type": "code",
   "execution_count": 38,
   "metadata": {
    "collapsed": false
   },
   "outputs": [
    {
     "data": {
      "text/html": [
       "<div>\n",
       "<table border=\"1\" class=\"dataframe\">\n",
       "  <thead>\n",
       "    <tr style=\"text-align: right;\">\n",
       "      <th></th>\n",
       "      <th>Industry</th>\n",
       "      <th>Salary</th>\n",
       "      <th>Skills</th>\n",
       "      <th>Title</th>\n",
       "      <th>Type</th>\n",
       "      <th>City</th>\n",
       "    </tr>\n",
       "  </thead>\n",
       "  <tbody>\n",
       "    <tr>\n",
       "      <th>0</th>\n",
       "      <td>Information &amp; Communication Technology</td>\n",
       "      <td>NaN</td>\n",
       "      <td>['excel', 'sql']</td>\n",
       "      <td>Data Analyst</td>\n",
       "      <td>Contract</td>\n",
       "      <td>Melbourne</td>\n",
       "    </tr>\n",
       "    <tr>\n",
       "      <th>1</th>\n",
       "      <td>Information &amp; Communication Technology</td>\n",
       "      <td>$91 - $97 p/h</td>\n",
       "      <td>[]</td>\n",
       "      <td>Data Analyst</td>\n",
       "      <td>Contract</td>\n",
       "      <td>Brisbane</td>\n",
       "    </tr>\n",
       "    <tr>\n",
       "      <th>2</th>\n",
       "      <td>Government &amp; Defence</td>\n",
       "      <td>NaN</td>\n",
       "      <td>[]</td>\n",
       "      <td>Business Analyst</td>\n",
       "      <td>Contract</td>\n",
       "      <td>Brisbane</td>\n",
       "    </tr>\n",
       "    <tr>\n",
       "      <th>3</th>\n",
       "      <td>Information &amp; Communication Technology</td>\n",
       "      <td>NaN</td>\n",
       "      <td>['sql']</td>\n",
       "      <td>Data Analyst</td>\n",
       "      <td>Contract</td>\n",
       "      <td>Brisbane</td>\n",
       "    </tr>\n",
       "    <tr>\n",
       "      <th>4</th>\n",
       "      <td>Government &amp; Defence</td>\n",
       "      <td>$80 p/h</td>\n",
       "      <td>['tableau', 'r', 'sas', 'excel', 'spss']</td>\n",
       "      <td>Data Analyst I NSW Government I $80p/h</td>\n",
       "      <td>Contract</td>\n",
       "      <td>Sydney</td>\n",
       "    </tr>\n",
       "  </tbody>\n",
       "</table>\n",
       "</div>"
      ],
      "text/plain": [
       "                                 Industry         Salary  \\\n",
       "0  Information & Communication Technology            NaN   \n",
       "1  Information & Communication Technology  $91 - $97 p/h   \n",
       "2                    Government & Defence            NaN   \n",
       "3  Information & Communication Technology            NaN   \n",
       "4                    Government & Defence        $80 p/h   \n",
       "\n",
       "                                     Skills  \\\n",
       "0                          ['excel', 'sql']   \n",
       "1                                        []   \n",
       "2                                        []   \n",
       "3                                   ['sql']   \n",
       "4  ['tableau', 'r', 'sas', 'excel', 'spss']   \n",
       "\n",
       "                                    Title      Type       City  \n",
       "0                           Data Analyst   Contract  Melbourne  \n",
       "1                            Data Analyst  Contract   Brisbane  \n",
       "2                       Business Analyst   Contract   Brisbane  \n",
       "3                            Data Analyst  Contract   Brisbane  \n",
       "4  Data Analyst I NSW Government I $80p/h  Contract     Sydney  "
      ]
     },
     "execution_count": 38,
     "metadata": {},
     "output_type": "execute_result"
    }
   ],
   "source": [
    "#Let's try to clean this up a little bit.  \n",
    "#First lets find all entries with a '-'\n",
    "#then drop all words after that.\n",
    "\n",
    "temp=[]\n",
    "\n",
    "seek.Title[0]\n",
    "sep='-'\n",
    "for row in seek.Title:\n",
    "#     if sep == '-' :\n",
    "         temp.append(row.split(sep,1)[0])\n",
    "seek['Title'] = temp\n",
    "seek.head()\n",
    "\n",
    "#Credit: http://stackoverflow.com/questions/904746/how-to-remove-all-characters-after-a-specific-character-in-python"
   ]
  },
  {
   "cell_type": "code",
   "execution_count": 39,
   "metadata": {
    "collapsed": false
   },
   "outputs": [
    {
     "data": {
      "text/plain": [
       "(210, 6)"
      ]
     },
     "execution_count": 39,
     "metadata": {},
     "output_type": "execute_result"
    }
   ],
   "source": [
    "#For salary prediction later on we will only need the rows with values.\n",
    "\n",
    "seek_nonull = seek[seek.Salary.notnull()]\n",
    "seek_nonull.shape\n",
    "\n",
    "#We started with 586 rows and now down to 210."
   ]
  },
  {
   "cell_type": "code",
   "execution_count": 40,
   "metadata": {
    "collapsed": false
   },
   "outputs": [
    {
     "data": {
      "text/plain": [
       "array(['Data Analyst', 'Data Analyst I NSW Government I $80p/h',\n",
       "       'Principal Data Analyst | ArcGIS | Power BI | Qlik',\n",
       "       'Principal Data Analyst', 'Junior Data Analyst | Merivale',\n",
       "       'Senior Data Analyst', 'Data Analyst ', 'Business Data Analyst',\n",
       "       'Data Analyst | Media Focused Agency | Market Research',\n",
       "       'Data Analyst / Data Scientist', 'Product Quality Analyst',\n",
       "       'Junior Salesforce Data Analyst', 'Forensic Data Analytics',\n",
       "       'DATA ANALYST > OUTSTANDING COMPANY', 'SQL Analyst',\n",
       "       'Junior SQL Data Analyst', 'Business/Data Analyst', 'Analyst',\n",
       "       'Project Officer ', 'SAP Master Data Specialist',\n",
       "       'Junior Business Analyst ',\n",
       "       'Market Data Analyst, Investment Banking',\n",
       "       'Data Analytics Consultant', 'Pricing/Product Coordinator',\n",
       "       'Data Analyst & Support Officer', 'Master Data Analyst',\n",
       "       'Senior Data Analyst / Steward', 'BI Developer / Consultant ',\n",
       "       'Digital Project Manager / Digital Producer',\n",
       "       'Quantitative Data Analyst', 'Business / Data Analyst',\n",
       "       'SSIS Developer, TSQL Analyst ', 'Junior Data Analyst ',\n",
       "       'Data Analyst X2', 'QA / Data Tester ', 'Senior Data Analyst ',\n",
       "       'SSIS Data Analyst, TSQL Analyst ', 'Data Modeller',\n",
       "       'Digital Analyst ', '2 X Data Scientist',\n",
       "       'Data Engineer / Data Scientist', 'Risk Analyst / Data Scientist',\n",
       "       'DATA SCIENTIST ', 'Data Engineer/Scientist/Analytics Consultant',\n",
       "       'Sr. Data Scientist ', 'Data Scientist', 'Senior Data Scientist',\n",
       "       'JAPANESE', 'Data Scientist ',\n",
       "       'Jnr Data Scientist | Innovative Co Global Organisation |',\n",
       "       'Senior Data Scientist | Strategic Position | Innovative & Dynamic Organisation',\n",
       "       'Lead Data Scientist',\n",
       "       'Senior Data Scientist / Machine Learning (Customer Marketing)',\n",
       "       'Data Scientist / Statistical Modeller',\n",
       "       'Data Engineer, Data Modelling / Analytics, Exciting New Role, CBD, Flexible Hrs',\n",
       "       'Candidate Manager | IT Recruitment | Flexible Hours | $140K package',\n",
       "       'Senior Customer Insights Analyst', 'Senior Manager ',\n",
       "       'Principal Data Scientist', 'DATA SCIENCE EXPERT',\n",
       "       'Director, Analytics',\n",
       "       'Microsoft Business Intelligence Consultant (PowerBI, SSIS, SSAS, Tableau)',\n",
       "       'Senior Business Intelligence Analyst', 'Business Analyst',\n",
       "       'Business Development Manager | Business Intelligence',\n",
       "       'Management Consultant ', 'Business Intelligence Report Developer',\n",
       "       'Assistant Business Analyst', 'Business Analyst ',\n",
       "       'Business Performance Analyst',\n",
       "       'Systems Analyst | Business Intelligence',\n",
       "       'Mid Level Relationship Manager, Global Business Intelligence Org, Great Culture.',\n",
       "       'MS Business Intelligence Consultant ',\n",
       "       'MS Business Intelligence Consultant (Power BI)',\n",
       "       'Reporting BI Business Analyst',\n",
       "       'Business Insights Analyst | Greenfields Role',\n",
       "       'DATA & IM STRATEGY ADVISOR',\n",
       "       'Account Director | Key Account Manager ', 'Reporting Analyst ',\n",
       "       'Group Management Accountant', 'Account Manager',\n",
       "       'Senior Commercial Accountant', 'Business Intelligence Analyst',\n",
       "       'Senior Commercial Analyst ', 'Designer/ Dev ',\n",
       "       'Senior BI Business Analyst ', 'Business Analyst | Finance',\n",
       "       'Engagement Manager ',\n",
       "       'Graduate Account Development Representative',\n",
       "       'Regional Sales Executive', 'Commercial Manager',\n",
       "       'Business Development Manager ', 'Project Manager', 'Junior',\n",
       "       'Senior BI Analyst', 'Manager Marketing & Communications',\n",
       "       'BI Reporting Analyst', 'Qlikview Developer', 'BI Developer',\n",
       "       'Senior Tableau Developers | Long term contracts | Finance & FMCG',\n",
       "       'Senior Front End Developers required | Banking & Finance applications | Contract',\n",
       "       'Recruitment Consultant ', 'Project Support Analyst',\n",
       "       'Senior Tableau Developer/Consultant | Long term contract | Finance',\n",
       "       'Senior Project Manager', 'I.T Recruitment Consultant',\n",
       "       'Senior Consultant', 'Project Manager | Health',\n",
       "       'Account Executive', 'BI Modeller', 'Cognos Specialist',\n",
       "       'Divisional Finance Manager', 'Recruitment Resourcer ',\n",
       "       'Head of Financial Planning and Analysis',\n",
       "       'Snr MS Power BI Consultant ',\n",
       "       'Senior BI Developer/ Data Warehouse Developer',\n",
       "       'Information and Analytics Manager', 'Information Technology ',\n",
       "       'SQL Developer', 'BI Developer ',\n",
       "       'Senior TM1 Consultant / Developer ', 'BI Analyst',\n",
       "       'Node.JS Developer', 'BI, Data and Analytics Manager'], dtype=object)"
      ]
     },
     "execution_count": 40,
     "metadata": {},
     "output_type": "execute_result"
    }
   ],
   "source": [
    "#Let's look at jobn titles again\n",
    "seek_nonull.Title.unique()"
   ]
  },
  {
   "cell_type": "code",
   "execution_count": 41,
   "metadata": {
    "collapsed": false
   },
   "outputs": [
    {
     "ename": "NameError",
     "evalue": "name 'Seek_nonnull' is not defined",
     "output_type": "error",
     "traceback": [
      "\u001b[0;31m---------------------------------------------------------------------------\u001b[0m",
      "\u001b[0;31mNameError\u001b[0m                                 Traceback (most recent call last)",
      "\u001b[0;32m<ipython-input-41-172ec7c85809>\u001b[0m in \u001b[0;36m<module>\u001b[0;34m()\u001b[0m\n\u001b[1;32m      4\u001b[0m \u001b[0;31m#job_keywords = ['Data', 'Analyst','Senior', 'Junior', 'Scientist', 'Business', 'Graduate', 'Manager', 'Management', 'Specialist','Engineer', '_Consultant', 'Consultant', 'Analysts','Analytics','Project', 'Officer','Customer','Insights','SQL','Coordinator','Operations','Research','Lead','Principal','Staff','Developer','Tester','Specialist','Risk','Snr.','Jnr', 'Director','Intelligence','Executive','CEO','Architect',]\u001b[0m\u001b[0;34m\u001b[0m\u001b[0;34m\u001b[0m\u001b[0m\n\u001b[1;32m      5\u001b[0m \u001b[0;34m\u001b[0m\u001b[0m\n\u001b[0;32m----> 6\u001b[0;31m \u001b[0mSeek_nonnull\u001b[0m\u001b[0;34m\u001b[0m\u001b[0m\n\u001b[0m",
      "\u001b[0;31mNameError\u001b[0m: name 'Seek_nonnull' is not defined"
     ]
    }
   ],
   "source": [
    "#Not working\n",
    "#Now lets define some key words for job titles\n",
    "\n",
    "#job_keywords = ['Data', 'Analyst','Senior', 'Junior', 'Scientist', 'Business', 'Graduate', 'Manager', 'Management', 'Specialist','Engineer', '_Consultant', 'Consultant', 'Analysts','Analytics','Project', 'Officer','Customer','Insights','SQL','Coordinator','Operations','Research','Lead','Principal','Staff','Developer','Tester','Specialist','Risk','Snr.','Jnr', 'Director','Intelligence','Executive','CEO','Architect',]\n",
    "\n",
    "Seek_nonnull"
   ]
  },
  {
   "cell_type": "code",
   "execution_count": 42,
   "metadata": {
    "collapsed": false
   },
   "outputs": [],
   "source": [
    "#Credit master Byron Stuart\n",
    "\n",
    "#Function that converts salary column into annual salary.  If text only then return none\n",
    "import re\n",
    "\n",
    "def adjust_salary(in_salary):\n",
    "    #deal with weird exceptions, add/remove cases as needed but can't deal with everything\n",
    "    in_salary = in_salary.replace('Bonus 5K', '')\n",
    "    in_salary = in_salary.replace('9.5%', '')\n",
    "    in_salary = in_salary.replace('Level 6 (SACS Grade 5)', '')\n",
    "    in_salary = in_salary.replace('13% Super + 50% Insurance Discount', '')\n",
    "    in_salary = in_salary.replace('Grade 7', '')\n",
    "    in_salary = in_salary.replace('120 - 140', '120000 - 140000')\n",
    "    in_salary = in_salary.replace('6+ month Contract', '')\n",
    "    in_salary = in_salary.replace('C120 K', '120000')\n",
    "    in_salary = in_salary.replace('Base  + Bonus (12 Mnth Contract)','')\n",
    "\n",
    "    # http://stackoverflow.com/questions/18256926/python-regex-for-dollar-amounts-including-commas-and-decimals\n",
    "    new_salary = ' '.join([ ''.join(x[0]) for x in re.findall(r'(\\$?\\d+([,\\.]\\d+)?[kK]?)', in_salary) ])\n",
    "    if new_salary == '':\n",
    "        return None\n",
    "    \n",
    "    new_salary = new_salary.replace('k', 'K').replace('K', '000').replace('$', '').replace(',', '')\n",
    "    new_salary_list = new_salary.split()\n",
    "    \n",
    "    \n",
    "    # get rid of any cents\n",
    "    for i, val in enumerate(new_salary_list):\n",
    "        new_salary_list[i] = int(new_salary_list[i].split('.')[0])\n",
    "    \n",
    "    \n",
    "    # if we have 4 numbers remove the last 2\n",
    "    if len(new_salary_list) == 4:\n",
    "        del new_salary_list[3]\n",
    "        del new_salary_list[2]\n",
    "\n",
    "    cleaned = False\n",
    "    # clean up numbers and reduce from 3 to 2\n",
    "    if len(new_salary_list) == 3:\n",
    "        if new_salary_list[0] < new_salary_list[2]:\n",
    "            del new_salary_list[0]\n",
    "        else:\n",
    "            del new_salary_list[2]\n",
    "        cleaned = True\n",
    "\n",
    "    # clean up numbers and multiply the first number by 1000 if the second number is in the 1000s\n",
    "    if len(new_salary_list) == 2 and not cleaned:\n",
    "        if new_salary_list[1] == 0:\n",
    "            return None\n",
    "        if float(new_salary_list[0]) / float(new_salary_list[1]) < 0.01:\n",
    "            new_salary_list[0] *= 1000\n",
    "        cleaned = True\n",
    "        #print new_salary_list[0] / new_salary_list[1]\n",
    "    \n",
    "    # get an average of the 2 numbers\n",
    "    if len(new_salary_list) == 2:\n",
    "        new_salary = (new_salary_list[0] + new_salary_list[1]) / 2\n",
    "\n",
    "    # clean up the last number if necessary\n",
    "    if len(new_salary_list) == 1 and not cleaned:\n",
    "        new_salary = new_salary_list[0]\n",
    "\n",
    "    # this string has not been cleaned\n",
    "    if (type(new_salary) is str):\n",
    "        print('Exception, salary not extracted:', in_salary)\n",
    "        return None\n",
    "    \n",
    "    # assume per hour, calculate yearly\n",
    "    if new_salary < 250:\n",
    "        new_salary *= 38 * 52\n",
    "    # assume per day, calculate yearly\n",
    "    elif new_salary < 1200:\n",
    "        new_salary *= 5 * 52\n",
    "    # anything left should be yearly already\n",
    "\n",
    "    print 'Old:', in_salary, 'New:', int(new_salary)\n",
    "    return int(new_salary)"
   ]
  },
  {
   "cell_type": "code",
   "execution_count": 43,
   "metadata": {
    "collapsed": false
   },
   "outputs": [
    {
     "name": "stdout",
     "output_type": "stream",
     "text": [
      "['$91 - $97 p/h', '$80 p/h', '$80 p/h', '$80 p/h', '$30 - $40 p/h']\n"
     ]
    }
   ],
   "source": [
    "salary = list(seek_nonull.Salary)\n",
    "print salary[0:5]"
   ]
  },
  {
   "cell_type": "code",
   "execution_count": 44,
   "metadata": {
    "collapsed": false,
    "scrolled": false
   },
   "outputs": [
    {
     "name": "stdout",
     "output_type": "stream",
     "text": [
      "Old: $91 - $97 p/h New: 185744\n",
      "Old: $80 p/h New: 158080\n",
      "Old: $80 p/h New: 158080\n",
      "Old: $80 p/h New: 158080\n",
      "Old: $30 - $40 p/h New: 69160\n",
      "Old: $111 p/h New: 219336\n",
      "Old: $400 - $500 p.d New: 117000\n",
      "Old: $111 p/h New: 219336\n",
      "Old: $70000 plus superannuation New: 70000\n",
      "Old: $700 - $800 p.d New: 195000\n",
      "Old: $50 - $55 p/h annuation New: 102752\n",
      "Old: $110K  New: 110000\n",
      "Old: $50k - $52k p.a. + plus super New: 51000\n",
      "Old: $25-$27 p/h plus superannuation New: 51376\n",
      "Old: $570 p.d New: 148200\n",
      "Old: $70000 - $85000 New: 77500\n",
      "Old: $600 p.d New: 156000\n",
      "Old: $80K-$120K Packages New: 100000\n",
      "Old: $75k - $90k New: 82500\n",
      "Old: $70000.00 New: 70000\n",
      "Old: $550 - $750 p.d New: 169000\n",
      "Old: $40.37 - $44.15 p/h New: 82992\n",
      "Old: $40.37 - $44.15 p/h New: 82992\n",
      "Old: $500 - $600 p.d annuation New: 143000\n",
      "Old: $380 - $450 p.d New: 107900\n",
      "Old: $60-$70k New: 65000\n",
      "Old: $550 - $700 p.d New: 162500\n",
      "Old: $650 - $730 p.d annuation New: 179400\n",
      "Old: $70000 base New: 70000\n",
      "Old: $70000 - $79999 New: 74999\n",
      "Old: $550 p.d New: 143000\n",
      "Old: $550 p.d New: 143000\n",
      "Old: $80k - $110k p.a. + New: 95000\n",
      "Old: $30.00 - $34.00 p/h New: 63232\n",
      "Old: $28.58 - $29.74 p/h New: 55328\n",
      "Old: $35 - $44.99 p/h New: 77064\n",
      "Old: $85000 - $100000 per annum New: 92500\n",
      "Old: $35 - $44.99 p/h New: 77064\n",
      "Old: $100000.00 p.a. + inc super New: 100000\n",
      "Old: $60 p/h New: 118560\n",
      "Old: $80000 - $119999 New: 99999\n",
      "Old: $110000.00 - $120000.00 p.a. annuation New: 115000\n",
      "Old: $550 - $620 p.d New: 152100\n",
      "Old: $80K - $85K  + Bens New: 82500\n",
      "Old: $81K - $96K p.a (+ 17% superannuation) New: 88500\n",
      "Old: $110K  New: 110000\n",
      "Old: $90k - $100k p.a. New: 95000\n",
      "Old: $81K - $96K p.a (+ 17% superannuation) New: 88500\n",
      "Old: $650-$750 New: 182000\n",
      "Old: $650 - $700 p.d New: 175500\n",
      "Old: $100000 - $130000 New: 115000\n",
      "Old: $700 - $900 p.d New: 208000\n",
      "Old: $15000-$160000 New: 87500\n",
      "Old: $120000 - $130000 New: 125000\n",
      "Old: $100k - $140k p.a. New: 120000\n",
      "Old: $100000 - $130000 New: 115000\n",
      "Old: $700 - 900 p.d New: 208000\n",
      "Old: $150-$160K New: 155000\n",
      "Old: $120000 to $130000 New: 125000\n",
      "Old: $100k - $140k p.a. New: 120000\n",
      "Old: $150k - $180k p.a. New: 165000\n",
      "Old: $900 - $1200 p.d New: 273000\n",
      "Old: $80K-120K Packages New: 100000\n",
      "Old: $120000 - $199999 New: 159999\n",
      "Old: $90k - $120K Package plus Career Investment New: 105000\n",
      "Old: $91086 - $102580 p.a. New: 96833\n",
      "Old: $140000 New: 140000\n",
      "Old: $100-$125K depending on experience New: 112500\n",
      "Old: $91086 - $102580 p.a. New: 96833\n",
      "Old: $145000 inc Super New: 145000\n",
      "Old: $90000 - $120000 New: 105000\n",
      "Old: $110000 - $130000 plus super and benefits New: 120000\n",
      "Old: $145000 inc Super New: 145000\n",
      "Old: $100000  -  $119999 New: 109999\n",
      "Old: $100K New: 100000\n",
      "Old: $140K package New: 140000\n",
      "Old: $140K package New: 140000\n",
      "Old: $100000.00 New: 100000\n",
      "Old: $120000.00 - $130000 p.a. + inc super New: 125000\n",
      "Old: $100000.00 - $120000.00 p.a. New: 110000\n",
      "Old: $100000 - $149999 New: 124999\n",
      "Old: $105K - 110k base  + bonus New: 107500\n",
      "Old: $180k - $200k p.a. New: 190000\n",
      "Old: $80000 - 100000per annum New: 90000\n",
      "Old: $180000 - $200000 + Salary  + incentive New: 190000\n",
      "Old: $100000 - $130000 New: 115000\n",
      "Old: $700 - 900 p.d New: 208000\n",
      "Old: $140K including Super (experience dependent) New: 140000\n",
      "Old: $102.50 p/h\n",
      "\n",
      "All agent client fees disclosed New: 201552\n",
      "Old: $102.50 p/h All agent client fees disclosed New: 201552\n",
      "Old: $55k + Uncapped commissions New: 55000\n",
      "Old: $80 - $100 p/h New: 177840\n",
      "Old: $101827 - $121332 New: 111579\n",
      "Old: $101827 - $121332 New: 111579\n",
      "Old: $101827 - $121332 New: 111579\n",
      "Old: $79688-$89947 pro rata pa + super New: 84817\n",
      "Old: $120000.00 New: 120000\n",
      "Old: $85000 - $100000 package negotiable New: 92500\n",
      "Old: $115726 - $120404 p.a. plus 17% superannuation New: 118065\n",
      "Old: $115726 - $120404 p.a. plus 17% superannuation New: 118065\n",
      "Old: $130k inc super + lucrative uncapped comms plan New: 130000\n",
      "Old: $90000.00 - $95k p.a. New: 92500\n",
      "Old: $110k - $115k p.a. New: 112500\n",
      "Old: $100k - $110k p.a. New: 105000\n",
      "Old: $95000 for the right candidate New: 95000\n",
      "Old: $800.00 p/d 12 Month Contract New: 105560\n",
      "Old: $120,000 - $130,000 New: 125000\n",
      "Old: $50K Base + Comms + Sup New: 50000\n",
      "Old: $120000.00 - $130000.00 p.a.  + Commissions New: 125000\n",
      "Old: $160000.00 - $180000.00 p.a. New: 170000\n",
      "Old: $100000 - $119999 New: 109999\n",
      "Old: $180K  + Comms New: 180000\n",
      "Old: $90k - $100k p.a. New: 95000\n",
      "Old: $85 - $90 p/h New: 171912\n",
      "Old: $50 - $59.99 p/h New: 106704\n",
      "Old: $120 K neg on exp New: 237120\n",
      "Old: $480 - $680 p.d (incl. super) New: 150800\n",
      "Old: $70000 - $100000 plus super. New: 85000\n",
      "Old: $76555 - $88039 plus  superannuation New: 82297\n",
      "Old: $80 - $88 p/h New: 165984\n",
      "Old: $400 p.d New: 104000\n",
      "Old: $1k p.d New: 260000\n",
      "Old: $70000.00 New: 70000\n",
      "Old: $140000.00 New: 140000\n",
      "Old: $480 - $680 p.d (incl. super) New: 150800\n",
      "Old: $1k p.d New: 260000\n",
      "Old: $90 - $100 p/h New: 187720\n",
      "Old: $60000 - $90000 New: 75000\n",
      "Old: $150000.00 New: 150000\n",
      "Old: $50 - $65  + excellent Comms New: 112632\n",
      "Old: $240000 - $300000 New: 270000\n",
      "Old: $125000 per annum New: 125000\n",
      "Old: $70000 - $100000 per annum New: 85000\n",
      "Old: $700-$900 p.d + New: 208000\n",
      "Old: $80 - $88 p/h New: 165984\n",
      "Old: $100k - $130k p.a. New: 115000\n",
      "Old: 170000 New: 170000\n"
     ]
    }
   ],
   "source": [
    "salary1=[]\n",
    "len(salary)\n",
    "for row in range(0,len(salary)):\n",
    "    salary1.append(adjust_salary(salary[row]))"
   ]
  },
  {
   "cell_type": "code",
   "execution_count": 45,
   "metadata": {
    "collapsed": false
   },
   "outputs": [],
   "source": [
    "seek_nonull.Salary=salary1"
   ]
  },
  {
   "cell_type": "code",
   "execution_count": 46,
   "metadata": {
    "collapsed": false
   },
   "outputs": [
    {
     "data": {
      "text/html": [
       "<div>\n",
       "<table border=\"1\" class=\"dataframe\">\n",
       "  <thead>\n",
       "    <tr style=\"text-align: right;\">\n",
       "      <th></th>\n",
       "      <th>Industry</th>\n",
       "      <th>Salary</th>\n",
       "      <th>Skills</th>\n",
       "      <th>Title</th>\n",
       "      <th>Type</th>\n",
       "      <th>City</th>\n",
       "    </tr>\n",
       "  </thead>\n",
       "  <tbody>\n",
       "    <tr>\n",
       "      <th>1</th>\n",
       "      <td>Information &amp; Communication Technology</td>\n",
       "      <td>185744.0</td>\n",
       "      <td>[]</td>\n",
       "      <td>Data Analyst</td>\n",
       "      <td>Contract</td>\n",
       "      <td>Brisbane</td>\n",
       "    </tr>\n",
       "    <tr>\n",
       "      <th>4</th>\n",
       "      <td>Government &amp; Defence</td>\n",
       "      <td>158080.0</td>\n",
       "      <td>['tableau', 'r', 'sas', 'excel', 'spss']</td>\n",
       "      <td>Data Analyst I NSW Government I $80p/h</td>\n",
       "      <td>Contract</td>\n",
       "      <td>Sydney</td>\n",
       "    </tr>\n",
       "    <tr>\n",
       "      <th>5</th>\n",
       "      <td>Consulting &amp; Strategy</td>\n",
       "      <td>158080.0</td>\n",
       "      <td>['tableau', 'r', 'sas', 'excel', 'spss']</td>\n",
       "      <td>Data Analyst I NSW Government I $80p/h</td>\n",
       "      <td>Contract</td>\n",
       "      <td>Sydney</td>\n",
       "    </tr>\n",
       "    <tr>\n",
       "      <th>6</th>\n",
       "      <td>Science &amp; Technology</td>\n",
       "      <td>158080.0</td>\n",
       "      <td>['tableau', 'r', 'sas', 'excel', 'spss']</td>\n",
       "      <td>Data Analyst I NSW Government I $80p/h</td>\n",
       "      <td>Contract</td>\n",
       "      <td>Sydney</td>\n",
       "    </tr>\n",
       "    <tr>\n",
       "      <th>12</th>\n",
       "      <td>Accounting</td>\n",
       "      <td>69160.0</td>\n",
       "      <td>['excel']</td>\n",
       "      <td>Data Analyst</td>\n",
       "      <td>Contract</td>\n",
       "      <td>Sydney</td>\n",
       "    </tr>\n",
       "    <tr>\n",
       "      <th>13</th>\n",
       "      <td>Information &amp; Communication Technology</td>\n",
       "      <td>219336.0</td>\n",
       "      <td>['excel']</td>\n",
       "      <td>Principal Data Analyst | ArcGIS | Power BI | Qlik</td>\n",
       "      <td>Contract</td>\n",
       "      <td>Brisbane</td>\n",
       "    </tr>\n",
       "    <tr>\n",
       "      <th>20</th>\n",
       "      <td>Information &amp; Communication Technology</td>\n",
       "      <td>117000.0</td>\n",
       "      <td>['mining', 'tableau']</td>\n",
       "      <td>Data Analyst</td>\n",
       "      <td>Contract</td>\n",
       "      <td>Melbourne</td>\n",
       "    </tr>\n",
       "    <tr>\n",
       "      <th>24</th>\n",
       "      <td>Information &amp; Communication Technology</td>\n",
       "      <td>219336.0</td>\n",
       "      <td>[]</td>\n",
       "      <td>Principal Data Analyst</td>\n",
       "      <td>Contract</td>\n",
       "      <td>Brisbane</td>\n",
       "    </tr>\n",
       "    <tr>\n",
       "      <th>26</th>\n",
       "      <td>Information &amp; Communication Technology</td>\n",
       "      <td>NaN</td>\n",
       "      <td>[]</td>\n",
       "      <td>Junior Data Analyst | Merivale</td>\n",
       "      <td>Contract</td>\n",
       "      <td>Sydney</td>\n",
       "    </tr>\n",
       "    <tr>\n",
       "      <th>29</th>\n",
       "      <td>Marketing &amp; Communications</td>\n",
       "      <td>70000.0</td>\n",
       "      <td>['excel', 'spss']</td>\n",
       "      <td>Data Analyst</td>\n",
       "      <td>Full Time</td>\n",
       "      <td>Melbourne</td>\n",
       "    </tr>\n",
       "  </tbody>\n",
       "</table>\n",
       "</div>"
      ],
      "text/plain": [
       "                                  Industry    Salary  \\\n",
       "1   Information & Communication Technology  185744.0   \n",
       "4                     Government & Defence  158080.0   \n",
       "5                    Consulting & Strategy  158080.0   \n",
       "6                     Science & Technology  158080.0   \n",
       "12                              Accounting   69160.0   \n",
       "13  Information & Communication Technology  219336.0   \n",
       "20  Information & Communication Technology  117000.0   \n",
       "24  Information & Communication Technology  219336.0   \n",
       "26  Information & Communication Technology       NaN   \n",
       "29              Marketing & Communications   70000.0   \n",
       "\n",
       "                                      Skills  \\\n",
       "1                                         []   \n",
       "4   ['tableau', 'r', 'sas', 'excel', 'spss']   \n",
       "5   ['tableau', 'r', 'sas', 'excel', 'spss']   \n",
       "6   ['tableau', 'r', 'sas', 'excel', 'spss']   \n",
       "12                                 ['excel']   \n",
       "13                                 ['excel']   \n",
       "20                     ['mining', 'tableau']   \n",
       "24                                        []   \n",
       "26                                        []   \n",
       "29                         ['excel', 'spss']   \n",
       "\n",
       "                                                Title       Type       City  \n",
       "1                                        Data Analyst   Contract   Brisbane  \n",
       "4              Data Analyst I NSW Government I $80p/h   Contract     Sydney  \n",
       "5              Data Analyst I NSW Government I $80p/h   Contract     Sydney  \n",
       "6              Data Analyst I NSW Government I $80p/h   Contract     Sydney  \n",
       "12                                       Data Analyst   Contract     Sydney  \n",
       "13  Principal Data Analyst | ArcGIS | Power BI | Qlik   Contract   Brisbane  \n",
       "20                                       Data Analyst   Contract  Melbourne  \n",
       "24                             Principal Data Analyst   Contract   Brisbane  \n",
       "26                     Junior Data Analyst | Merivale   Contract     Sydney  \n",
       "29                                       Data Analyst  Full Time  Melbourne  "
      ]
     },
     "execution_count": 46,
     "metadata": {},
     "output_type": "execute_result"
    }
   ],
   "source": [
    "#This dataframe has all the jobs with salary information where salary is annulaized\n",
    "seek_nonull.head(10)"
   ]
  },
  {
   "cell_type": "code",
   "execution_count": 47,
   "metadata": {
    "collapsed": false
   },
   "outputs": [
    {
     "data": {
      "text/plain": [
       "(137, 6)"
      ]
     },
     "execution_count": 47,
     "metadata": {},
     "output_type": "execute_result"
    }
   ],
   "source": [
    "#Not all salary columns have values so we need to drop Nan\n",
    "\n",
    "seek_fnl = seek_nonull[seek_nonull.Salary.notnull()]\n",
    "\n",
    "#seek_nonull = seek[seek.Salary.notnull()]\n",
    "#seek_nonull.shape\n",
    "\n",
    "seek_fnl.shape\n",
    "\n",
    "#Notice we are down to 137 jobs with salaries"
   ]
  },
  {
   "cell_type": "code",
   "execution_count": 48,
   "metadata": {
    "collapsed": false
   },
   "outputs": [
    {
     "data": {
      "text/html": [
       "<div>\n",
       "<table border=\"1\" class=\"dataframe\">\n",
       "  <thead>\n",
       "    <tr style=\"text-align: right;\">\n",
       "      <th></th>\n",
       "      <th>Industry</th>\n",
       "      <th>Salary</th>\n",
       "      <th>Skills</th>\n",
       "      <th>Title</th>\n",
       "      <th>Type</th>\n",
       "      <th>City</th>\n",
       "    </tr>\n",
       "  </thead>\n",
       "  <tbody>\n",
       "    <tr>\n",
       "      <th>1</th>\n",
       "      <td>Information &amp; Communication Technology</td>\n",
       "      <td>185744.0</td>\n",
       "      <td>[]</td>\n",
       "      <td>Data Analyst</td>\n",
       "      <td>Contract</td>\n",
       "      <td>Brisbane</td>\n",
       "    </tr>\n",
       "    <tr>\n",
       "      <th>4</th>\n",
       "      <td>Government &amp; Defence</td>\n",
       "      <td>158080.0</td>\n",
       "      <td>['tableau', 'r', 'sas', 'excel', 'spss']</td>\n",
       "      <td>Data Analyst I NSW Government I $80p/h</td>\n",
       "      <td>Contract</td>\n",
       "      <td>Sydney</td>\n",
       "    </tr>\n",
       "    <tr>\n",
       "      <th>5</th>\n",
       "      <td>Consulting &amp; Strategy</td>\n",
       "      <td>158080.0</td>\n",
       "      <td>['tableau', 'r', 'sas', 'excel', 'spss']</td>\n",
       "      <td>Data Analyst I NSW Government I $80p/h</td>\n",
       "      <td>Contract</td>\n",
       "      <td>Sydney</td>\n",
       "    </tr>\n",
       "    <tr>\n",
       "      <th>6</th>\n",
       "      <td>Science &amp; Technology</td>\n",
       "      <td>158080.0</td>\n",
       "      <td>['tableau', 'r', 'sas', 'excel', 'spss']</td>\n",
       "      <td>Data Analyst I NSW Government I $80p/h</td>\n",
       "      <td>Contract</td>\n",
       "      <td>Sydney</td>\n",
       "    </tr>\n",
       "    <tr>\n",
       "      <th>12</th>\n",
       "      <td>Accounting</td>\n",
       "      <td>69160.0</td>\n",
       "      <td>['excel']</td>\n",
       "      <td>Data Analyst</td>\n",
       "      <td>Contract</td>\n",
       "      <td>Sydney</td>\n",
       "    </tr>\n",
       "    <tr>\n",
       "      <th>13</th>\n",
       "      <td>Information &amp; Communication Technology</td>\n",
       "      <td>219336.0</td>\n",
       "      <td>['excel']</td>\n",
       "      <td>Principal Data Analyst | ArcGIS | Power BI | Qlik</td>\n",
       "      <td>Contract</td>\n",
       "      <td>Brisbane</td>\n",
       "    </tr>\n",
       "    <tr>\n",
       "      <th>20</th>\n",
       "      <td>Information &amp; Communication Technology</td>\n",
       "      <td>117000.0</td>\n",
       "      <td>['mining', 'tableau']</td>\n",
       "      <td>Data Analyst</td>\n",
       "      <td>Contract</td>\n",
       "      <td>Melbourne</td>\n",
       "    </tr>\n",
       "    <tr>\n",
       "      <th>24</th>\n",
       "      <td>Information &amp; Communication Technology</td>\n",
       "      <td>219336.0</td>\n",
       "      <td>[]</td>\n",
       "      <td>Principal Data Analyst</td>\n",
       "      <td>Contract</td>\n",
       "      <td>Brisbane</td>\n",
       "    </tr>\n",
       "    <tr>\n",
       "      <th>29</th>\n",
       "      <td>Marketing &amp; Communications</td>\n",
       "      <td>70000.0</td>\n",
       "      <td>['excel', 'spss']</td>\n",
       "      <td>Data Analyst</td>\n",
       "      <td>Full Time</td>\n",
       "      <td>Melbourne</td>\n",
       "    </tr>\n",
       "    <tr>\n",
       "      <th>31</th>\n",
       "      <td>Information &amp; Communication Technology</td>\n",
       "      <td>195000.0</td>\n",
       "      <td>['tableau', 'excel', 'sql']</td>\n",
       "      <td>Senior Data Analyst</td>\n",
       "      <td>Contract</td>\n",
       "      <td>Sydney</td>\n",
       "    </tr>\n",
       "  </tbody>\n",
       "</table>\n",
       "</div>"
      ],
      "text/plain": [
       "                                  Industry    Salary  \\\n",
       "1   Information & Communication Technology  185744.0   \n",
       "4                     Government & Defence  158080.0   \n",
       "5                    Consulting & Strategy  158080.0   \n",
       "6                     Science & Technology  158080.0   \n",
       "12                              Accounting   69160.0   \n",
       "13  Information & Communication Technology  219336.0   \n",
       "20  Information & Communication Technology  117000.0   \n",
       "24  Information & Communication Technology  219336.0   \n",
       "29              Marketing & Communications   70000.0   \n",
       "31  Information & Communication Technology  195000.0   \n",
       "\n",
       "                                      Skills  \\\n",
       "1                                         []   \n",
       "4   ['tableau', 'r', 'sas', 'excel', 'spss']   \n",
       "5   ['tableau', 'r', 'sas', 'excel', 'spss']   \n",
       "6   ['tableau', 'r', 'sas', 'excel', 'spss']   \n",
       "12                                 ['excel']   \n",
       "13                                 ['excel']   \n",
       "20                     ['mining', 'tableau']   \n",
       "24                                        []   \n",
       "29                         ['excel', 'spss']   \n",
       "31               ['tableau', 'excel', 'sql']   \n",
       "\n",
       "                                                Title       Type       City  \n",
       "1                                        Data Analyst   Contract   Brisbane  \n",
       "4              Data Analyst I NSW Government I $80p/h   Contract     Sydney  \n",
       "5              Data Analyst I NSW Government I $80p/h   Contract     Sydney  \n",
       "6              Data Analyst I NSW Government I $80p/h   Contract     Sydney  \n",
       "12                                       Data Analyst   Contract     Sydney  \n",
       "13  Principal Data Analyst | ArcGIS | Power BI | Qlik   Contract   Brisbane  \n",
       "20                                       Data Analyst   Contract  Melbourne  \n",
       "24                             Principal Data Analyst   Contract   Brisbane  \n",
       "29                                       Data Analyst  Full Time  Melbourne  \n",
       "31                                Senior Data Analyst   Contract     Sydney  "
      ]
     },
     "execution_count": 48,
     "metadata": {},
     "output_type": "execute_result"
    }
   ],
   "source": [
    "seek_fnl.head(10)"
   ]
  },
  {
   "cell_type": "code",
   "execution_count": 49,
   "metadata": {
    "collapsed": false
   },
   "outputs": [
    {
     "data": {
      "text/html": [
       "<div>\n",
       "<table border=\"1\" class=\"dataframe\">\n",
       "  <thead>\n",
       "    <tr style=\"text-align: right;\">\n",
       "      <th></th>\n",
       "      <th>Salary</th>\n",
       "    </tr>\n",
       "  </thead>\n",
       "  <tbody>\n",
       "    <tr>\n",
       "      <th>count</th>\n",
       "      <td>137.000000</td>\n",
       "    </tr>\n",
       "    <tr>\n",
       "      <th>mean</th>\n",
       "      <td>128266.985401</td>\n",
       "    </tr>\n",
       "    <tr>\n",
       "      <th>std</th>\n",
       "      <td>47628.031876</td>\n",
       "    </tr>\n",
       "    <tr>\n",
       "      <th>min</th>\n",
       "      <td>50000.000000</td>\n",
       "    </tr>\n",
       "    <tr>\n",
       "      <th>25%</th>\n",
       "      <td>95000.000000</td>\n",
       "    </tr>\n",
       "    <tr>\n",
       "      <th>50%</th>\n",
       "      <td>115000.000000</td>\n",
       "    </tr>\n",
       "    <tr>\n",
       "      <th>75%</th>\n",
       "      <td>158080.000000</td>\n",
       "    </tr>\n",
       "    <tr>\n",
       "      <th>max</th>\n",
       "      <td>273000.000000</td>\n",
       "    </tr>\n",
       "  </tbody>\n",
       "</table>\n",
       "</div>"
      ],
      "text/plain": [
       "              Salary\n",
       "count     137.000000\n",
       "mean   128266.985401\n",
       "std     47628.031876\n",
       "min     50000.000000\n",
       "25%     95000.000000\n",
       "50%    115000.000000\n",
       "75%    158080.000000\n",
       "max    273000.000000"
      ]
     },
     "execution_count": 49,
     "metadata": {},
     "output_type": "execute_result"
    }
   ],
   "source": [
    "seek_fnl.describe()"
   ]
  },
  {
   "cell_type": "code",
   "execution_count": 50,
   "metadata": {
    "collapsed": false
   },
   "outputs": [
    {
     "data": {
      "image/png": "[encoded data removed]",
      "text/plain": [
       "<matplotlib.figure.Figure at 0x118a2a450>"
      ]
     },
     "metadata": {},
     "output_type": "display_data"
    }
   ],
   "source": [
    "#let's see what the salary distribution looks like\n",
    "import seaborn as sns\n",
    "sns.distplot(seek_fnl.Salary, hist=True)\n",
    "plt.title('Histogram of Salary')\n",
    "plt.show()\n",
    "\n",
    "#In general this looks like a log normal distribution"
   ]
  },
  {
   "cell_type": "code",
   "execution_count": 51,
   "metadata": {
    "collapsed": false
   },
   "outputs": [
    {
     "data": {
      "image/png": "[encoded data removed]",
      "text/plain": [
       "<matplotlib.figure.Figure at 0x118b24d10>"
      ]
     },
     "metadata": {},
     "output_type": "display_data"
    }
   ],
   "source": [
    "sns.set_style(\"whitegrid\")\n",
    "#tips = sns.load_dataset(\"tips\")\n",
    "ax = sns.barplot(x=seek_fnl.Type, y=seek_fnl.Salary, data=seek_fnl)\n",
    "plt.title('Salary by Employment Type')\n",
    "plt.show()\n",
    "\n",
    "#Average salaries grouped by employment type.  Not suprisingly, salaries for contractors is the \n",
    "#highest.  Contractors generally command higher rates because of specialized work and a company\n",
    "#does not need to commit to an employee's development.  In doing so the employee carries more risk\n"
   ]
  },
  {
   "cell_type": "code",
   "execution_count": 52,
   "metadata": {
    "collapsed": false,
    "scrolled": true
   },
   "outputs": [
    {
     "data": {
      "image/png": "[encoded data removed]",
      "text/plain": [
       "<matplotlib.figure.Figure at 0x118b24610>"
      ]
     },
     "metadata": {},
     "output_type": "display_data"
    }
   ],
   "source": [
    "sns.set_style(\"whitegrid\")\n",
    "#tips = sns.load_dataset(\"tips\")\n",
    "ax = sns.barplot(x=seek_fnl.City, y=seek_fnl.Salary, data=seek_fnl)\n",
    "plt.title('Salary by City')\n",
    "plt.show()\n",
    "#Mean salary by city.  Suprisiningly Brisbane has the highest.  HJowever this could be mis leading because it \n",
    "#all job types are in here.  Also, I'm not sure how many jobs are in each category.  The large spread \n",
    "#for ACT is likely due to one or two jobs."
   ]
  },
  {
   "cell_type": "code",
   "execution_count": 53,
   "metadata": {
    "collapsed": false
   },
   "outputs": [
    {
     "name": "stdout",
     "output_type": "stream",
     "text": [
      "(36, 6)\n"
     ]
    }
   ],
   "source": [
    "#Let's have a look at jobs where salary is below 25% percentile\n",
    "low = seek_fnl.query('Salary <= 95000')\n",
    "print low.shape"
   ]
  },
  {
   "cell_type": "code",
   "execution_count": 54,
   "metadata": {
    "collapsed": false
   },
   "outputs": [
    {
     "data": {
      "text/plain": [
       "array([\"['excel']\", \"['excel', 'spss']\", '[]',\n",
       "       \"['r', 'sas', 'mysql', 'sql']\", \"['tableau']\",\n",
       "       \"['tableau', 'python', 'r', 'sql']\", \"['sas', 'sql']\",\n",
       "       \"['tableau', 'sql']\", \"['mining', 'r']\", \"['mining', 'sql']\",\n",
       "       \"['python']\", \"['sql']\", \"['bachelor']\", \"['excel', 'sql']\"], dtype=object)"
      ]
     },
     "execution_count": 54,
     "metadata": {},
     "output_type": "execute_result"
    }
   ],
   "source": [
    "low.Skills.unique()"
   ]
  },
  {
   "cell_type": "code",
   "execution_count": 55,
   "metadata": {
    "collapsed": false
   },
   "outputs": [
    {
     "data": {
      "text/plain": [
       "array(['Data Analyst', 'Data Analyst ',\n",
       "       'Data Analyst | Media Focused Agency | Market Research',\n",
       "       'Product Quality Analyst', 'Junior Salesforce Data Analyst',\n",
       "       'Junior SQL Data Analyst', 'Business Data Analyst',\n",
       "       'Data Analytics Consultant', 'Pricing/Product Coordinator',\n",
       "       'Data Analyst & Support Officer', 'QA / Data Tester ',\n",
       "       'Sr. Data Scientist ', 'DATA SCIENCE EXPERT',\n",
       "       'Business Development Manager | Business Intelligence',\n",
       "       'Assistant Business Analyst',\n",
       "       'Business Insights Analyst | Greenfields Role',\n",
       "       'Reporting Analyst ', 'Designer/ Dev ',\n",
       "       'Graduate Account Development Representative', 'Project Manager',\n",
       "       'Recruitment Consultant ', 'Project Support Analyst',\n",
       "       'I.T Recruitment Consultant', 'Account Executive', 'SQL Developer'], dtype=object)"
      ]
     },
     "execution_count": 55,
     "metadata": {},
     "output_type": "execute_result"
    }
   ],
   "source": [
    "low.Title.unique()"
   ]
  },
  {
   "cell_type": "markdown",
   "metadata": {},
   "source": [
    "Jobs with salaries in the lowest quartile range are predominatly have the terms:\n",
    "-Data Analyst\n",
    "-Junior\n",
    "-Graduate\n",
    "\n",
    "The skills that are requsted are predominatly excel, tableau and sql.\n",
    "\n",
    "There is also very few roles that say:\n",
    "data scientist"
   ]
  },
  {
   "cell_type": "code",
   "execution_count": 56,
   "metadata": {
    "collapsed": false
   },
   "outputs": [
    {
     "name": "stdout",
     "output_type": "stream",
     "text": [
      "['Data Analyst' 'Data Analyst '\n",
      " 'Data Analyst | Media Focused Agency | Market Research'\n",
      " 'Product Quality Analyst' 'Junior Salesforce Data Analyst'\n",
      " 'Junior SQL Data Analyst' 'Business Data Analyst'\n",
      " 'Data Analytics Consultant' 'Pricing/Product Coordinator'\n",
      " 'Data Analyst & Support Officer' 'QA / Data Tester ' 'Sr. Data Scientist '\n",
      " 'DATA SCIENCE EXPERT'\n",
      " 'Business Development Manager | Business Intelligence'\n",
      " 'Assistant Business Analyst'\n",
      " 'Business Insights Analyst | Greenfields Role' 'Reporting Analyst '\n",
      " 'Designer/ Dev ' 'Graduate Account Development Representative'\n",
      " 'Project Manager' 'Recruitment Consultant ' 'Project Support Analyst'\n",
      " 'I.T Recruitment Consultant' 'Account Executive' 'SQL Developer']\n"
     ]
    }
   ],
   "source": [
    "print low.Title.unique()"
   ]
  },
  {
   "cell_type": "code",
   "execution_count": 57,
   "metadata": {
    "collapsed": false
   },
   "outputs": [
    {
     "name": "stdout",
     "output_type": "stream",
     "text": [
      "(35, 6)\n"
     ]
    }
   ],
   "source": [
    "#Now lets look at jobs in the upper quartile\n",
    "high = seek_fnl.query('Salary >= 158000')\n",
    "print high.shape"
   ]
  },
  {
   "cell_type": "code",
   "execution_count": 58,
   "metadata": {
    "collapsed": false
   },
   "outputs": [
    {
     "data": {
      "text/plain": [
       "array(['[]', \"['tableau', 'r', 'sas', 'excel', 'spss']\", \"['excel']\",\n",
       "       \"['tableau', 'excel', 'sql']\", \"['tableau']\",\n",
       "       \"['mining', 'tableau', 'sql']\", \"['r', 'excel']\", \"['python']\",\n",
       "       \"['python', 'r', 'sql']\", \"['python', 'c++', 'java', 'r']\",\n",
       "       \"['python', 'r']\", \"['python', 'mining', 'r', 'sas']\",\n",
       "       \"['mining', 'sas', 'sql']\", \"['hive']\", \"['mining']\",\n",
       "       \"['r', 'excel', 'sql']\", \"['sql']\",\n",
       "       \"['tableau', 'python', 'r', 'sas', 'sql']\"], dtype=object)"
      ]
     },
     "execution_count": 58,
     "metadata": {},
     "output_type": "execute_result"
    }
   ],
   "source": [
    "high.Skills.unique()"
   ]
  },
  {
   "cell_type": "code",
   "execution_count": 59,
   "metadata": {
    "collapsed": false
   },
   "outputs": [
    {
     "data": {
      "text/plain": [
       "array(['Data Analyst', 'Data Analyst I NSW Government I $80p/h',\n",
       "       'Principal Data Analyst | ArcGIS | Power BI | Qlik',\n",
       "       'Principal Data Analyst', 'Senior Data Analyst',\n",
       "       'DATA ANALYST > OUTSTANDING COMPANY', 'Business/Data Analyst',\n",
       "       'Analyst', 'Data Modeller', 'DATA SCIENTIST ',\n",
       "       'Senior Data Scientist', 'JAPANESE', 'Data Scientist ',\n",
       "       'Principal Data Scientist', 'Director, Analytics',\n",
       "       'Business Analyst', 'Management Consultant ', 'Commercial Manager',\n",
       "       'Business Development Manager ', 'Senior BI Analyst',\n",
       "       'BI Reporting Analyst', 'Business Intelligence Analyst',\n",
       "       'Senior Project Manager', 'Project Manager | Health',\n",
       "       'Head of Financial Planning and Analysis',\n",
       "       'Senior TM1 Consultant / Developer ', 'BI Analyst',\n",
       "       'BI, Data and Analytics Manager'], dtype=object)"
      ]
     },
     "execution_count": 59,
     "metadata": {},
     "output_type": "execute_result"
    }
   ],
   "source": [
    "high.Title.unique()"
   ]
  },
  {
   "cell_type": "markdown",
   "metadata": {},
   "source": [
    "Jobs in the upper quartile range predominatly have the titles:\n",
    "-Data Analyst\n",
    "-Senior\n",
    "-Principal\n",
    "-Data Scientist\n",
    "-Head of...\n",
    "-Manager\n",
    "\n",
    "The skills that are requsted are predominatly python,r and tableau\n"
   ]
  },
  {
   "cell_type": "code",
   "execution_count": 60,
   "metadata": {
    "collapsed": false
   },
   "outputs": [
    {
     "data": {
      "text/plain": [
       "\"['tableau', 'r', 'sas', 'excel', 'spss']\""
      ]
     },
     "execution_count": 60,
     "metadata": {},
     "output_type": "execute_result"
    }
   ],
   "source": [
    "skills = list(seek_fnl.Skills)\n",
    "#skills = [s.replace('\"[', '') for s in skills]\n",
    "skills[1]"
   ]
  },
  {
   "cell_type": "code",
   "execution_count": 61,
   "metadata": {
    "collapsed": false
   },
   "outputs": [
    {
     "data": {
      "text/plain": [
       "['', ' \"tableau', ' r', ' sas', ' excel']"
      ]
     },
     "execution_count": 61,
     "metadata": {},
     "output_type": "execute_result"
    }
   ],
   "source": [
    "#Notice that the skills is in a list of lists.  Let's try and flatten the list\n",
    "skills_flat = str(skills).translate(None,\"[]'\").split(',')\n",
    "\n",
    "#Credit: Abhijit\n",
    "#http://stackoverflow.com/questions/17864466/flatten-a-list-of-strings-and-lists-of-strings-and-lists-in-python\n",
    "skills_flat[0:5]"
   ]
  },
  {
   "cell_type": "code",
   "execution_count": 62,
   "metadata": {
    "collapsed": false
   },
   "outputs": [
    {
     "data": {
      "text/plain": [
       "['[]',\n",
       " \"['tableau', 'r', 'sas', 'excel', 'spss']\",\n",
       " \"['tableau', 'r', 'sas', 'excel', 'spss']\",\n",
       " \"['tableau', 'r', 'sas', 'excel', 'spss']\",\n",
       " \"['excel']\",\n",
       " \"['excel']\",\n",
       " \"['mining', 'tableau']\",\n",
       " '[]',\n",
       " \"['excel', 'spss']\",\n",
       " \"['tableau', 'excel', 'sql']\",\n",
       " \"['excel']\",\n",
       " \"['sas', 'sql']\",\n",
       " \"['excel']\",\n",
       " \"['excel']\",\n",
       " '[]',\n",
       " \"['excel', 'spss']\",\n",
       " '[]',\n",
       " \"['python', 'r', 'spark', 'bachelor', 'java', 'sas', 'hadoop', 'scala', 'sql']\",\n",
       " '[]',\n",
       " \"['excel']\",\n",
       " \"['tableau']\",\n",
       " '[]',\n",
       " '[]',\n",
       " \"['python', 'mining', 'r', 'java', 'excel', 'sql']\",\n",
       " \"['excel']\",\n",
       " \"['r', 'sas', 'mysql', 'sql']\",\n",
       " '[]',\n",
       " \"['excel']\",\n",
       " '[]',\n",
       " \"['tableau']\",\n",
       " '[]',\n",
       " '[]',\n",
       " \"['tableau', 'python', 'r', 'sql']\",\n",
       " \"['excel']\",\n",
       " \"['excel']\",\n",
       " \"['excel']\",\n",
       " \"['sas', 'sql']\",\n",
       " \"['excel']\",\n",
       " \"['spss']\",\n",
       " \"['excel', 'sql']\",\n",
       " \"['sql']\",\n",
       " \"['sas', 'sql']\",\n",
       " \"['excel']\",\n",
       " \"['tableau', 'sql']\",\n",
       " '[]',\n",
       " \"['sas', 'sql']\",\n",
       " \"['mining', 'r']\",\n",
       " '[]',\n",
       " \"['mining', 'tableau', 'sql']\",\n",
       " \"['r', 'excel']\",\n",
       " \"['excel', 'sql']\",\n",
       " \"['python']\",\n",
       " \"['mining', 'sql']\",\n",
       " \"['python', 'r', 'spark', 'java', 'scala', 'sql']\",\n",
       " \"['python', 'masters', 'r', 'phd', 'sql']\",\n",
       " \"['excel', 'sql']\",\n",
       " \"['python']\",\n",
       " \"['mining', 'sql']\",\n",
       " \"['python', 'r', 'spark', 'java', 'scala', 'sql']\",\n",
       " \"['python', 'masters', 'r', 'phd', 'sql']\",\n",
       " \"['python', 'r', 'sql']\",\n",
       " \"['python', 'c++', 'java', 'r']\",\n",
       " \"['python', 'r', 'spark', 'bachelor', 'java', 'sas', 'hadoop', 'scala', 'sql']\",\n",
       " \"['python', 'r']\",\n",
       " \"['matlab', 'python', 'r', 'sas', 'bachelor', 'spss']\",\n",
       " '[]',\n",
       " \"['python', 'mining', 'r', 'sas']\",\n",
       " \"['mining', 'r', 'sql']\",\n",
       " '[]',\n",
       " \"['sas', 'python', 'r', 'spark', 'hadoop', 'mysql', 'scala', 'sql']\",\n",
       " \"['sas', 'python', 'r', 'mysql', 'sql']\",\n",
       " \"['python', 'r', 'sql']\",\n",
       " \"['sas', 'python', 'r', 'spark', 'hadoop', 'mysql', 'scala', 'sql']\",\n",
       " \"['mysql', 'python', 'r']\",\n",
       " \"['python']\",\n",
       " '[]',\n",
       " '[]',\n",
       " \"['sas', 'python', 'r', 'mysql', 'sql']\",\n",
       " \"['python', 'mining', 'r', 'sas']\",\n",
       " \"['python', 'mining', 'r']\",\n",
       " \"['mining', 'sql']\",\n",
       " '[]',\n",
       " \"['python', 'mining', 'r', 'sas']\",\n",
       " \"['python']\",\n",
       " \"['mining', 'sas', 'sql']\",\n",
       " \"['excel', 'sql']\",\n",
       " \"['python']\",\n",
       " \"['tableau', 'sas', 'sql']\",\n",
       " \"['hive']\",\n",
       " \"['hive']\",\n",
       " \"['excel']\",\n",
       " \"['mining']\",\n",
       " '[]',\n",
       " '[]',\n",
       " '[]',\n",
       " \"['excel']\",\n",
       " '[]',\n",
       " '[]',\n",
       " '[]',\n",
       " '[]',\n",
       " '[]',\n",
       " \"['tableau', 'sql']\",\n",
       " \"['tableau', 'excel']\",\n",
       " \"['excel']\",\n",
       " \"['sql']\",\n",
       " '[]',\n",
       " '[]',\n",
       " '[]',\n",
       " '[]',\n",
       " '[]',\n",
       " \"['tableau', 'excel']\",\n",
       " \"['mining']\",\n",
       " '[]',\n",
       " \"['r', 'excel', 'sql']\",\n",
       " \"['excel']\",\n",
       " \"['tableau']\",\n",
       " '[]',\n",
       " '[]',\n",
       " \"['bachelor']\",\n",
       " \"['sql']\",\n",
       " '[]',\n",
       " '[]',\n",
       " '[]',\n",
       " '[]',\n",
       " '[]',\n",
       " '[]',\n",
       " \"['r', 'excel', 'sql']\",\n",
       " '[]',\n",
       " \"['excel']\",\n",
       " '[]',\n",
       " '[]',\n",
       " '[]',\n",
       " \"['excel', 'sql']\",\n",
       " \"['sql']\",\n",
       " \"['sql']\",\n",
       " \"['java', 'ruby', 'scala', 'sql']\",\n",
       " \"['tableau', 'python', 'r', 'sas', 'sql']\"]"
      ]
     },
     "execution_count": 62,
     "metadata": {},
     "output_type": "execute_result"
    }
   ],
   "source": [
    "#Need to tidy this list up by removing quotations and spaces before counting\n",
    "skills_flat = [s.replace(\" \", '') for s in skills_flat]\n",
    "skills_flat = [s.replace(\"[\", '') for s in skills_flat]\n",
    "skills_flat = [s.replace(\"]\", '') for s in skills_flat]\n",
    "skills_flat = [s.replace('\"', '') for s in skills_flat]\n",
    "skills_flat = [s.replace(\"'\", '') for s in skills_flat]\n",
    "skills"
   ]
  },
  {
   "cell_type": "code",
   "execution_count": 63,
   "metadata": {
    "collapsed": true
   },
   "outputs": [],
   "source": [
    "#Using the keywords let's count the number of times each skill is mentioned.\n",
    "\n",
    "#Defined keywords which were used when we web scraped"
   ]
  },
  {
   "cell_type": "code",
   "execution_count": 64,
   "metadata": {
    "collapsed": false
   },
   "outputs": [],
   "source": [
    "#I get these keywords from the first page search result of data scientist at indeed; they're not whole but already tell a story.\n",
    "program_languages=['bash','python','r','java','c++','ruby','perl','matlab','javascript','scala','php']\n",
    "analysis_software=['excel','tableau','d3.js','sas','spss','d3','saas','pandas','numpy','scipy','sps','spotfire','scikits.learn','splunk','powerpoint','h2o']\n",
    "bigdata_tool=['hadoop','mapreduce','spark','pig','hive','shark','oozie','zookeeper','flume','mahout']\n",
    "databases=['sql','nosql','hbase','cassandra','mongodb','mysql','mssql','postgresql','oracle db','rdbms']\n",
    "education = ['bachelors','bachelor','masters','phd', 'bsc','msc']\n",
    "skillz = ['machine learning', 'svm', 'source vector modeling', 'random forest', 'neural network', 'decision trees','mining', 'mining', 'web scraping']\n",
    "\n",
    "overall_dict = program_languages + analysis_software + bigdata_tool + databases + education + skillz\n",
    "#overall_dict[0:5]"
   ]
  },
  {
   "cell_type": "code",
   "execution_count": 65,
   "metadata": {
    "collapsed": false
   },
   "outputs": [
    {
     "data": {
      "text/plain": [
       "Counter({'': 44,\n",
       "         'bachelor': 4,\n",
       "         'c++': 1,\n",
       "         'excel': 35,\n",
       "         'hadoop': 4,\n",
       "         'hive': 2,\n",
       "         'java': 7,\n",
       "         'masters': 2,\n",
       "         'matlab': 1,\n",
       "         'mining': 15,\n",
       "         'mysql': 6,\n",
       "         'phd': 2,\n",
       "         'python': 28,\n",
       "         'r': 32,\n",
       "         'ruby': 1,\n",
       "         'sas': 21,\n",
       "         'scala': 7,\n",
       "         'spark': 6,\n",
       "         'spss': 7,\n",
       "         'sql': 43,\n",
       "         'tableau': 16})"
      ]
     },
     "execution_count": 65,
     "metadata": {},
     "output_type": "execute_result"
    }
   ],
   "source": [
    "#Count frequency of words in skills\n",
    "from collections import Counter\n",
    "\n",
    "sdict = Counter(skills_flat)\n",
    "sdict\n",
    "#Above conversion credit: Ashif Abdulrahman\n",
    "#http://stackoverflow.com/questions/20510768/python-count-frequency-of-words-in-a-list\n"
   ]
  },
  {
   "cell_type": "code",
   "execution_count": 66,
   "metadata": {
    "collapsed": false
   },
   "outputs": [],
   "source": [
    "Result = pd.DataFrame()\n",
    "Result['Skill'] = sdict.keys()\n",
    "Result['Count'] = sdict.values()\n",
    "Result['Ranking'] = Result['Count']/float(len(overall_dict))\n",
    "Result = Result[Result.Skill!='']\n",
    "Result = Result.sort_values(['Count'], ascending=[False])\n",
    "#df.sort_values(['one'], ascending=[False])"
   ]
  },
  {
   "cell_type": "markdown",
   "metadata": {},
   "source": [
    "The above tabe displays the most frequent skills listed"
   ]
  },
  {
   "cell_type": "code",
   "execution_count": 67,
   "metadata": {
    "collapsed": false
   },
   "outputs": [
    {
     "data": {
      "image/png": "[encoded data removed]",
      "text/plain": [
       "<matplotlib.figure.Figure at 0x118b4e610>"
      ]
     },
     "metadata": {},
     "output_type": "display_data"
    },
    {
     "data": {
      "image/png": "[encoded data removed]",
      "text/plain": [
       "<matplotlib.figure.Figure at 0x118d71150>"
      ]
     },
     "metadata": {},
     "output_type": "display_data"
    }
   ],
   "source": [
    "sns.set_style(\"whitegrid\")\n",
    "#tips = sns.load_dataset(\"tips\")\n",
    "ax = sns.barplot(x=Result.Skill, y=Result.Count, data=Result)\n",
    "\n",
    "#Credit Pierdom\n",
    "#https://gist.github.com/pierdom/8f265d81031770226938de6cb41812d9\n",
    "plt.figure(figsize=(14, 6))\n",
    "for item in ax.get_xticklabels():\n",
    "    item.set_rotation(60)\n",
    "plt.title('Frequency of Skills')\n",
    "plt.show()\n"
   ]
  },
  {
   "cell_type": "code",
   "execution_count": 68,
   "metadata": {
    "collapsed": false
   },
   "outputs": [
    {
     "data": {
      "text/html": [
       "<div>\n",
       "<table border=\"1\" class=\"dataframe\">\n",
       "  <thead>\n",
       "    <tr style=\"text-align: right;\">\n",
       "      <th></th>\n",
       "      <th>Skill</th>\n",
       "      <th>Count</th>\n",
       "      <th>Ranking</th>\n",
       "    </tr>\n",
       "  </thead>\n",
       "  <tbody>\n",
       "    <tr>\n",
       "      <th>14</th>\n",
       "      <td>sql</td>\n",
       "      <td>43</td>\n",
       "      <td>0.693548</td>\n",
       "    </tr>\n",
       "    <tr>\n",
       "      <th>6</th>\n",
       "      <td>excel</td>\n",
       "      <td>35</td>\n",
       "      <td>0.564516</td>\n",
       "    </tr>\n",
       "    <tr>\n",
       "      <th>12</th>\n",
       "      <td>r</td>\n",
       "      <td>32</td>\n",
       "      <td>0.516129</td>\n",
       "    </tr>\n",
       "    <tr>\n",
       "      <th>4</th>\n",
       "      <td>python</td>\n",
       "      <td>28</td>\n",
       "      <td>0.451613</td>\n",
       "    </tr>\n",
       "    <tr>\n",
       "      <th>15</th>\n",
       "      <td>sas</td>\n",
       "      <td>21</td>\n",
       "      <td>0.338710</td>\n",
       "    </tr>\n",
       "  </tbody>\n",
       "</table>\n",
       "</div>"
      ],
      "text/plain": [
       "     Skill  Count   Ranking\n",
       "14     sql     43  0.693548\n",
       "6    excel     35  0.564516\n",
       "12       r     32  0.516129\n",
       "4   python     28  0.451613\n",
       "15     sas     21  0.338710"
      ]
     },
     "execution_count": 68,
     "metadata": {},
     "output_type": "execute_result"
    }
   ],
   "source": [
    "Result.head(5)\n",
    "\n",
    "#Top five skills people want\n"
   ]
  },
  {
   "cell_type": "code",
   "execution_count": 69,
   "metadata": {
    "collapsed": false
   },
   "outputs": [],
   "source": [
    "#if i had more time I would link the skills with salary"
   ]
  },
  {
   "cell_type": "code",
   "execution_count": 70,
   "metadata": {
    "collapsed": false
   },
   "outputs": [],
   "source": [
    "\n",
    "#users.query('age < 20'"
   ]
  },
  {
   "cell_type": "code",
   "execution_count": 71,
   "metadata": {
    "collapsed": false
   },
   "outputs": [
    {
     "data": {
      "text/plain": [
       "['Industry', 'Salary', 'Skills', 'Title', 'Type', 'City']"
      ]
     },
     "execution_count": 71,
     "metadata": {},
     "output_type": "execute_result"
    }
   ],
   "source": [
    "list(seek_fnl)"
   ]
  },
  {
   "cell_type": "code",
   "execution_count": 72,
   "metadata": {
    "collapsed": false
   },
   "outputs": [],
   "source": [
    "#Lets do a logisitic regression to predict salaries based on information in dataframe\n",
    "\n",
    "#If I had more time I would try and do something more complex but in this case I just want to\n",
    "#demonstrate my workflow."
   ]
  },
  {
   "cell_type": "code",
   "execution_count": 73,
   "metadata": {
    "collapsed": false
   },
   "outputs": [],
   "source": [
    "#Define predictor variables\n",
    "X = seek_fnl.drop(['Industry','Skills','Title','Salary'], axis=1)\n",
    "#X.head()"
   ]
  },
  {
   "cell_type": "code",
   "execution_count": 74,
   "metadata": {
    "collapsed": false
   },
   "outputs": [
    {
     "data": {
      "text/html": [
       "<div>\n",
       "<table border=\"1\" class=\"dataframe\">\n",
       "  <thead>\n",
       "    <tr style=\"text-align: right;\">\n",
       "      <th></th>\n",
       "      <th>Type_Contract</th>\n",
       "      <th>Type_Full Time</th>\n",
       "      <th>Type_Part Time</th>\n",
       "      <th>City_ACT</th>\n",
       "      <th>City_Brisbane</th>\n",
       "      <th>City_Cairns</th>\n",
       "      <th>City_Melbourne</th>\n",
       "      <th>City_Perth</th>\n",
       "      <th>City_Sydney</th>\n",
       "    </tr>\n",
       "  </thead>\n",
       "  <tbody>\n",
       "    <tr>\n",
       "      <th>1</th>\n",
       "      <td>1</td>\n",
       "      <td>0</td>\n",
       "      <td>0</td>\n",
       "      <td>0</td>\n",
       "      <td>1</td>\n",
       "      <td>0</td>\n",
       "      <td>0</td>\n",
       "      <td>0</td>\n",
       "      <td>0</td>\n",
       "    </tr>\n",
       "    <tr>\n",
       "      <th>4</th>\n",
       "      <td>1</td>\n",
       "      <td>0</td>\n",
       "      <td>0</td>\n",
       "      <td>0</td>\n",
       "      <td>0</td>\n",
       "      <td>0</td>\n",
       "      <td>0</td>\n",
       "      <td>0</td>\n",
       "      <td>1</td>\n",
       "    </tr>\n",
       "    <tr>\n",
       "      <th>5</th>\n",
       "      <td>1</td>\n",
       "      <td>0</td>\n",
       "      <td>0</td>\n",
       "      <td>0</td>\n",
       "      <td>0</td>\n",
       "      <td>0</td>\n",
       "      <td>0</td>\n",
       "      <td>0</td>\n",
       "      <td>1</td>\n",
       "    </tr>\n",
       "    <tr>\n",
       "      <th>6</th>\n",
       "      <td>1</td>\n",
       "      <td>0</td>\n",
       "      <td>0</td>\n",
       "      <td>0</td>\n",
       "      <td>0</td>\n",
       "      <td>0</td>\n",
       "      <td>0</td>\n",
       "      <td>0</td>\n",
       "      <td>1</td>\n",
       "    </tr>\n",
       "    <tr>\n",
       "      <th>12</th>\n",
       "      <td>1</td>\n",
       "      <td>0</td>\n",
       "      <td>0</td>\n",
       "      <td>0</td>\n",
       "      <td>0</td>\n",
       "      <td>0</td>\n",
       "      <td>0</td>\n",
       "      <td>0</td>\n",
       "      <td>1</td>\n",
       "    </tr>\n",
       "  </tbody>\n",
       "</table>\n",
       "</div>"
      ],
      "text/plain": [
       "    Type_Contract  Type_Full Time  Type_Part Time  City_ACT  City_Brisbane  \\\n",
       "1               1               0               0         0              1   \n",
       "4               1               0               0         0              0   \n",
       "5               1               0               0         0              0   \n",
       "6               1               0               0         0              0   \n",
       "12              1               0               0         0              0   \n",
       "\n",
       "    City_Cairns  City_Melbourne  City_Perth  City_Sydney  \n",
       "1             0               0           0            0  \n",
       "4             0               0           0            1  \n",
       "5             0               0           0            1  \n",
       "6             0               0           0            1  \n",
       "12            0               0           0            1  "
      ]
     },
     "execution_count": 74,
     "metadata": {},
     "output_type": "execute_result"
    }
   ],
   "source": [
    "#Convert 'Type' and 'City' to dummies\n",
    "X = pd.get_dummies(X)\n",
    "X.head()"
   ]
  },
  {
   "cell_type": "code",
   "execution_count": 75,
   "metadata": {
    "collapsed": false
   },
   "outputs": [],
   "source": [
    "#Let's split salaries into 2 categories: high and low based on the mean salary: $128,267.\n",
    "y=[]\n",
    "for salary in seek_fnl.Salary:\n",
    "    if salary <= 128267:\n",
    "        y.append(0)\n",
    "    else:\n",
    "        y.append(1)\n",
    "#*********************\n",
    "#If we get fancy and split salary into 3 categories:\n",
    "    #low <$95,000, \n",
    "    #95,000 < medium < 158,000 \n",
    "    #high > 158000.  \n",
    "\n",
    "    #Low and high determined from percentiles\n",
    "# for salary in seek_fnl.Salary:\n",
    "#     if salary <= 95000:\n",
    "#         y.append(0)\n",
    "#     elif salary <= 158000:\n",
    "#         y.append(1)\n",
    "#     else:\n",
    "#         y.append(2)"
   ]
  },
  {
   "cell_type": "code",
   "execution_count": null,
   "metadata": {
    "collapsed": false
   },
   "outputs": [],
   "source": []
  },
  {
   "cell_type": "code",
   "execution_count": 76,
   "metadata": {
    "collapsed": false
   },
   "outputs": [],
   "source": [
    "#Standardize variables\n",
    "from sklearn.preprocessing import StandardScaler\n",
    "\n",
    "ss = StandardScaler()\n",
    "Xs = ss.fit_transform(X)"
   ]
  },
  {
   "cell_type": "code",
   "execution_count": 77,
   "metadata": {
    "collapsed": false
   },
   "outputs": [],
   "source": [
    "#Lets set up our training and testing"
   ]
  },
  {
   "cell_type": "code",
   "execution_count": 78,
   "metadata": {
    "collapsed": false
   },
   "outputs": [
    {
     "name": "stderr",
     "output_type": "stream",
     "text": [
      "/Users/gopetro/anaconda2/lib/python2.7/site-packages/sklearn/cross_validation.py:44: DeprecationWarning: This module was deprecated in version 0.18 in favor of the model_selection module into which all the refactored classes and functions are moved. Also note that the interface of the new CV iterators are different from that of this module. This module will be removed in 0.20.\n",
      "  \"This module will be removed in 0.20.\", DeprecationWarning)\n"
     ]
    },
    {
     "name": "stdout",
     "output_type": "stream",
     "text": [
      "mean accuracy: 0.722866344605, all: [ 0.76086957  0.65217391  0.75555556]\n",
      "mean precision: 0.668209876543, all: [ 0.62962963  0.625       0.75      ]\n",
      "mean recall: 0.583877995643, all: [ 0.94444444  0.27777778  0.52941176]\n",
      "mean roc_auc: 0.718876439465, all: [ 0.83928571  0.64087302  0.67647059]\n"
     ]
    }
   ],
   "source": [
    "#Credit James Wedell\n",
    "#https://wedelljd.github.io/wedelljd.github.io/Predicting-Data-Scientist-Salaries-Using-Web-Scraping/\n",
    "\n",
    "#from sklearn.metrics import accuracy_score\n",
    "from sklearn.cross_validation import cross_val_score\n",
    "#from sklearn.linear_model import LogisticRegressionCV\n",
    "from sklearn.preprocessing import StandardScaler\n",
    "from sklearn.metrics import classification_report, confusion_matrix, accuracy_score\n",
    "from sklearn.model_selection import train_test_split\n",
    "from sklearn.linear_model import LogisticRegression, LogisticRegressionCV, Ridge, Lasso, ElasticNet, RidgeCV, LassoCV, ElasticNetCV\n",
    "#from sklearn.grid_search import GridSearchCV\n",
    "#from sklearn.linear_model import Ridge, Lasso, ElasticNet, LinearRegression, RidgeCV, LassoCV, ElasticNetCV\n",
    "\n",
    "\n",
    "model = LogisticRegressionCV(cv=3)\n",
    "model.fit(Xs, y) # This trains the model using 3 cross validated sets from the data\n",
    "\n",
    "for metric in ['accuracy', 'precision', 'recall', 'roc_auc']:\n",
    "    scores = cross_val_score(model, Xs, y, scoring=metric)\n",
    "    print(\"mean {}: {}, all: {}\".format(metric, scores.mean(), scores))"
   ]
  },
  {
   "cell_type": "markdown",
   "metadata": {},
   "source": [
    "Let's see how this compares to a baseline guess"
   ]
  },
  {
   "cell_type": "code",
   "execution_count": 79,
   "metadata": {
    "collapsed": false
   },
   "outputs": [
    {
     "name": "stdout",
     "output_type": "stream",
     "text": [
      "\n",
      "Random Guess: 51.82%\n",
      "Over 128K: 38.69%\n",
      "Under 128K: 61.31%\n"
     ]
    }
   ],
   "source": [
    "random_guess = []\n",
    "over_128K = []\n",
    "under_128K = []\n",
    "#y is the prediction target set\n",
    "for i in y:\n",
    "    random_guess.append(random.randint(0,1))\n",
    "    over_128K.append(1)\n",
    "    under_128K.append(0)\n",
    "print\n",
    "print(\"Random Guess: {0:.2%}\".format(accuracy_score(y, random_guess)))\n",
    "print(\"Over 128K: {0:.2%}\".format(accuracy_score(y, over_128K)))\n",
    "print(\"Under 128K: {0:.2%}\".format(accuracy_score(y, under_128K)))\n",
    "#{percent:.2%}'.format(percent=1.0/3.0)"
   ]
  },
  {
   "cell_type": "markdown",
   "metadata": {},
   "source": [
    "So it looks like the model prediction (72.3%) is an improvement over a random guess."
   ]
  },
  {
   "cell_type": "code",
   "execution_count": 80,
   "metadata": {
    "collapsed": true
   },
   "outputs": [],
   "source": [
    "#If I had more time I would try and perform this using cross validation.  \n",
    "#I made an attempt but couldn't get my code to work properly\n",
    "\n"
   ]
  },
  {
   "cell_type": "code",
   "execution_count": 81,
   "metadata": {
    "collapsed": false
   },
   "outputs": [
    {
     "name": "stdout",
     "output_type": "stream",
     "text": [
      "Using Decision Tree\n",
      "mean accuracy: 0.74460547504, all: [ 0.7826087   0.69565217  0.75555556]\n",
      "mean precision: 0.686324786325, all: [ 0.7         0.66666667  0.69230769]\n",
      "mean recall: 0.528322440087, all: [ 0.77777778  0.27777778  0.52941176]\n",
      "mean roc_auc: 0.638246965453, all: [ 0.74305556  0.47420635  0.69747899]\n",
      "Using Random Forest\n",
      "mean accuracy: 0.74460547504, all: [ 0.7826087   0.69565217  0.75555556]\n",
      "mean precision: 0.733333333333, all: [ 0.7   0.75  0.75]\n",
      "mean recall: 0.546840958606, all: [ 0.77777778  0.33333333  0.52941176]\n",
      "mean roc_auc: 0.691409897292, all: [ 0.77777778  0.6031746   0.69327731]\n"
     ]
    }
   ],
   "source": [
    "#Let's try and see if we get better results using random forest\n",
    "from sklearn.tree import DecisionTreeClassifier\n",
    "from sklearn.ensemble import RandomForestClassifier\n",
    "\n",
    "#Using Decision Tree\n",
    "dtc = DecisionTreeClassifier(max_depth=None, max_features='auto')\n",
    "dtc.fit(Xs, y)\n",
    "\n",
    "#Using Random Forest\n",
    "rf = RandomForestClassifier(n_estimators=1000, max_depth=None, max_features='auto')\n",
    "rf.fit(Xs, y)\n",
    "yhat = rf.predict(Xs)\n",
    "\n",
    "print 'Using Decision Tree'\n",
    "for metric in ['accuracy', 'precision', 'recall', 'roc_auc']:\n",
    "    scores = cross_val_score(dtc, Xs, y, scoring=metric)\n",
    "    print(\"mean {}: {}, all: {}\".format(metric, scores.mean(), scores))\n",
    "\n",
    "print 'Using Random Forest'\n",
    "for metric in ['accuracy', 'precision', 'recall', 'roc_auc']:\n",
    "    scores = cross_val_score(rf, Xs, y, scoring=metric)\n",
    "    print(\"mean {}: {}, all: {}\".format(metric, scores.mean(), scores))\n",
    "    "
   ]
  },
  {
   "cell_type": "markdown",
   "metadata": {},
   "source": []
  },
  {
   "cell_type": "markdown",
   "metadata": {},
   "source": [
    "## Bonus section"
   ]
  },
  {
   "cell_type": "code",
   "execution_count": 114,
   "metadata": {
    "collapsed": false
   },
   "outputs": [
    {
     "name": "stdout",
     "output_type": "stream",
     "text": [
      "[[68 16]\n",
      " [21 32]]\n"
     ]
    }
   ],
   "source": [
    "#Let's look at the confusion matrix\n",
    "import numpy as np\n",
    "\n",
    "#Predictions and probabilities\n",
    "y_pred = model.predict(Xs)\n",
    "y_pred_pp = model.predict_proba(Xs)\n",
    "confusion = np.array(confusion_matrix(y, y_pred))\n",
    "\n",
    "print(confusion)"
   ]
  },
  {
   "cell_type": "code",
   "execution_count": 115,
   "metadata": {
    "collapsed": true
   },
   "outputs": [],
   "source": [
    "# calculate true positives, the number of 1s correctly predicted to be 1\n",
    "TP = confusion[0,0]\n",
    "\n",
    "# calculate false positives, the number of 0s incorrectly predicted to be 1\n",
    "FP  = confusion[1,0]\n",
    "\n",
    "# calculate true negatives, the number of 0s correctly predicted to be 0\n",
    "TN = confusion[1,1]\n",
    "\n",
    "# calculate false negatives, the number of 1s incorrectly predicted to be 0\n",
    "FN = confusion[0,1]"
   ]
  },
  {
   "cell_type": "code",
   "execution_count": 116,
   "metadata": {
    "collapsed": false
   },
   "outputs": [
    {
     "data": {
      "text/html": [
       "<div>\n",
       "<table border=\"1\" class=\"dataframe\">\n",
       "  <thead>\n",
       "    <tr style=\"text-align: right;\">\n",
       "      <th></th>\n",
       "      <th>predicted_below_$128k</th>\n",
       "      <th>predicted_above_$128k</th>\n",
       "    </tr>\n",
       "  </thead>\n",
       "  <tbody>\n",
       "    <tr>\n",
       "      <th>Below 128k</th>\n",
       "      <td>32</td>\n",
       "      <td>21</td>\n",
       "    </tr>\n",
       "    <tr>\n",
       "      <th>Above $128k</th>\n",
       "      <td>16</td>\n",
       "      <td>68</td>\n",
       "    </tr>\n",
       "  </tbody>\n",
       "</table>\n",
       "</div>"
      ],
      "text/plain": [
       "             predicted_below_$128k  predicted_above_$128k\n",
       "Below 128k                      32                     21\n",
       "Above $128k                     16                     68"
      ]
     },
     "execution_count": 116,
     "metadata": {},
     "output_type": "execute_result"
    }
   ],
   "source": [
    "conmat = np.array(confusion_matrix(y, y_pred, labels=[1,0]))\n",
    "\n",
    "confusion = pd.DataFrame(conmat, index=['Below 128k', 'Above $128k'],\n",
    "                         columns=['predicted_below_$128k','predicted_above_$128k'])\n",
    "confusion"
   ]
  },
  {
   "cell_type": "code",
   "execution_count": 117,
   "metadata": {
    "collapsed": false
   },
   "outputs": [
    {
     "name": "stdout",
     "output_type": "stream",
     "text": [
      "             precision    recall  f1-score   support\n",
      "\n",
      "          0       0.76      0.81      0.79        84\n",
      "          1       0.67      0.60      0.63        53\n",
      "\n",
      "avg / total       0.73      0.73      0.73       137\n",
      "\n"
     ]
    }
   ],
   "source": [
    "# Classification Report\n",
    "\n",
    "#Printout:\n",
    "print(classification_report(y, y_pred))"
   ]
  },
  {
   "cell_type": "code",
   "execution_count": 118,
   "metadata": {
    "collapsed": false
   },
   "outputs": [
    {
     "data": {
      "text/html": [
       "<div>\n",
       "<table border=\"1\" class=\"dataframe\">\n",
       "  <thead>\n",
       "    <tr style=\"text-align: right;\">\n",
       "      <th></th>\n",
       "      <th>Below_128k</th>\n",
       "      <th>Above_128k</th>\n",
       "    </tr>\n",
       "  </thead>\n",
       "  <tbody>\n",
       "    <tr>\n",
       "      <th>0</th>\n",
       "      <td>0.247180</td>\n",
       "      <td>0.752820</td>\n",
       "    </tr>\n",
       "    <tr>\n",
       "      <th>1</th>\n",
       "      <td>0.424648</td>\n",
       "      <td>0.575352</td>\n",
       "    </tr>\n",
       "    <tr>\n",
       "      <th>2</th>\n",
       "      <td>0.424648</td>\n",
       "      <td>0.575352</td>\n",
       "    </tr>\n",
       "    <tr>\n",
       "      <th>3</th>\n",
       "      <td>0.424648</td>\n",
       "      <td>0.575352</td>\n",
       "    </tr>\n",
       "    <tr>\n",
       "      <th>4</th>\n",
       "      <td>0.424648</td>\n",
       "      <td>0.575352</td>\n",
       "    </tr>\n",
       "  </tbody>\n",
       "</table>\n",
       "</div>"
      ],
      "text/plain": [
       "   Below_128k  Above_128k\n",
       "0    0.247180    0.752820\n",
       "1    0.424648    0.575352\n",
       "2    0.424648    0.575352\n",
       "3    0.424648    0.575352\n",
       "4    0.424648    0.575352"
      ]
     },
     "execution_count": 118,
     "metadata": {},
     "output_type": "execute_result"
    }
   ],
   "source": [
    "pp = pd.DataFrame(y_pred_pp, columns=['Below_128k','Above_128k'])\n",
    "pp.head()"
   ]
  },
  {
   "cell_type": "code",
   "execution_count": 119,
   "metadata": {
    "collapsed": false
   },
   "outputs": [
    {
     "data": {
      "image/png": "[encoded data removed]",
      "text/plain": [
       "<matplotlib.figure.Figure at 0x118b0f1d0>"
      ]
     },
     "metadata": {},
     "output_type": "display_data"
    }
   ],
   "source": [
    "from sklearn.metrics import roc_curve, auc\n",
    "\n",
    "fpr, tpr, _ = roc_curve(y, y_pred_pp[:,1])\n",
    "roc_auc = auc(fpr, tpr)\n",
    "\n",
    "plt.figure(figsize=[8,8])\n",
    "plt.plot(fpr, tpr, label='ROC curve (area = %0.2f)' % roc_auc, linewidth=4)\n",
    "plt.plot([0, 1], [0, 1], 'k--', linewidth=4)\n",
    "plt.xlim([-0.05, 1.0])\n",
    "plt.ylim([-0.05, 1.05])\n",
    "plt.xlabel('False Positive Rate', fontsize=18)\n",
    "plt.ylabel('True Positive Rate', fontsize=18)\n",
    "plt.title('Receiver operating characteristic: Above $128k', fontsize=18)\n",
    "plt.legend(loc=\"lower right\")\n",
    "plt.show()"
   ]
  },
  {
   "cell_type": "markdown",
   "metadata": {},
   "source": [
    "## Interpretation of Results\n",
    "\n",
    "Model Comparison of accuracy\n",
    "Baseline: 62.7%\n",
    "Logisitic Reg: 72.3%\n",
    "Decision Tree: 72.3%\n",
    "Random Forest: 74.5%\n",
    "\n",
    "Model Comparison of Precision\n",
    "Baseline: 62.7%\n",
    "Logisitic Reg: 66.8%\n",
    "Decision Tree: 73.3%\n",
    "Random Forest: 73.3%\n",
    "\n",
    "Model Comparison of Recall\n",
    "Baseline: 62.7%\n",
    "Logisitic Reg: 58.4%\n",
    "Decision Tree: 52.8%\n",
    "Random Forest: 54.7%\n",
    "\n",
    "Model Comparison of ROC/AUC\n",
    "Baseline: 62.7%\n",
    "Logisitic Reg: 71.9%\n",
    "Decision Tree: 67.4%\n",
    "Random Forest: 71.3%\n",
    "\n",
    "In terms of accuracy and precision all the models were a large improvement on the baseline.\n",
    "\n",
    "I used job type and city to predict salaries above and below the mean. Random forest method resulted in the best accuracy however the incremental improvement over logicitical regression was just under 2%.  Given the processing time of random forest the best solution might be to use logistical.  Looking at the confusion matrix we can see that we are better at predicting below $128k vs above.\n",
    "\n",
    "In order to improve this model it would be more useful incorporate the skills and job title column.  Both columns require more cleaning.  The job title coulmn has too many categoreis and the skills column requires some splitting.  Once those columns are fixed we could then bin the salary column into more bins like: low, medium and high.\n"
   ]
  },
  {
   "cell_type": "markdown",
   "metadata": {},
   "source": [
    "## Bonus section"
   ]
  },
  {
   "cell_type": "code",
   "execution_count": 128,
   "metadata": {
    "collapsed": false
   },
   "outputs": [
    {
     "name": "stdout",
     "output_type": "stream",
     "text": [
      "Threshold: 0.1 false positives: 89\n",
      "Threshold: 0.2 false positives: 87\n",
      "Threshold: 0.3 false positives: 2\n",
      "Threshold: 0.4 false positives: 2\n",
      "Threshold: 0.5 false positives: 0\n",
      "Threshold: 0.6 false positives: 0\n",
      "Threshold: 0.7 false positives: 0\n",
      "Threshold: 0.8 false positives: 0\n",
      "Threshold: 0.9 false positives: 0\n"
     ]
    }
   ],
   "source": [
    "#We would rather tell client that they would get a lower salary than expected.\n",
    "# So we need to lower the threshold\n",
    "\n",
    "\n",
    "for thresh in np.arange(1,10)/10.:\n",
    "    labeled_Above_128k = np.array([1 if x >= thresh else 0 for x in pp.Above_128k.values])\n",
    "    print 'Threshold:', thresh, 'false positives:', np.sum((y_pred == 0) & (labeled_Above_128k == 1))\n",
    "#print pp.Above_128k\n",
    "#labeled_Above_128k"
   ]
  },
  {
   "cell_type": "code",
   "execution_count": 121,
   "metadata": {
    "collapsed": true
   },
   "outputs": [],
   "source": [
    "#Looks like the minimum threshold is between 0.20 - 0.30"
   ]
  },
  {
   "cell_type": "code",
   "execution_count": 146,
   "metadata": {
    "collapsed": false
   },
   "outputs": [
    {
     "data": {
      "text/html": [
       "<div>\n",
       "<table border=\"1\" class=\"dataframe\">\n",
       "  <thead>\n",
       "    <tr style=\"text-align: right;\">\n",
       "      <th></th>\n",
       "      <th>class_0_pp</th>\n",
       "      <th>class_1_pp</th>\n",
       "    </tr>\n",
       "  </thead>\n",
       "  <tbody>\n",
       "    <tr>\n",
       "      <th>0</th>\n",
       "      <td>0.247180</td>\n",
       "      <td>0.752820</td>\n",
       "    </tr>\n",
       "    <tr>\n",
       "      <th>1</th>\n",
       "      <td>0.424648</td>\n",
       "      <td>0.575352</td>\n",
       "    </tr>\n",
       "    <tr>\n",
       "      <th>2</th>\n",
       "      <td>0.424648</td>\n",
       "      <td>0.575352</td>\n",
       "    </tr>\n",
       "    <tr>\n",
       "      <th>3</th>\n",
       "      <td>0.424648</td>\n",
       "      <td>0.575352</td>\n",
       "    </tr>\n",
       "    <tr>\n",
       "      <th>4</th>\n",
       "      <td>0.424648</td>\n",
       "      <td>0.575352</td>\n",
       "    </tr>\n",
       "  </tbody>\n",
       "</table>\n",
       "</div>"
      ],
      "text/plain": [
       "   class_0_pp  class_1_pp\n",
       "0    0.247180    0.752820\n",
       "1    0.424648    0.575352\n",
       "2    0.424648    0.575352\n",
       "3    0.424648    0.575352\n",
       "4    0.424648    0.575352"
      ]
     },
     "execution_count": 146,
     "metadata": {},
     "output_type": "execute_result"
    }
   ],
   "source": [
    "Y_pp = pd.DataFrame(y_pred_pp, columns=['class_0_pp','class_1_pp'])\n",
    "Y_pp.head()"
   ]
  },
  {
   "cell_type": "code",
   "execution_count": 147,
   "metadata": {
    "collapsed": false
   },
   "outputs": [
    {
     "data": {
      "text/html": [
       "<div>\n",
       "<table border=\"1\" class=\"dataframe\">\n",
       "  <thead>\n",
       "    <tr style=\"text-align: right;\">\n",
       "      <th></th>\n",
       "      <th>class_0_pp</th>\n",
       "      <th>class_1_pp</th>\n",
       "      <th>pred_class_thresh10</th>\n",
       "    </tr>\n",
       "  </thead>\n",
       "  <tbody>\n",
       "    <tr>\n",
       "      <th>0</th>\n",
       "      <td>0.247180</td>\n",
       "      <td>0.752820</td>\n",
       "      <td>1</td>\n",
       "    </tr>\n",
       "    <tr>\n",
       "      <th>1</th>\n",
       "      <td>0.424648</td>\n",
       "      <td>0.575352</td>\n",
       "      <td>1</td>\n",
       "    </tr>\n",
       "    <tr>\n",
       "      <th>2</th>\n",
       "      <td>0.424648</td>\n",
       "      <td>0.575352</td>\n",
       "      <td>1</td>\n",
       "    </tr>\n",
       "    <tr>\n",
       "      <th>3</th>\n",
       "      <td>0.424648</td>\n",
       "      <td>0.575352</td>\n",
       "      <td>1</td>\n",
       "    </tr>\n",
       "    <tr>\n",
       "      <th>4</th>\n",
       "      <td>0.424648</td>\n",
       "      <td>0.575352</td>\n",
       "      <td>1</td>\n",
       "    </tr>\n",
       "    <tr>\n",
       "      <th>5</th>\n",
       "      <td>0.247180</td>\n",
       "      <td>0.752820</td>\n",
       "      <td>1</td>\n",
       "    </tr>\n",
       "    <tr>\n",
       "      <th>6</th>\n",
       "      <td>0.487874</td>\n",
       "      <td>0.512126</td>\n",
       "      <td>1</td>\n",
       "    </tr>\n",
       "    <tr>\n",
       "      <th>7</th>\n",
       "      <td>0.247180</td>\n",
       "      <td>0.752820</td>\n",
       "      <td>1</td>\n",
       "    </tr>\n",
       "    <tr>\n",
       "      <th>8</th>\n",
       "      <td>0.762272</td>\n",
       "      <td>0.237728</td>\n",
       "      <td>1</td>\n",
       "    </tr>\n",
       "    <tr>\n",
       "      <th>9</th>\n",
       "      <td>0.424648</td>\n",
       "      <td>0.575352</td>\n",
       "      <td>1</td>\n",
       "    </tr>\n",
       "  </tbody>\n",
       "</table>\n",
       "</div>"
      ],
      "text/plain": [
       "   class_0_pp  class_1_pp  pred_class_thresh10\n",
       "0    0.247180    0.752820                    1\n",
       "1    0.424648    0.575352                    1\n",
       "2    0.424648    0.575352                    1\n",
       "3    0.424648    0.575352                    1\n",
       "4    0.424648    0.575352                    1\n",
       "5    0.247180    0.752820                    1\n",
       "6    0.487874    0.512126                    1\n",
       "7    0.247180    0.752820                    1\n",
       "8    0.762272    0.237728                    1\n",
       "9    0.424648    0.575352                    1"
      ]
     },
     "execution_count": 147,
     "metadata": {},
     "output_type": "execute_result"
    }
   ],
   "source": [
    "Y_pp['pred_class_thresh10'] = [1 if x >= 0.10 else 0 for x in Y_pp.class_1_pp.values]\n",
    "Y_pp.head(10)\n",
    "\n",
    "# pp = pd.DataFrame(y_pred_pp, columns=['Below_128k','Above_128k'])\n",
    "# #print pp.head()\n",
    "\n",
    "# pp['pred_thresh10'] = [1 if x >= 0.10 else 0 for x in pp.Above_128k.values]\n",
    "# pp.head()\n"
   ]
  },
  {
   "cell_type": "code",
   "execution_count": 156,
   "metadata": {
    "collapsed": false
   },
   "outputs": [
    {
     "data": {
      "text/html": [
       "<div>\n",
       "<table border=\"1\" class=\"dataframe\">\n",
       "  <thead>\n",
       "    <tr style=\"text-align: right;\">\n",
       "      <th></th>\n",
       "      <th>predicted_below_$128k</th>\n",
       "      <th>predicted_above_$128k</th>\n",
       "    </tr>\n",
       "  </thead>\n",
       "  <tbody>\n",
       "    <tr>\n",
       "      <th>Below 128k</th>\n",
       "      <td>53</td>\n",
       "      <td>0</td>\n",
       "    </tr>\n",
       "    <tr>\n",
       "      <th>Above $128k</th>\n",
       "      <td>84</td>\n",
       "      <td>0</td>\n",
       "    </tr>\n",
       "  </tbody>\n",
       "</table>\n",
       "</div>"
      ],
      "text/plain": [
       "             predicted_below_$128k  predicted_above_$128k\n",
       "Below 128k                      53                      0\n",
       "Above $128k                     84                      0"
      ]
     },
     "execution_count": 156,
     "metadata": {},
     "output_type": "execute_result"
    }
   ],
   "source": [
    "#Recompute confusion matrix using threshold\n",
    "\n",
    "conmat = np.array(confusion_matrix(y, pp.pred_thresh10, labels=[1,0]))\n",
    "\n",
    "confusion = pd.DataFrame(conmat, index=['Below 128k', 'Above $128k'],\n",
    "                         columns=['predicted_below_$128k','predicted_above_$128k'])\n",
    "confusion"
   ]
  },
  {
   "cell_type": "markdown",
   "metadata": {},
   "source": [
    "Notice that by lowering the threshold we are move all salary guess into the lower category."
   ]
  },
  {
   "cell_type": "code",
   "execution_count": 158,
   "metadata": {
    "collapsed": false
   },
   "outputs": [
    {
     "data": {
      "image/png": "[encoded data removed]",
      "text/plain": [
       "<matplotlib.figure.Figure at 0x11ce3d810>"
      ]
     },
     "metadata": {},
     "output_type": "display_data"
    }
   ],
   "source": [
    "# For class 1, find the area under the curve with adjusted threshold\n",
    "#This should look more square but it is just the same as above.\n",
    "\n",
    "fpr, tpr, _ = roc_curve(y, Y_pp.class_1_pp)\n",
    "roc_auc = auc(fpr, tpr)\n",
    "\n",
    "# Plot of a ROC curve for class 1 (has_cancer)\n",
    "plt.figure(figsize=[8,8])\n",
    "plt.plot(fpr, tpr, label='ROC curve (area = %0.2f)' % roc_auc, linewidth=4)\n",
    "plt.plot([0, 1], [0, 1], 'k--', linewidth=4)\n",
    "plt.xlim([-0.05, 1.0])\n",
    "plt.ylim([-0.05, 1.05])\n",
    "plt.xlabel('False Positive Rate', fontsize=18)\n",
    "plt.ylabel('True Positive Rate', fontsize=18)\n",
    "plt.title('Receiver operating characteristic for salaries above $128k', fontsize=18)\n",
    "plt.legend(loc=\"lower right\")\n",
    "plt.show()"
   ]
  },
  {
   "cell_type": "code",
   "execution_count": null,
   "metadata": {
    "collapsed": true
   },
   "outputs": [],
   "source": [
    "#The above is incorrect.  It should look square since all predicitons are in the lower category."
   ]
  }
 ],
 "metadata": {
  "kernelspec": {
   "display_name": "Python 2",
   "language": "python",
   "name": "python2"
  },
  "language_info": {
   "codemirror_mode": {
    "name": "ipython",
    "version": 2
   },
   "file_extension": ".py",
   "mimetype": "text/x-python",
   "name": "python",
   "nbconvert_exporter": "python",
   "pygments_lexer": "ipython2",
   "version": "2.7.13"
  }
 },
 "nbformat": 4,
 "nbformat_minor": 2
}
